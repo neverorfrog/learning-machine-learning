{
  "cells": [
    {
      "cell_type": "markdown",
      "metadata": {
        "id": "K1Ldrsw3gyYK"
      },
      "source": [
        "# Machine Learning - Exercise 6\n",
        "# Linear/kernel Regression\n",
        "\n",
        "Example adapted from \n",
        "https://scikit-learn.org/stable/auto_examples/linear_model/plot_ols.html#sphx-glr-auto-examples-linear-model-plot-ols-py"
      ]
    },
    {
      "cell_type": "markdown",
      "metadata": {
        "id": "4HDgIK66g8oc"
      },
      "source": [
        "## Import libraries and load data set\n",
        "\n",
        "Using [Diabetes dataset](https://scikit-learn.org/stable/datasets/toy_dataset.html#diabetes-dataset)\n",
        "\n",
        "For visualization purposes, data set is reduced to 1 dimension."
      ]
    },
    {
      "cell_type": "code",
      "execution_count": 1,
      "metadata": {
        "colab": {
          "base_uri": "https://localhost:8080/"
        },
        "id": "vGM7ZZulbRfT",
        "outputId": "168edccd-6af9-4503-bfea-9e582c80a379"
      },
      "outputs": [
        {
          "name": "stdout",
          "output_type": "stream",
          "text": [
            "Dataset: diabetes\n",
            "Number of features: 10\n",
            "Number of samples: 442\n",
            "Training set size: 422\n",
            "Test set size: 20\n",
            "Target range: [25.0, 346.0]\n"
          ]
        }
      ],
      "source": [
        "import matplotlib.pyplot as plt\n",
        "import numpy as np\n",
        "from sklearn import datasets, linear_model\n",
        "from sklearn.metrics import mean_squared_error, r2_score\n",
        "from sklearn.svm import SVR\n",
        "\n",
        "\n",
        "# Load the diabetes dataset\n",
        "diabetes = datasets.load_diabetes()\n",
        "\n",
        "print('Dataset: diabetes')\n",
        "print('Number of features: %d' %diabetes.data.shape[1])\n",
        "print('Number of samples: %d' %diabetes.data.shape[0])\n",
        "\n",
        "# Use only one feature\n",
        "diabetes_X = diabetes.data[:, np.newaxis, 2]\n",
        "\n",
        "\n",
        "# Split the data into training/testing sets\n",
        "diabetes_X_train = diabetes_X[:-20]\n",
        "diabetes_X_test = diabetes_X[-20:]\n",
        "\n",
        "# Split the targets into training/testing sets\n",
        "diabetes_y_train = diabetes.target[:-20]\n",
        "diabetes_y_test = diabetes.target[-20:]\n",
        "\n",
        "print('Training set size: %d' %len(diabetes_X_train))\n",
        "print('Test set size: %d' %len(diabetes_X_test))\n",
        "\n",
        "print('Target range: [%.1f, %.1f]' %(min(diabetes.target),max(diabetes.target)))"
      ]
    },
    {
      "cell_type": "markdown",
      "metadata": {
        "id": "me8_rH3ahELo"
      },
      "source": [
        "## Train regression model\n",
        "\n",
        "*   Linear regression ([info](https://scikit-learn.org/stable/modules/generated/sklearn.linear_model.LinearRegression.html))\n",
        "*   SVM with linear kernel ([info](https://scikit-learn.org/stable/modules/generated/sklearn.svm.SVR.html))\n",
        "*   SVM with polynomial kernel ([info](https://scikit-learn.org/stable/modules/generated/sklearn.svm.SVR.html))\n",
        "\n",
        "\n"
      ]
    },
    {
      "cell_type": "code",
      "execution_count": 2,
      "metadata": {
        "id": "k3b_tqSabpU9"
      },
      "outputs": [],
      "source": [
        "model_type = \"linear_regression\"  # \"linear_regression\", \"linear_svm\", \"poly_svm\"\n",
        "\n",
        "if model_type == \"linear_regression\":\n",
        "  # Create linear regression object\n",
        "  model = linear_model.LinearRegression()\n",
        "  # Train the model using the training sets\n",
        "  model.fit(diabetes_X_train, diabetes_y_train)\n",
        "\n",
        "elif model_type == \"linear_svm\":\n",
        "  # SVM regression\n",
        "  model = SVR(kernel='linear', C=1.5)\n",
        "  # Train the model using the training sets\n",
        "  model.fit(diabetes_X_train, diabetes_y_train)\n",
        "\n",
        "elif model_type == \"poly_svm\":\n",
        "  # SVM polynomial regression\n",
        "  model = SVR(kernel='poly', C=1.5, degree=3, gamma='scale')\n",
        "  # Train the model using the training sets\n",
        "  model.fit(diabetes_X_train, diabetes_y_train)\n"
      ]
    },
    {
      "cell_type": "markdown",
      "metadata": {
        "id": "FZBE0gClhWRM"
      },
      "source": [
        "## Prediction"
      ]
    },
    {
      "cell_type": "code",
      "execution_count": 3,
      "metadata": {
        "colab": {
          "base_uri": "https://localhost:8080/"
        },
        "id": "nkM89Q6ehYWG",
        "outputId": "74553c05-5011-4cd8-d8b3-24f9e7fe7da0"
      },
      "outputs": [
        {
          "name": "stdout",
          "output_type": "stream",
          "text": [
            "Mean squared error: 2548.07\n",
            "Regression score: 0.47\n"
          ]
        }
      ],
      "source": [
        "# Make predictions using the testing set\n",
        "diabetes_y_pred = model.predict(diabetes_X_test)\n",
        "\n",
        "# The mean squared error\n",
        "print(\"Mean squared error: %.2f\"\n",
        "      % mean_squared_error(diabetes_y_test, diabetes_y_pred))\n",
        "\n",
        "# R2 regression score: 1 is perfect prediction\n",
        "print('Regression score: %.2f' % r2_score(diabetes_y_test, diabetes_y_pred))\n"
      ]
    },
    {
      "cell_type": "markdown",
      "metadata": {
        "id": "dGhr0v7ohRnj"
      },
      "source": [
        "## Plot results"
      ]
    },
    {
      "cell_type": "code",
      "execution_count": 4,
      "metadata": {
        "colab": {
          "base_uri": "https://localhost:8080/",
          "height": 252
        },
        "id": "sRsKTn2cbkre",
        "outputId": "0fc6d8a0-25da-4ec5-8e3c-caf1ea21dd58"
      },
      "outputs": [
        {
          "data": {
            "image/png": "[encoded data removed]",
            "text/plain": [
              "<Figure size 640x480 with 1 Axes>"
            ]
          },
          "metadata": {},
          "output_type": "display_data"
        }
      ],
      "source": [
        "# Plot outputs\n",
        "plt.scatter(diabetes_X_test, diabetes_y_test,  color='black')\n",
        "plt.scatter(diabetes_X_test, diabetes_y_pred, color='red', linewidth=3)\n",
        "\n",
        "plt.xticks(())\n",
        "plt.yticks(())\n",
        "plt.show()"
      ]
    },
    {
      "cell_type": "markdown",
      "metadata": {
        "id": "u7O88O8OCjgB"
      },
      "source": [
        "# Home Exercises\n",
        "\n",
        "Tune the SVM regressors on a held-out validation set.\n",
        "\n",
        "**Question 1**\n",
        "\n",
        "Consider the hyper-parameter C in the Linear SVM and plot the testing performance as the paramater varies.\n",
        "\n",
        "**Question 2**\n",
        "\n",
        "Consider the hyper-parameters C and degree of the polynomial in the Polynomial SVM. Perform a grid search and show the obtained results.\n"
      ]
    }
  ],
  "metadata": {
    "colab": {
      "provenance": []
    },
    "kernelspec": {
      "display_name": "Python 3.10.6 64-bit",
      "language": "python",
      "name": "python3"
    },
    "language_info": {
      "codemirror_mode": {
        "name": "ipython",
        "version": 3
      },
      "file_extension": ".py",
      "mimetype": "text/x-python",
      "name": "python",
      "nbconvert_exporter": "python",
      "pygments_lexer": "ipython3",
      "version": "3.10.6"
    },
    "vscode": {
      "interpreter": {
        "hash": "916dbcbb3f70747c44a77c7bcd40155683ae19c65e1c03b4aa3499c5328201f1"
      }
    }
  },
  "nbformat": 4,
  "nbformat_minor": 0
}
