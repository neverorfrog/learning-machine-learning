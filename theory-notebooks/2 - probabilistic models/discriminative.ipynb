{
 "cells": [
  {
   "attachments": {},
   "cell_type": "markdown",
   "metadata": {},
   "source": [
    "# Logistic Regression"
   ]
  },
  {
   "cell_type": "markdown",
   "metadata": {},
   "source": [
    "## Hypothesis space\n",
    "- Samples of dimension $ d $ \n",
    "- Linearly separable  \n",
    "$ \\implies $ \n",
    "  - $h_w(x)$ produces a linear discriminant of dimension $ d-1 $ (eg with two features we'll have a line) \n",
    "  - linear discriminant expressed as $ w^Tx + b = 0$\n",
    "  - if $ x_0 = 1 $ for every sample and $ w_0 = b $ then it reduces to $ w^Tx = 0$\n",
    "- Specifically we use the sigmoid function: $h_w(x) = g(w^Tx) = \\frac{1}{1 + e^{-w^Tx}}$"
   ]
  },
  {
   "cell_type": "code",
   "execution_count": 1,
   "metadata": {},
   "outputs": [
    {
     "data": {
      "image/png": "[encoded data removed]",
      "text/plain": [
       "<Figure size 640x480 with 1 Axes>"
      ]
     },
     "metadata": {},
     "output_type": "display_data"
    }
   ],
   "source": [
    "import numpy as np\n",
    "import matplotlib.pyplot as plt\n",
    "def logisticFunction(t):\n",
    "    return 1/(1+np.exp(-t))\n",
    "\n",
    "t = np.arange(-5,5,0.01)\n",
    "y = logisticFunction(t)\n",
    "\n",
    "plt.plot(t,y); plt.grid()"
   ]
  },
  {
   "cell_type": "markdown",
   "metadata": {},
   "source": [
    "## So how do we predict\n",
    "- Supposing we have two classes, 0 and 1  \n",
    "- By imposing a threshold at - let's say - 0.5\n",
    "  - If $g(w^Tx) \\geq 0.5$ then we predict class 1\n",
    "  - If $g(w^Tx) < 0.5$ then we predict class 0\n",
    "\n",
    "## Role of the bias?\n",
    "- Since the bias doesn't interact directly with the features, it simply shifts the prediction even before it happens"
   ]
  },
  {
   "attachments": {},
   "cell_type": "markdown",
   "metadata": {},
   "source": [
    "## How do we fit $w$ ?\n",
    "\n",
    "### Likelihood \n",
    "- $ l(w) = p(y|x) = (h_w(x))^y * (1-h_w(x))^{1-y} $ where $y$ can be either $0$ or $1$\n",
    "- In words, given certain features, $y$ is $1$ with probability $h_w(x)$ and $0$ with probability $1-h_w(x)$\n",
    "\n",
    "**Using maximum likelihood**\n",
    "- At each step we update the weights in the direction of the gradient of the likelihood function, maximising it  \n",
    "- Udate rule : $w_j = w_j + \\alpha \\frac{\\partial l}{\\partial w_j} = w_j + \\alpha (y - h_w(x))x_j $ \n",
    "- We would reach the same result by considering a squared error as loss function\n",
    "\n",
    "## Loss function\n",
    "$ L(w) = \\begin{cases} -log(h_w(x)) & \\text{if} & y = 1 \\\\ -log(1 - h_w(x)) & \\text{if} & y = 0 \\end{cases}$  \n",
    "OR ALSO  \n",
    "$ L(w) = y(-log(h_w(x))) + (1-y)(-log(1 - h_w(x))) $ "
   ]
  },
  {
   "cell_type": "code",
   "execution_count": 2,
   "metadata": {},
   "outputs": [
    {
     "ename": "ImportError",
     "evalue": "cannot import name 'plotTwoLogLosses' from 'utils' (unknown location)",
     "output_type": "error",
     "traceback": [
      "\u001b[0;31m---------------------------------------------------------------------------\u001b[0m",
      "\u001b[0;31mImportError\u001b[0m                               Traceback (most recent call last)",
      "Cell \u001b[0;32mIn[2], line 1\u001b[0m\n\u001b[0;32m----> 1\u001b[0m \u001b[38;5;28;01mfrom\u001b[39;00m \u001b[38;5;21;01mutils\u001b[39;00m \u001b[38;5;28;01mimport\u001b[39;00m plotTwoLogLosses\n\u001b[1;32m      2\u001b[0m plotTwoLogLosses()\n",
      "\u001b[0;31mImportError\u001b[0m: cannot import name 'plotTwoLogLosses' from 'utils' (unknown location)"
     ]
    }
   ],
   "source": [
    "from utils import plotTwoLogLosses\n",
    "plotTwoLogLosses()"
   ]
  },
  {
   "attachments": {},
   "cell_type": "markdown",
   "metadata": {},
   "source": [
    "### Example"
   ]
  },
  {
   "cell_type": "code",
   "execution_count": null,
   "metadata": {},
   "outputs": [],
   "source": [
    "# class LogisticRegressionScratch(Classifier): \n",
    "#     \"\"\"The logistic regression model implemented from scratch.\"\"\"\n",
    "#     def __init__(self, input_dim, lr, sigma=0.01):\n",
    "#         super().__init__()\n",
    "#         self.save_hyperparameters()\n",
    "#         torch.manual_seed(1)\n",
    "#         self.w = 0.01 * (torch.rand(input_dim, requires_grad= True).reshape(-1,1) - 0.5)\n",
    "#         self.b = torch.ones(1, requires_grad= True) * (-8)\n",
    "        \n",
    "#     #That's basically all our model amounts to when computing a label\n",
    "#     def forward(self, X):\n",
    "#         z = (torch.matmul(X,self.w) + self.b)\n",
    "#         return (1/(1 + torch.exp(-z))).squeeze() #since i know it's a vector, better having just one dim\n",
    "    \n",
    "#     def predict(self, y_hat):\n",
    "#         return y_hat >= 0.5\n",
    "\n",
    "#     # The loss function is computed over all the samples in the considered minibatch\n",
    "#     def loss(self, y_hat, y):\n",
    "#         y = y.type(torch.float32)\n",
    "#         l_one = torch.matmul(-y, torch.log(y_hat))\n",
    "#         l_zero = torch.matmul(-(1-y), torch.log(1-y_hat))\n",
    "#         return torch.sum(l_one + l_zero) / self.trainer.batch_size\n",
    "    \n",
    "#     def training_step(self, batch):\n",
    "#         #Forward Propagation\n",
    "#         X = torch.tensor(*batch[:-1]) #features\n",
    "#         y_hat = self(X) #extraction of X and forward propagation\n",
    "#         y = batch[-1] #labels\n",
    "#         loss = self.loss(y_hat, y)\n",
    "#         self.trainer.plot('loss', loss, self.device, train = True)\n",
    "        \n",
    "#         #Backward Propagation\n",
    "#         error = (y_hat - y)\n",
    "#         n = len(self.w)\n",
    "#         m = self.trainer.batch_size\n",
    "        \n",
    "#         dj_db = (1 / m) * torch.sum(error)\n",
    "#         dj_dw = torch.tensor([(1/m) * torch.sum(torch.matmul(error,X[:,j])) for j in range(n)]).reshape(-1,1)\n",
    "        \n",
    "#         self.w = self.w - self.lr * dj_dw\n",
    "#         self.b = self.b - self.lr * dj_db\n",
    "\n",
    "#     def validation_step(self, batch):\n",
    "#         Y_hat = self(*batch[:-1])\n",
    "#         self.trainer.plot('loss', self.loss(Y_hat, batch[-1]), self.device, train=False)\n",
    "#         self.trainer.plot('acc', self.accuracy(Y_hat, batch[-1]), self.device, train=False)\n",
    "    \n",
    "#     def configure_optimizers(self):\n",
    "#         return None\n",
    "    \n",
    "    \n",
    "# class LogisticRegression(Classifier): \n",
    "#     \"\"\"The logistic regression model.\"\"\"\n",
    "#     def __init__(self, input_dim, lr):\n",
    "#         super().__init__()\n",
    "#         self.save_hyperparameters()\n",
    "#         self.net = torch.nn.Linear(input_dim, 1)\n",
    "#         self.net.weight.data.normal_(0, 0.01)\n",
    "#         self.net.bias.data.fill_(0)\n",
    "\n",
    "#     #That's basically all our model amounts to when computing a label\n",
    "#     def forward(self, X):\n",
    "#         return torch.sigmoid(self.net(-X)).squeeze()\n",
    "\n",
    "#     # The loss function is computed over all the samples in the considered minibatch\n",
    "#     def loss(self, y_hat, y): \n",
    "#         y = y.type(torch.float32) \n",
    "#         return nn.BCELoss()(y_hat, y)\n",
    "    \n",
    "#     def configure_optimizers(self):\n",
    "#         return torch.optim.SGD(self.parameters(), self.lr)"
   ]
  },
  {
   "cell_type": "code",
   "execution_count": null,
   "metadata": {},
   "outputs": [],
   "source": [
    "from toolbox.base_models import *\n",
    "from toolbox.trainer import *\n",
    "from toolbox.datamodule import *\n",
    "\n",
    "data = TXTDataLoader(txtfile = \"../data/log_reg.txt\")\n",
    "# print(\"First five elements in X_train are:\\n\", data.X[:5])\n",
    "# print(\"Type of X_train:\",type(data.X))\n",
    "# data.summarize()\n",
    "\n",
    "model = LogisticRegressionScratch(input_dim = 2, lr=0.0001)\n",
    "trainer = Trainer(max_epochs = 15, plot_train_per_epoch = 1, plot_valid_per_epoch = 1) \n",
    "trainer.fit_scratch(model,data)"
   ]
  },
  {
   "cell_type": "code",
   "execution_count": null,
   "metadata": {},
   "outputs": [],
   "source": [
    "import tensorflow_datasets as tfds\n",
    "import torch\n",
    "# You can see the load documentation here: https://www.tensorflow.org/datasets\n",
    "# The dataset itself is described here: https://www.tensorflow.org/datasets/catalog/penguins\n",
    "penguins = tfds.load('penguins', as_supervised=True, split='train')"
   ]
  },
  {
   "cell_type": "code",
   "execution_count": null,
   "metadata": {},
   "outputs": [],
   "source": [
    "# By default, the Dataset object is an iterator over the elements.\n",
    "# The instructions below extract the underlying tensors.\n",
    "X, y = penguins.batch(500).get_single_element() #gets first 500 elements\n",
    "X, y = X.numpy(), y.numpy()\n",
    "# One row is an example, one column a feature of the input.\n",
    "X.shape, X[0]"
   ]
  },
  {
   "cell_type": "code",
   "execution_count": null,
   "metadata": {},
   "outputs": [],
   "source": [
    "# We split in a training set and a test set using the train_test_split utility from sklearn.\n",
    "from sklearn.model_selection import train_test_split\n",
    "Xtrain, Xtest, ytrain, ytest = train_test_split(X, y, stratify=y)\n",
    "Xtrain = torch.from_numpy(Xtrain).float()\n",
    "Xtest = torch.from_numpy(Xtest).float()\n",
    "ytrain = torch.from_numpy(ytrain).long()\n",
    "ytest = torch.from_numpy(ytest).long()"
   ]
  },
  {
   "attachments": {},
   "cell_type": "markdown",
   "metadata": {},
   "source": [
    "#### Exercises\n",
    "\n",
    "1. We have not used the test portion of the dataset, modify the training loop to include tracking of test loss and test accuracy.\n",
    "\n",
    "2. Add more metrics to be tracked, e.g., multi-class F1-score. The torchmetrics package has a lot of options in this sense: https://torchmetrics.readthedocs.io/en/stable/.\n",
    "\n",
    "3. Momentum is a simple technique to improve the convergence speed of gradient descent. The key idea is to update each variable using a weighted average of the current gradient, and the gradient at the previous iteration (see Section 12.6 in the book). The weighting parameter is called the momentum weight. Implement momentum in the codelab, using a weight of 0.5."
   ]
  }
 ],
 "metadata": {
  "kernelspec": {
   "display_name": "base",
   "language": "python",
   "name": "python3"
  },
  "language_info": {
   "codemirror_mode": {
    "name": "ipython",
    "version": 3
   },
   "file_extension": ".py",
   "mimetype": "text/x-python",
   "name": "python",
   "nbconvert_exporter": "python",
   "pygments_lexer": "ipython3",
   "version": "3.11.5"
  },
  "orig_nbformat": 4
 },
 "nbformat": 4,
 "nbformat_minor": 2
}
