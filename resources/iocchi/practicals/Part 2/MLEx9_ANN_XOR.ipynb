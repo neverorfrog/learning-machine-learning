{
  "nbformat": 4,
  "nbformat_minor": 0,
  "metadata": {
    "colab": {
      "provenance": []
    },
    "kernelspec": {
      "name": "python3",
      "display_name": "Python 3"
    }
  },
  "cells": [
    {
      "cell_type": "markdown",
      "metadata": {
        "id": "K1Ldrsw3gyYK"
      },
      "source": [
        "# Machine Learning - Exercise 9\n",
        "# Artificial Neural Networks for XOR problem\n",
        "\n",
        "XOR function: f(x1,x2) -> {0,1}\n",
        "\n",
        "D = {(0,0,0), (0,1,1), (1,0,1), (1,1,0)}\n",
        "\n",
        "Non linearly separable.\n"
      ]
    },
    {
      "cell_type": "markdown",
      "metadata": {
        "id": "4HDgIK66g8oc"
      },
      "source": [
        "## Import libraries"
      ]
    },
    {
      "cell_type": "code",
      "metadata": {
        "id": "vGM7ZZulbRfT",
        "colab": {
          "base_uri": "https://localhost:8080/"
        },
        "outputId": "1c4c238e-c8ab-4b5a-c961-a6da007045a4"
      },
      "source": [
        "import random\n",
        "import matplotlib\n",
        "import matplotlib.pyplot as plt\n",
        "import numpy as np\n",
        "\n",
        "\n",
        "#import tensorflow.compat.v1 as tf\n",
        "#tf.disable_v2_behavior()\n",
        "import tensorflow as tf\n",
        "\n",
        "import tensorflow.keras\n",
        "from tensorflow.keras.models import Sequential, load_model\n",
        "from tensorflow.keras.layers import Dense, Dropout, Activation\n",
        "from tensorflow.keras.optimizers import SGD, RMSprop, Adagrad, Adam, Nadam\n",
        "\n",
        "print('Tensorflow ',tf.__version__)\n",
        "print('Keras ',tf.keras.__version__)\n"
      ],
      "execution_count": null,
      "outputs": [
        {
          "output_type": "stream",
          "name": "stdout",
          "text": [
            "Tensorflow  2.9.2\n",
            "Keras  2.9.0\n"
          ]
        }
      ]
    },
    {
      "cell_type": "markdown",
      "metadata": {
        "id": "nOa7QmaDlSBm"
      },
      "source": [
        "## Create data set\n",
        "\n",
        "Enable the noise flag to create a noisy XOR data set.\n",
        "\n",
        "Fix random seed to repeat experiments."
      ]
    },
    {
      "cell_type": "code",
      "metadata": {
        "id": "uQ_0054pI20V"
      },
      "source": [
        "# random seed\n",
        "rs = 20201108 # OK \n",
        "#rs = 20211107 # NO\n",
        "\n",
        "np.random.seed(rs)\n",
        "tf.random.set_seed(rs)"
      ],
      "execution_count": null,
      "outputs": []
    },
    {
      "cell_type": "markdown",
      "metadata": {
        "id": "VHB2k_9WI-zb"
      },
      "source": [
        "Set noise flag"
      ]
    },
    {
      "cell_type": "code",
      "metadata": {
        "id": "j0ekq6GIJCRY"
      },
      "source": [
        "# generatining noisy data\n",
        "noise = False"
      ],
      "execution_count": null,
      "outputs": []
    },
    {
      "cell_type": "markdown",
      "metadata": {
        "id": "dbegYhnEI6U8"
      },
      "source": [
        "Generate the data set\n"
      ]
    },
    {
      "cell_type": "code",
      "metadata": {
        "id": "8_56HRZylWV4",
        "colab": {
          "base_uri": "https://localhost:8080/",
          "height": 333
        },
        "outputId": "23596704-b0a8-4317-e571-712fdc2eee47"
      },
      "source": [
        "# Define the XOR dataset\n",
        "xor_db = np.array([[0,0,0], [0,1,1], [1,0,1], [1,1,0]], dtype=float)\n",
        "\n",
        "if (noise):\n",
        "  for i in range(4):\n",
        "    for k in range(10):\n",
        "      d = xor_db[i]\n",
        "      d[0] += np.random.random()*0.2 - 0.1\n",
        "      d[1] += np.random.random()*0.2 - 0.1\n",
        "      xor_db = np.vstack([xor_db, d])\n",
        "\n",
        "X = xor_db[:,0:-1]\n",
        "t = xor_db[:,-1]\n",
        "\n",
        "ninput = X.shape[1]\n",
        "nsamples = X.shape[0]\n",
        "\n",
        "print('Dataset: XOR')\n",
        "print('Number of features: %d' %ninput)\n",
        "print('Number of samples: %d' %nsamples)\n",
        "\n",
        "# print options\n",
        "np.set_printoptions(precision=3, formatter={'float':lambda x: '%6.3f' %x}, suppress=True)\n",
        "\n",
        "# plot dataset\n",
        "\n",
        "plt.title(\"Data set\")\n",
        "plt.xlim(xmin = -0.5, xmax = 1.5)\n",
        "plt.ylim(ymin = -0.5, ymax = 1.5)\n",
        "\n",
        "cm = plt.cm.get_cmap('rainbow')\n",
        "plt.scatter(X[:,0], X[:,1], c=t, cmap=cm)\n",
        "\n",
        "plt.show()"
      ],
      "execution_count": null,
      "outputs": [
        {
          "output_type": "stream",
          "name": "stdout",
          "text": [
            "Dataset: XOR\n",
            "Number of features: 2\n",
            "Number of samples: 4\n"
          ]
        },
        {
          "output_type": "display_data",
          "data": {
            "text/plain": [
              "<Figure size 432x288 with 1 Axes>"
            ],
            "image/png": "[encoded data removed]"
          },
          "metadata": {
            "needs_background": "light"
          }
        }
      ]
    },
    {
      "cell_type": "markdown",
      "metadata": {
        "id": "me8_rH3ahELo"
      },
      "source": [
        "## ANN for XOR dataset\n",
        "\n",
        "Create model with 2 layers:\n",
        "\n",
        "hidden layer with two ReLU units, \n",
        "\n",
        "output layer with 1 linear unit.\n",
        "\n",
        "Fix random seed to repreat experiments. Two values are given showing convergence to global vs. local minimum."
      ]
    },
    {
      "cell_type": "markdown",
      "metadata": {
        "id": "TxuaAuL9L2WR"
      },
      "source": [
        "Define the model layout and \n",
        "parameters"
      ]
    },
    {
      "cell_type": "code",
      "metadata": {
        "id": "6NJpyriUL4ad"
      },
      "source": [
        "nh = 2 # nr. of hidden units\n",
        "acth = 'relu' # activation function for hidden units\n",
        "no = 1 # nr. of output units\n",
        "acto = 'linear' # activation function for output unit\n",
        "lossfn = 'mean_squared_error' # loss function"
      ],
      "execution_count": null,
      "outputs": []
    },
    {
      "cell_type": "markdown",
      "metadata": {
        "id": "ntZDoxxiLv01"
      },
      "source": [
        "Choose the optimizer"
      ]
    },
    {
      "cell_type": "code",
      "metadata": {
        "id": "5OiCVXtRLzM_"
      },
      "source": [
        "lrate = 0.001 # learning rate\n",
        "\n",
        "#opt = SGD(learning_rate=lrate) # SGD optimizer\n",
        "opt = RMSprop(learning_rate=lrate) # RMSprop optimizer"
      ],
      "execution_count": null,
      "outputs": []
    },
    {
      "cell_type": "markdown",
      "metadata": {
        "id": "0VKKAuVmL_Ap"
      },
      "source": [
        "Create the ANN model"
      ]
    },
    {
      "cell_type": "code",
      "metadata": {
        "id": "k3b_tqSabpU9",
        "colab": {
          "base_uri": "https://localhost:8080/"
        },
        "outputId": "66b14a20-c681-4682-fcaf-e065458dc5f6"
      },
      "source": [
        "# Create ANN model\n",
        "model = Sequential()\n",
        "model.add(Dense(nh, input_dim=ninput, activation=acth))\n",
        "model.add(Dense(no, activation=acto))\n",
        "\n",
        "model.compile(loss=lossfn, optimizer=opt, metrics=['accuracy'])\n",
        "\n",
        "print(model.summary())"
      ],
      "execution_count": null,
      "outputs": [
        {
          "output_type": "stream",
          "name": "stdout",
          "text": [
            "Model: \"sequential\"\n",
            "_________________________________________________________________\n",
            " Layer (type)                Output Shape              Param #   \n",
            "=================================================================\n",
            " dense (Dense)               (None, 2)                 6         \n",
            "                                                                 \n",
            " dense_1 (Dense)             (None, 1)                 3         \n",
            "                                                                 \n",
            "=================================================================\n",
            "Total params: 9\n",
            "Trainable params: 9\n",
            "Non-trainable params: 0\n",
            "_________________________________________________________________\n",
            "None\n"
          ]
        }
      ]
    },
    {
      "cell_type": "markdown",
      "metadata": {
        "id": "7WGtnOsZhMzO"
      },
      "source": [
        "## Training"
      ]
    },
    {
      "cell_type": "markdown",
      "metadata": {
        "id": "Ff8ZrDFRMJp9"
      },
      "source": [
        "Training parameters"
      ]
    },
    {
      "cell_type": "code",
      "metadata": {
        "id": "rHQLdgJ_MSeA"
      },
      "source": [
        "nepochs = 100     # nr. of learning steps\n",
        "batch_size = 8    # batch_size\n",
        "niter = 0         # iteration counter\n",
        "hv = []           # history vector (for plotting)"
      ],
      "execution_count": null,
      "outputs": []
    },
    {
      "cell_type": "markdown",
      "metadata": {
        "id": "r4q3zj6ZMWgs"
      },
      "source": [
        "Training step"
      ]
    },
    {
      "cell_type": "code",
      "metadata": {
        "id": "4zqXyBhEzvcB"
      },
      "source": [
        "for i in range(10):\n",
        "  h = model.fit(X, t, batch_size=batch_size, epochs=nepochs, verbose=0)\n",
        "  hv.append(h)\n",
        "  niter += nepochs\n",
        "  current_loss = h.history['loss'][len(h.history['loss'])-1]\n",
        "  current_acc = h.history['accuracy'][len(h.history['accuracy'])-1]\n",
        "  print(\"Iteration %d - Accuracy %.2f Loss %f\" \n",
        "      %(niter,current_acc,current_loss))\n",
        "  \n",
        "  if (X.shape[0]==4):\n",
        "    yp = model.predict(X)\n",
        "    print(\"Test %s\" %(np.transpose(yp)))\n",
        "    print(\"-----------------------------------------------------\")"
      ],
      "execution_count": null,
      "outputs": []
    },
    {
      "cell_type": "markdown",
      "metadata": {
        "id": "FZBE0gClhWRM"
      },
      "source": [
        "## Plot results"
      ]
    },
    {
      "cell_type": "code",
      "metadata": {
        "id": "nkM89Q6ehYWG"
      },
      "source": [
        "ploss = []\n",
        "pacc = []\n",
        "\n",
        "for i in range(len(hv)):\n",
        "  ploss += hv[i].history['loss']\n",
        "  pacc  += hv[i].history['accuracy']\n",
        "print(len(ploss))\n",
        "\n",
        "plt.title(\"Loss\")\n",
        "plt.ylim(-0.02,max(ploss))\n",
        "plt.plot(ploss, color='red')\n",
        "plt.show()\n",
        "\n",
        "plt.title(\"Accuracy\")\n",
        "plt.ylim(min(pacc),1.02)\n",
        "plt.plot(pacc, color='blue')\n",
        "plt.show()\n"
      ],
      "execution_count": null,
      "outputs": []
    },
    {
      "cell_type": "markdown",
      "metadata": {
        "id": "dGhr0v7ohRnj"
      },
      "source": [
        "## Analysis of the model"
      ]
    },
    {
      "cell_type": "code",
      "metadata": {
        "id": "sRsKTn2cbkre"
      },
      "source": [
        "W = model.get_weights()\n",
        "print('W = ',W)\n",
        "\n",
        "H = []\n",
        "\n",
        "for x in X:\n",
        "  v = np.transpose(W[0]).dot(x) + W[1]\n",
        "  h = max([0,0],list(v))  # relu\n",
        "  H += [h]\n",
        "\n",
        "H = np.array(H)\n",
        "if H.shape[0]==4:\n",
        "  print('H = ',H)\n",
        "\n",
        "# plot h values\n",
        "\n",
        "plt.title(\"Hidden layer values\")\n",
        "\n",
        "cm = plt.cm.get_cmap('rainbow')\n",
        "plt.scatter(H[:,0], H[:,1], c=t, cmap=cm)\n",
        "\n",
        "plt.show()\n"
      ],
      "execution_count": null,
      "outputs": []
    },
    {
      "cell_type": "markdown",
      "metadata": {
        "id": "jTIrT76Yzlep"
      },
      "source": [
        "# Home Exercises\n",
        "\n",
        "**Question 1**\n",
        "\n",
        "Compare the results when using different values of the learning rate. \n",
        "\n",
        "**Question 2**\n",
        "\n",
        "What happens when the learning rate is too high?\n",
        "\n",
        "**Question 3**\n",
        "\n",
        "Evaluate impact of random seed to performance, fill a line inside this shared sheet repeating the code in this exercise with your matricola code as random seed.\n",
        "\n",
        "https://docs.google.com/spreadsheets/d/1ZH6QZWpEMj1Mwe_uTQWxHboSakBl8j30MqbgIhDSMjA"
      ]
    }
  ]
}