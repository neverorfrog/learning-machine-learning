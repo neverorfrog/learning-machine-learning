{
  "nbformat": 4,
  "nbformat_minor": 0,
  "metadata": {
    "colab": {
      "provenance": []
    },
    "kernelspec": {
      "name": "python3",
      "display_name": "Python 3"
    },
    "accelerator": "GPU"
  },
  "cells": [
    {
      "cell_type": "markdown",
      "metadata": {
        "id": "mapRwPb9nxTl"
      },
      "source": [
        "# ML Exercise 18\n",
        "# GAN for MNIST images\n",
        "\n",
        "Learn to generate digits from MNIST dataset."
      ]
    },
    {
      "cell_type": "code",
      "metadata": {
        "id": "QhlMvdKljY1y",
        "colab": {
          "base_uri": "https://localhost:8080/"
        },
        "outputId": "8a1c7420-1524-4ffc-b45a-1aca8b01c175"
      },
      "source": [
        "import numpy as np\n",
        "import tensorflow as tf\n",
        "from tensorflow import keras\n",
        "from keras import *\n",
        "#from keras.optimizers import *\n",
        "from tensorflow.keras.optimizers import Adam\n",
        "from keras.layers import *\n",
        "from keras.datasets import mnist\n",
        "from keras.utils.vis_utils import plot_model\n",
        "\n",
        "import matplotlib.pyplot as plt\n",
        " \n",
        "print(\"Tensorflow version %s\" %tf.__version__)\n",
        " \n",
        "device_name = tf.test.gpu_device_name()\n",
        "if device_name != '/device:GPU:0':\n",
        "  raise SystemError('GPU device not found')\n",
        "print('Found GPU at: {}'.format(device_name))"
      ],
      "execution_count": null,
      "outputs": [
        {
          "output_type": "stream",
          "text": [
            "Tensorflow version 2.3.0\n",
            "Found GPU at: /device:GPU:0\n"
          ],
          "name": "stdout"
        }
      ]
    },
    {
      "cell_type": "markdown",
      "metadata": {
        "id": "pgsE2ptQPggB"
      },
      "source": [
        "## Create the data set\n",
        "\n",
        "Choose only one target digit"
      ]
    },
    {
      "cell_type": "code",
      "metadata": {
        "id": "dCO9wj58MtWt"
      },
      "source": [
        "def loadData(target_digit = 0):\n",
        "\n",
        "  (X, Y), (_, _) = mnist.load_data()\n",
        "  #print(X.shape)\n",
        "  #print(Y.shape)\n",
        "\n",
        "  X_buffer = []\n",
        "\n",
        "  for i in range(0,Y.shape[0]):\n",
        "    if Y[i]==target_digit:\n",
        "      X_buffer.append(X[i])\n",
        "\n",
        "  X_train = np.asarray(X_buffer)\n",
        "  \n",
        "  print(\"Loading data for digit %d:\" %target_digit)\n",
        "  #print(X.shape)\n",
        "  print(X_train.shape)\n",
        "\n",
        "  return X_train\n",
        "\n",
        "# Test\n",
        "#X = loadData()"
      ],
      "execution_count": null,
      "outputs": []
    },
    {
      "cell_type": "markdown",
      "metadata": {
        "id": "J5JPj_6zRG8x"
      },
      "source": [
        "## Define the GAN model"
      ]
    },
    {
      "cell_type": "code",
      "metadata": {
        "id": "xo5fNF0vd2ys"
      },
      "source": [
        "class GAN():\n",
        " \n",
        "    def __init__(self, target_digit=0, CNN_AE=True, latent_dim=128):\n",
        "\n",
        "        self.img_rows = 28\n",
        "        self.img_cols = 28\n",
        "        self.channels = 1\n",
        "        self.img_shape = (self.img_rows, self.img_cols, self.channels)\n",
        " \n",
        "        optimizer = Adam(lr=0.0002, beta_1=0.5)\n",
        " \n",
        "        if CNN_AE:\n",
        "            disc_fn = self.build_discriminator_CNN\n",
        "            gen_fn = self.build_generator_CNN\n",
        "        else:\n",
        "            disc_fn = self.build_discriminator\n",
        "            gen_fn = self.build_generator\n",
        "\n",
        "        # Build and compile the discriminator\n",
        "        self.discriminator = disc_fn()\n",
        "        self.discriminator.compile(loss='binary_crossentropy',\n",
        "            optimizer=optimizer, metrics=['accuracy'])\n",
        "\n",
        "\n",
        "        # Latent space dimension for generator\n",
        "        self.latent_dim = latent_dim\n",
        "\n",
        "        # Output layer for generator (sigmoid or tanh)\n",
        "        self.Goutact = 'sigmoid'   # 'tanh' does not work with CNN ???\n",
        "\n",
        "        # Build and compile the generator\n",
        "        self.generator = gen_fn()\n",
        "        #self.generator.compile(loss='mse', optimizer=optimizer)\n",
        "  \n",
        "        # For the combined model we will only train the generator\n",
        "        self.discriminator.trainable = False\n",
        " \n",
        "        # The combined model  (stacked generator and discriminator) takes\n",
        "        # noise as input => generates images => determines validity\n",
        "        self.combined = Sequential()\n",
        "        self.combined.add(self.generator)\n",
        "        self.combined.add(self.discriminator)\n",
        "        self.combined.compile(loss='binary_crossentropy', optimizer=optimizer)\n",
        " \n",
        "        # plot the models\n",
        "        plot_model(self.discriminator, to_file='D.png', show_shapes=True, show_layer_names=True)\n",
        "        plot_model(self.generator, to_file='G.png', show_shapes=True, show_layer_names=True)\n",
        "        plot_model(self.combined, to_file='GAN.png', show_shapes=True, show_layer_names=True)\n",
        "\n",
        "        self.target = target_digit\n",
        "        # Load the dataset\n",
        "        self.X_train = loadData(self.target)\n",
        "\n",
        "        # Scale data according to G output layer\n",
        "        if (self.Goutact=='sigmoid'):\n",
        "          # Rescale to [0,1]\n",
        "          self.X_train = self.X_train.astype(np.float32) / 255.0\n",
        "        else:\n",
        "          # Rescale to [-1,1]\n",
        "          self.X_train = (self.X_train.astype(np.float32) - 127.5) / 127.5\n",
        "        \n",
        "        self.X_train = np.expand_dims(self.X_train, axis=3)\n",
        "\n",
        "        # Training epochs\n",
        "        self.epoch = 0\n",
        "\n",
        "\n",
        "    def build_generator(self):\n",
        " \n",
        "        noise_shape = (self.latent_dim,)\n",
        " \n",
        "        model = Sequential()\n",
        " \n",
        "        model.add(Dense(256, input_shape=noise_shape))\n",
        "        model.add(LeakyReLU(alpha=0.2))\n",
        "        model.add(BatchNormalization(momentum=0.8))\n",
        "        model.add(Dense(512))\n",
        "        model.add(LeakyReLU(alpha=0.2))\n",
        "        model.add(BatchNormalization(momentum=0.8))\n",
        "        model.add(Dense(1024))\n",
        "        model.add(LeakyReLU(alpha=0.2))\n",
        "        model.add(BatchNormalization(momentum=0.8))\n",
        "        model.add(Dense(np.prod(self.img_shape), activation=self.Goutact))\n",
        "        model.add(Reshape(self.img_shape))\n",
        " \n",
        "        #model.summary()\n",
        " \n",
        "        return model\n",
        "\n",
        " \n",
        "    def build_discriminator(self):\n",
        " \n",
        "        img_shape = (self.img_rows, self.img_cols, self.channels)\n",
        " \n",
        "        model = Sequential()\n",
        " \n",
        "        model.add(Flatten(input_shape=img_shape))\n",
        "        model.add(Dense(512))\n",
        "        model.add(LeakyReLU(alpha=0.2))\n",
        "        model.add(Dense(256))\n",
        "        model.add(LeakyReLU(alpha=0.2))\n",
        "        model.add(Dense(1, activation='sigmoid'))\n",
        " \n",
        "        return model\n",
        "\n",
        "\n",
        "    def build_generator_CNN(self):\n",
        "\n",
        "        noise_shape = (self.latent_dim,)\n",
        "\n",
        "        model = Sequential()\n",
        "        # foundation for 7x7 image\n",
        "        n_nodes = 128 * 7 * 7\n",
        "        model.add(Dense(n_nodes, input_dim=self.latent_dim))\n",
        "        model.add(LeakyReLU(alpha=0.2))\n",
        "        model.add(Reshape((7, 7, 128)))\n",
        "        # upsample to 14x14\n",
        "        model.add(Conv2DTranspose(128, (4,4), strides=(2,2), padding='same'))\n",
        "        model.add(LeakyReLU(alpha=0.2))\n",
        "        # upsample to 28x28\n",
        "        model.add(Conv2DTranspose(128, (4,4), strides=(2,2), padding='same'))\n",
        "        model.add(LeakyReLU(alpha=0.2))\n",
        "        model.add(Conv2D(1, (7,7), activation=self.Goutact, padding='same'))\n",
        "\n",
        "        return model\n",
        "\n",
        "\n",
        "    # define the standalone discriminator model\n",
        "    def build_discriminator_CNN(self):\n",
        "\n",
        "        img_shape = (self.img_rows, self.img_cols, self.channels)\n",
        "\n",
        "        model = Sequential()\n",
        "        model.add(Conv2D(64, (3,3), strides=(2, 2), padding='same', input_shape=img_shape))\n",
        "        model.add(LeakyReLU(alpha=0.2))\n",
        "        model.add(Dropout(0.4))\n",
        "        model.add(Conv2D(64, (3,3), strides=(2, 2), padding='same'))\n",
        "        model.add(LeakyReLU(alpha=0.2))\n",
        "        model.add(Dropout(0.4))\n",
        "        model.add(Flatten())\n",
        "        model.add(Dense(1, activation='sigmoid'))\n",
        "        #model.summary()\n",
        "\n",
        "        return model\n",
        "\n",
        "\n",
        "    def train(self, epochs, batch_size=128, save_interval=100, show_img=False):\n",
        "\n",
        "        half_batch = int(batch_size / 2)\n",
        " \n",
        "        last_epoch = self.epoch + epochs\n",
        "\n",
        "        self.save_imgs(self.epoch)\n",
        "        self.d_loss = []\n",
        "        self.g_loss = []\n",
        "\n",
        "        while self.epoch < last_epoch:\n",
        " \n",
        "            # ---------------------\n",
        "            #  Train Discriminator\n",
        "            # ---------------------\n",
        " \n",
        "            # Select a random half batch of images from dataset (real = 1)\n",
        "            idx = np.random.randint(0, self.X_train.shape[0], half_batch)\n",
        "            imgs = self.X_train[idx]\n",
        "            y_imgs = np.ones((half_batch, 1))\n",
        " \n",
        "            # Generate a half batch of images (fake = 0)\n",
        "            noise = np.random.normal(0, 1, (half_batch, self.latent_dim))\n",
        "            gen_imgs = self.generator.predict(noise)\n",
        "            y_gen = np.zeros((half_batch, 1))\n",
        " \n",
        "            # Train the discriminator\n",
        "\n",
        "            X, y = np.vstack((imgs, gen_imgs)), np.vstack((y_imgs, y_gen))\n",
        "            d_loss = self.discriminator.train_on_batch(X, y)\n",
        "            \n",
        "            self.d_loss.append(d_loss[0])\n",
        " \n",
        "            # ---------------------\n",
        "            #  Train Generator\n",
        "            # ---------------------\n",
        "            noise = np.random.normal(0, 1, (batch_size, self.latent_dim))\n",
        " \n",
        "            # The generator wants the discriminator to label the generated samples\n",
        "            # as valid (real = 1)\n",
        "            y_gennoise = np.ones((batch_size, 1))\n",
        " \n",
        "            # Train the generator\n",
        "            g_loss = self.combined.train_on_batch(noise, y_gennoise)\n",
        "\n",
        "            self.g_loss.append(g_loss)\n",
        " \n",
        "            self.epoch += 1\n",
        "\n",
        "            # If at save interval => save generated image samples\n",
        "            if self.epoch % save_interval == 0:\n",
        "                # Plot the progress                \n",
        "                print ( \"%d [D loss: %f, acc.: %.2f%%] [G loss: %f]\" % (self.epoch, d_loss[0], 100*d_loss[1], g_loss))\n",
        "                self.save_imgs(self.epoch,show_img=False)\n",
        "\n",
        "\n",
        "    def gen_imgs(self):\n",
        "        cc = 10\n",
        "        noise = np.random.normal(0, 1, (cc, self.latent_dim))\n",
        "        self.imgs = self.generator.predict(noise)\n",
        " \n",
        "        # Rescale images to [0,1]\n",
        "        if self.Goutact=='tanh':\n",
        "          self.imgs = 0.5 * self.imgs + 0.5\n",
        "\n",
        "\n",
        "    def save_imgs(self, epoch, show_img=False):\n",
        "        r, c = 2, 5\n",
        "        self.gen_imgs()\n",
        "\n",
        "        fig, axs = plt.subplots(r, c)\n",
        "        cnt = 0\n",
        "        for i in range(r):\n",
        "            for j in range(c):\n",
        "                axs[i,j].imshow(self.imgs[cnt, :,:,0], cmap='gray')\n",
        "                axs[i,j].axis('off')\n",
        "                cnt += 1\n",
        "        fig.savefig(\"mnist_%d_%05d.png\" %(self.target,epoch))\n",
        "        if show_img:\n",
        "            plt.show()\n",
        "        plt.close()\n",
        "\n",
        "\n",
        "    def show_images(self):\n",
        "        r, c = 2, 5\n",
        "        self.gen_imgs()\n",
        " \n",
        "        fig, axs = plt.subplots(r, c)\n",
        "        cnt = 0\n",
        "        for i in range(r):\n",
        "            for j in range(c):\n",
        "                axs[i,j].imshow(self.imgs[cnt, :,:,0], cmap='gray')\n",
        "                axs[i,j].axis('off')\n",
        "                cnt += 1\n",
        "        plt.show()\n",
        "        plt.close()\n",
        "\n",
        "\n",
        "    def save_model(self):\n",
        "      filename = 'G_model_%d_%05d.h5' %(self.target,self.epoch)\n",
        "      self.generator.save(filename)\n",
        "      filename = 'D_model_%d_%05d.h5' %(self.target,self.epoch)\n",
        "      self.discriminator.save(filename)\n",
        "      print(\"Models G/%s saved.\" %(filename))\n",
        "\n",
        "\n",
        "    def load_model(self,epoch):\n",
        "      self.epoch = epoch\n",
        "      filename = 'G_model_%d_%05d.h5' %(self.target,self.epoch)\n",
        "      self.generator.load_model(filename)\n",
        "      filename = 'D_model_%d_%05d.h5' %(self.target,self.epoch)\n",
        "      self.discriminator.save(filename)\n",
        "      print(\"Models G/%s loaded.\" %(filename))\n",
        "\n"
      ],
      "execution_count": null,
      "outputs": []
    },
    {
      "cell_type": "markdown",
      "metadata": {
        "id": "vU-u58Bfuw0E"
      },
      "source": [
        "## Create the GAN\n",
        "\n",
        "Choose the target_digit and the AE model (CNN_AE=True/False)"
      ]
    },
    {
      "cell_type": "code",
      "metadata": {
        "colab": {
          "base_uri": "https://localhost:8080/"
        },
        "id": "FxNecJu0uy88",
        "outputId": "e9dfd725-5bc8-45ef-c45d-e28b745ee933"
      },
      "source": [
        "# Create the model\n",
        "\n",
        "gan = GAN(target_digit=3,CNN_AE=True,latent_dim=256)"
      ],
      "execution_count": null,
      "outputs": [
        {
          "output_type": "stream",
          "text": [
            "Loading data for digit 3:\n",
            "(6131, 28, 28)\n"
          ],
          "name": "stdout"
        }
      ]
    },
    {
      "cell_type": "markdown",
      "metadata": {
        "id": "GgiqQ54ERru1"
      },
      "source": [
        "## Train the GAN"
      ]
    },
    {
      "cell_type": "code",
      "metadata": {
        "id": "2wyWr4HmeCQI",
        "colab": {
          "base_uri": "https://localhost:8080/"
        },
        "outputId": "cd6d8013-fab2-4eaf-adae-62f819387cbd"
      },
      "source": [
        "gan.train(epochs=10000, batch_size=128, save_interval=100)"
      ],
      "execution_count": null,
      "outputs": [
        {
          "output_type": "stream",
          "text": [
            "100 [D loss: 0.326178, acc.: 89.06%] [G loss: 2.024123]\n",
            "200 [D loss: 0.075983, acc.: 99.22%] [G loss: 2.679954]\n",
            "300 [D loss: 0.660142, acc.: 57.81%] [G loss: 0.781640]\n",
            "400 [D loss: 0.709002, acc.: 50.00%] [G loss: 0.724267]\n",
            "500 [D loss: 0.693635, acc.: 50.78%] [G loss: 0.753803]\n",
            "600 [D loss: 0.720762, acc.: 45.31%] [G loss: 0.743581]\n",
            "700 [D loss: 0.697365, acc.: 53.12%] [G loss: 0.707879]\n",
            "800 [D loss: 0.716828, acc.: 38.28%] [G loss: 0.684325]\n",
            "900 [D loss: 0.749638, acc.: 30.47%] [G loss: 0.632763]\n",
            "1000 [D loss: 0.689216, acc.: 50.78%] [G loss: 0.701780]\n",
            "1100 [D loss: 0.685655, acc.: 53.12%] [G loss: 0.708880]\n",
            "1200 [D loss: 0.700968, acc.: 52.34%] [G loss: 0.699455]\n",
            "1300 [D loss: 0.682915, acc.: 57.81%] [G loss: 0.712637]\n",
            "1400 [D loss: 0.694300, acc.: 50.00%] [G loss: 0.694888]\n",
            "1500 [D loss: 0.690918, acc.: 52.34%] [G loss: 0.693029]\n",
            "1600 [D loss: 0.695909, acc.: 49.22%] [G loss: 0.701133]\n",
            "1700 [D loss: 0.689896, acc.: 52.34%] [G loss: 0.696042]\n",
            "1800 [D loss: 0.693002, acc.: 50.00%] [G loss: 0.677353]\n",
            "1900 [D loss: 0.689445, acc.: 49.22%] [G loss: 0.699997]\n",
            "2000 [D loss: 0.687464, acc.: 47.66%] [G loss: 0.704039]\n",
            "2100 [D loss: 0.692571, acc.: 53.12%] [G loss: 0.713321]\n",
            "2200 [D loss: 0.691614, acc.: 48.44%] [G loss: 0.675736]\n",
            "2300 [D loss: 0.689027, acc.: 55.47%] [G loss: 0.701878]\n",
            "2400 [D loss: 0.689317, acc.: 53.12%] [G loss: 0.677674]\n",
            "2500 [D loss: 0.687640, acc.: 51.56%] [G loss: 0.675094]\n",
            "2600 [D loss: 0.693961, acc.: 53.12%] [G loss: 0.691195]\n",
            "2700 [D loss: 0.694045, acc.: 46.09%] [G loss: 0.688199]\n",
            "2800 [D loss: 0.684110, acc.: 62.50%] [G loss: 0.725608]\n",
            "2900 [D loss: 0.691492, acc.: 53.12%] [G loss: 0.736583]\n",
            "3000 [D loss: 0.692923, acc.: 52.34%] [G loss: 0.689497]\n",
            "3100 [D loss: 0.690915, acc.: 55.47%] [G loss: 0.716521]\n",
            "3200 [D loss: 0.685900, acc.: 58.59%] [G loss: 0.669008]\n",
            "3300 [D loss: 0.690763, acc.: 53.12%] [G loss: 0.711361]\n",
            "3400 [D loss: 0.695783, acc.: 51.56%] [G loss: 0.708560]\n",
            "3500 [D loss: 0.679769, acc.: 60.94%] [G loss: 0.696468]\n",
            "3600 [D loss: 0.687066, acc.: 60.16%] [G loss: 0.712039]\n",
            "3700 [D loss: 0.691570, acc.: 50.00%] [G loss: 0.696532]\n",
            "3800 [D loss: 0.690678, acc.: 56.25%] [G loss: 0.695131]\n",
            "3900 [D loss: 0.700163, acc.: 46.09%] [G loss: 0.695349]\n",
            "4000 [D loss: 0.689975, acc.: 52.34%] [G loss: 0.722474]\n",
            "4100 [D loss: 0.695442, acc.: 47.66%] [G loss: 0.698501]\n",
            "4200 [D loss: 0.686443, acc.: 57.81%] [G loss: 0.712508]\n",
            "4300 [D loss: 0.687296, acc.: 57.03%] [G loss: 0.668827]\n",
            "4400 [D loss: 0.687870, acc.: 50.78%] [G loss: 0.647003]\n",
            "4500 [D loss: 0.693249, acc.: 48.44%] [G loss: 0.696951]\n",
            "4600 [D loss: 0.681181, acc.: 59.38%] [G loss: 0.647123]\n",
            "4700 [D loss: 0.703149, acc.: 44.53%] [G loss: 0.681617]\n",
            "4800 [D loss: 0.691437, acc.: 49.22%] [G loss: 0.688463]\n",
            "4900 [D loss: 0.701355, acc.: 45.31%] [G loss: 0.682728]\n",
            "5000 [D loss: 0.687771, acc.: 53.91%] [G loss: 0.679612]\n",
            "5100 [D loss: 0.685018, acc.: 60.16%] [G loss: 0.711563]\n",
            "5200 [D loss: 0.688122, acc.: 60.16%] [G loss: 0.683976]\n",
            "5300 [D loss: 0.693881, acc.: 47.66%] [G loss: 0.717850]\n",
            "5400 [D loss: 0.692443, acc.: 46.88%] [G loss: 0.705355]\n",
            "5500 [D loss: 0.689964, acc.: 53.12%] [G loss: 0.654904]\n",
            "5600 [D loss: 0.700757, acc.: 42.19%] [G loss: 0.697650]\n",
            "5700 [D loss: 0.684777, acc.: 57.81%] [G loss: 0.696997]\n",
            "5800 [D loss: 0.691425, acc.: 51.56%] [G loss: 0.695108]\n",
            "5900 [D loss: 0.697969, acc.: 46.88%] [G loss: 0.717456]\n",
            "6000 [D loss: 0.681973, acc.: 56.25%] [G loss: 0.668357]\n",
            "6100 [D loss: 0.677244, acc.: 61.72%] [G loss: 0.676987]\n",
            "6200 [D loss: 0.684560, acc.: 60.94%] [G loss: 0.715552]\n",
            "6300 [D loss: 0.683652, acc.: 61.72%] [G loss: 0.689188]\n",
            "6400 [D loss: 0.688581, acc.: 51.56%] [G loss: 0.721603]\n",
            "6500 [D loss: 0.690306, acc.: 50.78%] [G loss: 0.678154]\n",
            "6600 [D loss: 0.684302, acc.: 60.16%] [G loss: 0.709298]\n",
            "6700 [D loss: 0.691912, acc.: 54.69%] [G loss: 0.696919]\n",
            "6800 [D loss: 0.691975, acc.: 53.91%] [G loss: 0.733835]\n",
            "6900 [D loss: 0.682251, acc.: 60.94%] [G loss: 0.736956]\n",
            "7000 [D loss: 0.684621, acc.: 58.59%] [G loss: 0.690360]\n",
            "7100 [D loss: 0.688810, acc.: 50.78%] [G loss: 0.678923]\n",
            "7200 [D loss: 0.687207, acc.: 56.25%] [G loss: 0.730411]\n",
            "7300 [D loss: 0.692791, acc.: 55.47%] [G loss: 0.695630]\n",
            "7400 [D loss: 0.694020, acc.: 51.56%] [G loss: 0.686067]\n",
            "7500 [D loss: 0.687181, acc.: 58.59%] [G loss: 0.709996]\n",
            "7600 [D loss: 0.689805, acc.: 57.81%] [G loss: 0.710436]\n",
            "7700 [D loss: 0.681254, acc.: 62.50%] [G loss: 0.723122]\n",
            "7800 [D loss: 0.690889, acc.: 55.47%] [G loss: 0.716259]\n",
            "7900 [D loss: 0.691987, acc.: 53.91%] [G loss: 0.704157]\n",
            "8000 [D loss: 0.690773, acc.: 53.91%] [G loss: 0.708546]\n",
            "8100 [D loss: 0.686386, acc.: 59.38%] [G loss: 0.705399]\n",
            "8200 [D loss: 0.681592, acc.: 59.38%] [G loss: 0.717735]\n",
            "8300 [D loss: 0.692325, acc.: 51.56%] [G loss: 0.666150]\n",
            "8400 [D loss: 0.687214, acc.: 55.47%] [G loss: 0.713033]\n",
            "8500 [D loss: 0.689375, acc.: 54.69%] [G loss: 0.728213]\n",
            "8600 [D loss: 0.692705, acc.: 54.69%] [G loss: 0.751526]\n",
            "8700 [D loss: 0.695295, acc.: 50.78%] [G loss: 0.692120]\n",
            "8800 [D loss: 0.688128, acc.: 60.16%] [G loss: 0.691786]\n",
            "8900 [D loss: 0.690911, acc.: 51.56%] [G loss: 0.717208]\n",
            "9000 [D loss: 0.695914, acc.: 52.34%] [G loss: 0.675737]\n",
            "9100 [D loss: 0.691755, acc.: 53.91%] [G loss: 0.701644]\n",
            "9200 [D loss: 0.689019, acc.: 55.47%] [G loss: 0.729587]\n",
            "9300 [D loss: 0.688578, acc.: 53.12%] [G loss: 0.693473]\n",
            "9400 [D loss: 0.691327, acc.: 52.34%] [G loss: 0.702721]\n",
            "9500 [D loss: 0.697142, acc.: 50.78%] [G loss: 0.711859]\n",
            "9600 [D loss: 0.690150, acc.: 53.91%] [G loss: 0.698457]\n",
            "9700 [D loss: 0.686266, acc.: 49.22%] [G loss: 0.752921]\n",
            "9800 [D loss: 0.690026, acc.: 57.03%] [G loss: 0.715666]\n",
            "9900 [D loss: 0.691381, acc.: 47.66%] [G loss: 0.699841]\n",
            "10000 [D loss: 0.691832, acc.: 50.78%] [G loss: 0.684992]\n"
          ],
          "name": "stdout"
        }
      ]
    },
    {
      "cell_type": "markdown",
      "metadata": {
        "id": "VYECn-icEcAp"
      },
      "source": [
        "## Plot losses"
      ]
    },
    {
      "cell_type": "code",
      "metadata": {
        "id": "82hTvZNpElBJ",
        "colab": {
          "base_uri": "https://localhost:8080/",
          "height": 269
        },
        "outputId": "b033ad2f-3a35-4727-b104-c35ed8200b4b"
      },
      "source": [
        "plt.subplots()\n",
        "plt.xlim(0,500)\n",
        "plt.plot(gan.d_loss, label='D loss')\n",
        "plt.plot(gan.g_loss, label='G loss')\n",
        "plt.show()\n",
        "plt.close()"
      ],
      "execution_count": null,
      "outputs": [
        {
          "output_type": "display_data",
          "data": {
            "image/png": "[encoded data removed]",
            "text/plain": [
              "<Figure size 432x288 with 1 Axes>"
            ]
          },
          "metadata": {
            "tags": [],
            "needs_background": "light"
          }
        }
      ]
    },
    {
      "cell_type": "markdown",
      "metadata": {
        "id": "2_AISBC_po4X"
      },
      "source": [
        "## Generated images"
      ]
    },
    {
      "cell_type": "code",
      "metadata": {
        "colab": {
          "base_uri": "https://localhost:8080/",
          "height": 207
        },
        "id": "6E9ogdOOqBTx",
        "outputId": "3ae8e326-d07e-4a4e-8b64-6f449573e616"
      },
      "source": [
        "gan.show_images()\n"
      ],
      "execution_count": null,
      "outputs": [
        {
          "output_type": "display_data",
          "data": {
            "image/png": "[encoded data removed]",
            "text/plain": [
              "<Figure size 432x288 with 10 Axes>"
            ]
          },
          "metadata": {
            "tags": [],
            "needs_background": "light"
          }
        }
      ]
    },
    {
      "cell_type": "markdown",
      "metadata": {
        "id": "Ud82_I4gS3zm"
      },
      "source": [
        "## Save/load model\n",
        "\n"
      ]
    },
    {
      "cell_type": "code",
      "metadata": {
        "id": "4cvBC7gM164Z"
      },
      "source": [
        "gan.save_model()"
      ],
      "execution_count": null,
      "outputs": []
    }
  ]
}