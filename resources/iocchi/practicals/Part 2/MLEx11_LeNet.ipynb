{
  "nbformat": 4,
  "nbformat_minor": 0,
  "metadata": {
    "colab": {
      "provenance": []
    },
    "kernelspec": {
      "name": "python3",
      "display_name": "Python 3"
    },
    "accelerator": "GPU"
  },
  "cells": [
    {
      "cell_type": "markdown",
      "metadata": {
        "id": "Z3GYzNWONtju"
      },
      "source": [
        "# Machine Learning Exercise 11\n",
        "\n",
        "# LeNet-like model for MNIST/FashionMNIST/CIFAR10\n",
        "\n"
      ]
    },
    {
      "cell_type": "markdown",
      "metadata": {
        "id": "eDEJU1RwoIlv"
      },
      "source": [
        "##Import \n",
        "\n",
        "Import libraries and print some versions.\n",
        "\n",
        "To use GPU, set `Edit / Notebook settings / Hardware accelerator` to **GPU**."
      ]
    },
    {
      "cell_type": "code",
      "metadata": {
        "id": "BSKuPnIXNoq2",
        "colab": {
          "base_uri": "https://localhost:8080/"
        },
        "outputId": "d3f02224-c81f-4b2b-de7b-40a8410a2f32"
      },
      "source": [
        "import numpy as np\n",
        "import tensorflow as tf\n",
        "\n",
        "print(\"Tensorflow version %s\" %tf.__version__)\n",
        "\n",
        "device_name = tf.test.gpu_device_name()\n",
        "print('Found GPU at: {}'.format(device_name))"
      ],
      "execution_count": null,
      "outputs": [
        {
          "output_type": "stream",
          "name": "stdout",
          "text": [
            "Tensorflow version 2.3.2\n",
            "Found GPU at: /device:GPU:0\n"
          ]
        }
      ]
    },
    {
      "cell_type": "markdown",
      "metadata": {
        "id": "KaeLRpWIfO1m"
      },
      "source": [
        "## Load data\n",
        "\n",
        "Load training data from Keras library\n",
        "\n",
        "\n"
      ]
    },
    {
      "cell_type": "code",
      "metadata": {
        "id": "7kECuF5cgxxW",
        "colab": {
          "base_uri": "https://localhost:8080/"
        },
        "outputId": "ffa0fbb8-32c1-4102-8a40-6bc304b0e56a"
      },
      "source": [
        "def load_data(dataset_name):\n",
        "    # load data\n",
        "    if dataset_name == \"MNIST\":\n",
        "      (Xtrain,Ytrain), (Xtest, Ytest) = tf.keras.datasets.mnist.load_data()\n",
        "    elif dataset_name == \"FASHION_MNIST\":\n",
        "      (Xtrain,Ytrain), (Xtest, Ytest) = tf.keras.datasets.fashion_mnist.load_data()\n",
        "    elif dataset_name == \"CIFAR10\":\n",
        "      (Xtrain,Ytrain), (Xtest, Ytest) = tf.keras.datasets.cifar10.load_data()\n",
        "    else:\n",
        "      print(\"Dataset not available\")\n",
        "      return None\n",
        "\n",
        "    # get information\n",
        "    ninput = Xtrain.shape[0]\n",
        "    imgsize = (Xtrain.shape[1], Xtrain.shape[2])\n",
        "    if len(Xtrain.shape)==3:\n",
        "      image_depth=1\n",
        "    else:\n",
        "      image_depth=Xtrain.shape[3]\n",
        "\n",
        "    input_shape = (Xtrain.shape[1], Xtrain.shape[2], image_depth)\n",
        "    ntest = Xtest.shape[0]\n",
        "    num_classes = max(Ytrain) + 1\n",
        "    print(\"Training input %s\" %str(Xtrain.shape))\n",
        "    print(\"Training output %s\" %str(Ytrain.shape))\n",
        "    print(\"Test input %s\" %str(Xtest.shape))\n",
        "    print(\"Test output %s\" %str(Ytest.shape))\n",
        "    print(\"Input shape: %s\" %str(input_shape))\n",
        "    print(\"Number of classes: %d\" %num_classes)\n",
        "\n",
        "    # normalize input to [0,1]\n",
        "    Xtrain = Xtrain / 255.0\n",
        "    Xtest = Xtest / 255.0\n",
        "    # reshape input in 4D array\n",
        "    Xtrain = Xtrain.reshape(ninput,imgsize[0],imgsize[1],image_depth)\n",
        "    Xtest = Xtest.reshape(ntest,imgsize[0],imgsize[1],image_depth)\n",
        "        \n",
        "    return [Xtrain,Ytrain,Xtest,Ytest,input_shape,num_classes]\n",
        "\n",
        "\n",
        "dataset_name = \"CIFAR10\" # MNIST or FASHION_MNIST or CIFAR10\n",
        "[Xtrain,Ytrain,Xtest,Ytest,input_shape,num_classes] = load_data(dataset_name)"
      ],
      "execution_count": null,
      "outputs": [
        {
          "output_type": "stream",
          "name": "stdout",
          "text": [
            "Training input (50000, 32, 32, 3)\n",
            "Training output (50000, 1)\n",
            "Test input (10000, 32, 32, 3)\n",
            "Test output (10000, 1)\n",
            "Input shape: (32, 32, 3)\n",
            "Number of classes: 10\n"
          ]
        }
      ]
    },
    {
      "cell_type": "markdown",
      "metadata": {
        "id": "R6DMvR8TzJiK"
      },
      "source": [
        "## Show random image\n",
        "\n"
      ]
    },
    {
      "cell_type": "code",
      "metadata": {
        "id": "P0N3cUSazRcJ",
        "colab": {
          "base_uri": "https://localhost:8080/",
          "height": 283
        },
        "outputId": "216e71f6-01ad-4096-89d5-48830b67b0b7"
      },
      "source": [
        "import matplotlib.pyplot as plt\n",
        "import random\n",
        "\n",
        "i = random.randrange(0,Xtrain.shape[0])\n",
        "image = Xtrain[i]\n",
        "image = np.array(image, dtype='float')\n",
        "pixels = image.reshape((input_shape[0], input_shape[1], input_shape[2]))\n",
        "\n",
        "label = Ytrain[i]\n",
        "print(label)\n",
        "\n",
        "plt.imshow(pixels)\n",
        "plt.show()\n"
      ],
      "execution_count": null,
      "outputs": [
        {
          "output_type": "stream",
          "name": "stdout",
          "text": [
            "[5]\n"
          ]
        },
        {
          "output_type": "display_data",
          "data": {
            "text/plain": [
              "<Figure size 432x288 with 1 Axes>"
            ],
            "image/png": "[encoded data removed]"
          },
          "metadata": {
            "needs_background": "light"
          }
        }
      ]
    },
    {
      "cell_type": "markdown",
      "metadata": {
        "id": "q1EwWO9m3bGg"
      },
      "source": [
        "##LeNet model\n"
      ]
    },
    {
      "cell_type": "code",
      "metadata": {
        "id": "1DTCwfVg3jRX",
        "colab": {
          "base_uri": "https://localhost:8080/"
        },
        "outputId": "789193bf-84b4-4e7f-99b6-7c391521484c"
      },
      "source": [
        "from tensorflow.keras.models import Sequential\n",
        "from tensorflow.keras.layers import Dense, Activation, Dropout, Flatten,\\\n",
        "                         Conv2D, MaxPooling2D, AveragePooling2D, BatchNormalization\n",
        "from tensorflow.keras import regularizers, optimizers\n",
        "\n",
        "def LeNet(input_shape, num_classes):\n",
        "    \n",
        "    print('\\nLeNet model')\n",
        "    model = Sequential()\n",
        "    \n",
        "    print('\\tC1: Convolutional 6 kernels 5x5')\n",
        "    model.add(Conv2D(6, kernel_size=(5, 5), strides=(1, 1), activation='tanh', input_shape=input_shape, padding='same'))\n",
        "    print('\\tS2: Average Pooling 2x2 stride 2x2')\n",
        "    model.add(AveragePooling2D(pool_size=(2, 2), strides=(2, 2), padding='valid'))\n",
        "    print('\\tC3: Convolutional 16 kernels 5x5')\n",
        "    model.add(Conv2D(16, kernel_size=(5, 5), strides=(1, 1), activation='tanh', padding='valid'))\n",
        "    print('\\tS4: Average Pooling 2x2 stride 2x2')\n",
        "    model.add(AveragePooling2D(pool_size=(2, 2), strides=(2, 2), padding='valid'))\n",
        "    print('\\tC5: Convolutional 120 kernels 5x5')\n",
        "    model.add(Conv2D(120, kernel_size=(5, 5), strides=(1, 1), activation='tanh', padding='valid'))\n",
        "    model.add(Flatten())\n",
        "    print('\\tF6: Fully connected, 84 units')\n",
        "    model.add(Dense(84, activation='tanh'))\n",
        "    print('\\tF7: Fully connected, 10 units')\n",
        "    model.add(Dense(num_classes, activation='softmax'))\n",
        "\n",
        "    optimizer = 'adam' #alternative 'SGD'\n",
        "    model.compile(loss='sparse_categorical_crossentropy', optimizer=optimizer, metrics=['accuracy'])\n",
        "    \n",
        "    return model\n",
        " \n",
        "# create the model\n",
        "model = LeNet(input_shape,num_classes)\n",
        "model.summary()"
      ],
      "execution_count": null,
      "outputs": [
        {
          "output_type": "stream",
          "name": "stdout",
          "text": [
            "\n",
            "LeNet model\n",
            "\tC1: Convolutional 6 kernels 5x5\n",
            "\tS2: Average Pooling 2x2 stride 2x2\n",
            "\tC3: Convolutional 16 kernels 5x5\n",
            "\tS4: Average Pooling 2x2 stride 2x2\n",
            "\tC5: Convolutional 120 kernels 5x5\n",
            "\tF6: Fully connected, 84 units\n",
            "\tF7: Fully connected, 10 units\n",
            "Model: \"sequential_5\"\n",
            "_________________________________________________________________\n",
            "Layer (type)                 Output Shape              Param #   \n",
            "=================================================================\n",
            "conv2d_15 (Conv2D)           (None, 32, 32, 6)         456       \n",
            "_________________________________________________________________\n",
            "average_pooling2d_10 (Averag (None, 16, 16, 6)         0         \n",
            "_________________________________________________________________\n",
            "conv2d_16 (Conv2D)           (None, 12, 12, 16)        2416      \n",
            "_________________________________________________________________\n",
            "average_pooling2d_11 (Averag (None, 6, 6, 16)          0         \n",
            "_________________________________________________________________\n",
            "conv2d_17 (Conv2D)           (None, 2, 2, 120)         48120     \n",
            "_________________________________________________________________\n",
            "flatten_5 (Flatten)          (None, 480)               0         \n",
            "_________________________________________________________________\n",
            "dense_10 (Dense)             (None, 84)                40404     \n",
            "_________________________________________________________________\n",
            "dense_11 (Dense)             (None, 10)                850       \n",
            "=================================================================\n",
            "Total params: 92,246\n",
            "Trainable params: 92,246\n",
            "Non-trainable params: 0\n",
            "_________________________________________________________________\n"
          ]
        }
      ]
    },
    {
      "cell_type": "markdown",
      "metadata": {
        "id": "egL15iQztTDH"
      },
      "source": [
        "## Train"
      ]
    },
    {
      "cell_type": "code",
      "metadata": {
        "id": "EKOdDvgf5YlZ",
        "colab": {
          "base_uri": "https://localhost:8080/"
        },
        "outputId": "ac8f0387-614c-4e63-9b8f-faed337494ce"
      },
      "source": [
        "epochs = 30\n",
        "history = model.fit(Xtrain, Ytrain, batch_size=32, epochs=epochs, validation_data = (Xtest,Ytest))\n",
        "\n"
      ],
      "execution_count": null,
      "outputs": [
        {
          "output_type": "stream",
          "name": "stdout",
          "text": [
            "Epoch 1/30\n",
            "1563/1563 [==============================] - 5s 3ms/step - loss: 1.7852 - accuracy: 0.3682 - val_loss: 1.6514 - val_accuracy: 0.4126\n",
            "Epoch 2/30\n",
            "1563/1563 [==============================] - 5s 3ms/step - loss: 1.5645 - accuracy: 0.4462 - val_loss: 1.5150 - val_accuracy: 0.4647\n",
            "Epoch 3/30\n",
            "1563/1563 [==============================] - 5s 3ms/step - loss: 1.4587 - accuracy: 0.4835 - val_loss: 1.4984 - val_accuracy: 0.4668\n",
            "Epoch 4/30\n",
            "1563/1563 [==============================] - 5s 3ms/step - loss: 1.3880 - accuracy: 0.5081 - val_loss: 1.4433 - val_accuracy: 0.4869\n",
            "Epoch 5/30\n",
            "1563/1563 [==============================] - 5s 3ms/step - loss: 1.3282 - accuracy: 0.5314 - val_loss: 1.3749 - val_accuracy: 0.5089\n",
            "Epoch 6/30\n",
            "1563/1563 [==============================] - 5s 3ms/step - loss: 1.2779 - accuracy: 0.5467 - val_loss: 1.3521 - val_accuracy: 0.5219\n",
            "Epoch 7/30\n",
            "1563/1563 [==============================] - 4s 3ms/step - loss: 1.2270 - accuracy: 0.5656 - val_loss: 1.3237 - val_accuracy: 0.5368\n",
            "Epoch 8/30\n",
            "1563/1563 [==============================] - 4s 3ms/step - loss: 1.1790 - accuracy: 0.5815 - val_loss: 1.3193 - val_accuracy: 0.5376\n",
            "Epoch 9/30\n",
            "1563/1563 [==============================] - 4s 3ms/step - loss: 1.1322 - accuracy: 0.5981 - val_loss: 1.3268 - val_accuracy: 0.5367\n",
            "Epoch 10/30\n",
            "1563/1563 [==============================] - 4s 3ms/step - loss: 1.0960 - accuracy: 0.6100 - val_loss: 1.3297 - val_accuracy: 0.5369\n",
            "Epoch 11/30\n",
            "1563/1563 [==============================] - 4s 3ms/step - loss: 1.0542 - accuracy: 0.6247 - val_loss: 1.3194 - val_accuracy: 0.5412\n",
            "Epoch 12/30\n",
            "1563/1563 [==============================] - 4s 3ms/step - loss: 1.0202 - accuracy: 0.6363 - val_loss: 1.3503 - val_accuracy: 0.5385\n",
            "Epoch 13/30\n",
            "1563/1563 [==============================] - 5s 3ms/step - loss: 0.9830 - accuracy: 0.6529 - val_loss: 1.3258 - val_accuracy: 0.5467\n",
            "Epoch 14/30\n",
            "1563/1563 [==============================] - 5s 3ms/step - loss: 0.9497 - accuracy: 0.6639 - val_loss: 1.3558 - val_accuracy: 0.5484\n",
            "Epoch 15/30\n",
            "1563/1563 [==============================] - 5s 3ms/step - loss: 0.9111 - accuracy: 0.6773 - val_loss: 1.3645 - val_accuracy: 0.5453\n",
            "Epoch 16/30\n",
            "1563/1563 [==============================] - 5s 3ms/step - loss: 0.8785 - accuracy: 0.6880 - val_loss: 1.3924 - val_accuracy: 0.5416\n",
            "Epoch 17/30\n",
            "1563/1563 [==============================] - 5s 3ms/step - loss: 0.8511 - accuracy: 0.6974 - val_loss: 1.4028 - val_accuracy: 0.5373\n",
            "Epoch 18/30\n",
            "1563/1563 [==============================] - 4s 3ms/step - loss: 0.8188 - accuracy: 0.7115 - val_loss: 1.4241 - val_accuracy: 0.5455\n",
            "Epoch 19/30\n",
            "1563/1563 [==============================] - 4s 3ms/step - loss: 0.7935 - accuracy: 0.7179 - val_loss: 1.4562 - val_accuracy: 0.5403\n",
            "Epoch 20/30\n",
            "1563/1563 [==============================] - 4s 3ms/step - loss: 0.7637 - accuracy: 0.7293 - val_loss: 1.4636 - val_accuracy: 0.5448\n",
            "Epoch 21/30\n",
            "1563/1563 [==============================] - 5s 3ms/step - loss: 0.7370 - accuracy: 0.7385 - val_loss: 1.4949 - val_accuracy: 0.5346\n",
            "Epoch 22/30\n",
            "1563/1563 [==============================] - 5s 3ms/step - loss: 0.7128 - accuracy: 0.7477 - val_loss: 1.5251 - val_accuracy: 0.5382\n",
            "Epoch 23/30\n",
            "1563/1563 [==============================] - 5s 3ms/step - loss: 0.6878 - accuracy: 0.7573 - val_loss: 1.5568 - val_accuracy: 0.5339\n",
            "Epoch 24/30\n",
            "1563/1563 [==============================] - 5s 3ms/step - loss: 0.6627 - accuracy: 0.7669 - val_loss: 1.5784 - val_accuracy: 0.5288\n",
            "Epoch 25/30\n",
            "1563/1563 [==============================] - 5s 3ms/step - loss: 0.6426 - accuracy: 0.7718 - val_loss: 1.6163 - val_accuracy: 0.5276\n",
            "Epoch 26/30\n",
            "1563/1563 [==============================] - 5s 3ms/step - loss: 0.6193 - accuracy: 0.7808 - val_loss: 1.6533 - val_accuracy: 0.5244\n",
            "Epoch 27/30\n",
            "1563/1563 [==============================] - 5s 3ms/step - loss: 0.6021 - accuracy: 0.7868 - val_loss: 1.6612 - val_accuracy: 0.5310\n",
            "Epoch 28/30\n",
            "1563/1563 [==============================] - 5s 3ms/step - loss: 0.5833 - accuracy: 0.7945 - val_loss: 1.7011 - val_accuracy: 0.5270\n",
            "Epoch 29/30\n",
            "1563/1563 [==============================] - 5s 3ms/step - loss: 0.5600 - accuracy: 0.8011 - val_loss: 1.7374 - val_accuracy: 0.5265\n",
            "Epoch 30/30\n",
            "1563/1563 [==============================] - 5s 3ms/step - loss: 0.5482 - accuracy: 0.8044 - val_loss: 1.7718 - val_accuracy: 0.5258\n"
          ]
        }
      ]
    },
    {
      "cell_type": "markdown",
      "metadata": {
        "id": "YPtbelKYHy4K"
      },
      "source": [
        "##Evaluate the model"
      ]
    },
    {
      "cell_type": "markdown",
      "metadata": {
        "id": "fkx4x2M3vFpk"
      },
      "source": [
        "## Print scores\n",
        "\n",
        "Overall accuracy, precision, recall and F-score "
      ]
    },
    {
      "cell_type": "code",
      "metadata": {
        "id": "aLfiWAMGHxkH",
        "colab": {
          "base_uri": "https://localhost:8080/"
        },
        "outputId": "7f4432c9-2827-4ed9-c4a1-4ed3185c4af4"
      },
      "source": [
        "import sklearn.metrics \n",
        "from sklearn.metrics import classification_report, confusion_matrix\n",
        "\n",
        "# accuracy\n",
        "score = model.evaluate(Xtest, Ytest)\n",
        "print(\"Test loss: %f\" %score[0])\n",
        "print(\"Test accuracy: %f\" %score[1])\n",
        "\n",
        "preds = model.predict(Xtest,verbose=1)\n",
        "Ypred = np.argmax(preds, axis=1)\n",
        "\n",
        "print('%s' %str(Ypred.shape))\n",
        "print('%s' %str(Ytest.shape))\n",
        "\n",
        "print(classification_report(Ytest, Ypred, digits=3))\n",
        "\n",
        "\n",
        "  "
      ],
      "execution_count": null,
      "outputs": [
        {
          "output_type": "stream",
          "name": "stdout",
          "text": [
            "313/313 [==============================] - 1s 2ms/step - loss: 1.7718 - accuracy: 0.5258\n",
            "Test loss: 1.771785\n",
            "Test accuracy: 0.525800\n",
            "313/313 [==============================] - 0s 1ms/step\n",
            "(10000,)\n",
            "(10000, 1)\n",
            "              precision    recall  f1-score   support\n",
            "\n",
            "           0      0.586     0.551     0.568      1000\n",
            "           1      0.613     0.657     0.634      1000\n",
            "           2      0.473     0.342     0.397      1000\n",
            "           3      0.383     0.345     0.363      1000\n",
            "           4      0.436     0.459     0.447      1000\n",
            "           5      0.466     0.472     0.469      1000\n",
            "           6      0.559     0.634     0.594      1000\n",
            "           7      0.554     0.625     0.587      1000\n",
            "           8      0.574     0.658     0.613      1000\n",
            "           9      0.579     0.515     0.545      1000\n",
            "\n",
            "    accuracy                          0.526     10000\n",
            "   macro avg      0.522     0.526     0.522     10000\n",
            "weighted avg      0.522     0.526     0.522     10000\n",
            "\n"
          ]
        }
      ]
    },
    {
      "cell_type": "markdown",
      "metadata": {
        "id": "k6bNy-J9u-l6"
      },
      "source": [
        "##Plot results"
      ]
    },
    {
      "cell_type": "code",
      "metadata": {
        "id": "nGcvKLXpvjDu",
        "colab": {
          "base_uri": "https://localhost:8080/",
          "height": 572
        },
        "outputId": "ec0860e2-a22c-48f7-a52f-a88dbce9b53f"
      },
      "source": [
        "import matplotlib.pyplot as plt\n",
        "\n",
        "# summarize history for accuracy\n",
        "plt.plot(history.history['accuracy'])\n",
        "plt.plot(history.history['val_accuracy'])\n",
        "plt.title('model accuracy')\n",
        "plt.ylabel('accuracy')\n",
        "plt.xlabel('epoch')\n",
        "plt.ylim(np.min(history.history['accuracy']), 1.0)\n",
        "plt.legend(['train', 'test'], loc='upper left')\n",
        "plt.show()\n",
        "# summarize history for loss\n",
        "plt.plot(history.history['loss'])\n",
        "plt.plot(history.history['val_loss'])\n",
        "plt.title('model loss')\n",
        "plt.ylabel('loss')\n",
        "plt.xlabel('epoch')\n",
        "plt.ylim(0.0, np.max(history.history['loss']))\n",
        "plt.legend(['train', 'test'], loc='lower left')\n",
        "plt.show()"
      ],
      "execution_count": null,
      "outputs": [
        {
          "output_type": "display_data",
          "data": {
            "text/plain": [
              "<Figure size 432x288 with 1 Axes>"
            ],
            "image/png": "[encoded data removed]"
          },
          "metadata": {
            "needs_background": "light"
          }
        },
        {
          "output_type": "display_data",
          "data": {
            "text/plain": [
              "<Figure size 432x288 with 1 Axes>"
            ],
            "image/png": "[encoded data removed]"
          },
          "metadata": {
            "needs_background": "light"
          }
        }
      ]
    },
    {
      "cell_type": "markdown",
      "metadata": {
        "id": "Hd9Bkd6KtWrt"
      },
      "source": [
        "# Home Exercises\n",
        "\n",
        "**Question 1** \n",
        "\n",
        "Compare the model defined above with a model with the same structure but with `ReLU` activation functions in all the layers.\n"
      ]
    }
  ]
}