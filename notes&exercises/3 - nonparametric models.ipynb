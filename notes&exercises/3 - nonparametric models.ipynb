{
 "cells": [
  {
   "attachments": {},
   "cell_type": "markdown",
   "metadata": {},
   "source": [
    "# Decision trees"
   ]
  },
  {
   "cell_type": "code",
   "execution_count": 1,
   "metadata": {},
   "outputs": [],
   "source": [
    "import random\n",
    "import numpy as np\n",
    "from sklearn import tree\n",
    "\n",
    "X = [[0,0,0,0,1],[0,1,0,0,1],[0,1,1,1,1],[0,1,1,0,1],[1,1,1,0,0],[0,0,1,0,0]] # shape = (#samples, #features)\n",
    "Y = [0,0,1,1,1,0] # shape = (#samples, ) ------> it's a column vector\n",
    "\n",
    "classifier = tree.DecisionTreeClassifier()\n",
    "classifier = classifier.fit(X,Y)\n",
    "\n",
    "classifier.predict([[0,0,1,1,1]])\n",
    "tree.plot_tree(classifier)"
   ]
  },
  {
   "attachments": {},
   "cell_type": "markdown",
   "metadata": {},
   "source": [
    "# KNN\n",
    "\n",
    "- Type of instance based learning algorithm\n",
    "- Doesn't really have a training phase\n",
    "- The prediction happens in this way\n",
    "We look "
   ]
  }
 ],
 "metadata": {
  "kernelspec": {
   "display_name": "base",
   "language": "python",
   "name": "python3"
  },
  "language_info": {
   "codemirror_mode": {
    "name": "ipython",
    "version": 3
   },
   "file_extension": ".py",
   "mimetype": "text/x-python",
   "name": "python",
   "nbconvert_exporter": "python",
   "pygments_lexer": "ipython3",
   "version": "3.10.9"
  },
  "orig_nbformat": 4
 },
 "nbformat": 4,
 "nbformat_minor": 2
}
