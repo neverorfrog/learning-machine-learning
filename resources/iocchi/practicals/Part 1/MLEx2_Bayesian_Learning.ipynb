{
  "cells": [
    {
      "cell_type": "markdown",
      "metadata": {
        "id": "J2E9dsLhnNE3"
      },
      "source": [
        "# Machine Learning - Exercise 2\n",
        "# Bayesian Learning\n",
        "\n",
        "See description of the example in Russel & Norvig: Artificial Intelligence: A modern approach. Chap. 20."
      ]
    },
    {
      "cell_type": "code",
      "execution_count": 1,
      "metadata": {
        "id": "HQOhol3QnEFY"
      },
      "outputs": [],
      "source": [
        "import numpy as np"
      ]
    },
    {
      "cell_type": "markdown",
      "metadata": {
        "id": "9k1Ue3Qvnld7"
      },
      "source": [
        "## Prior knowledge"
      ]
    },
    {
      "cell_type": "code",
      "execution_count": null,
      "metadata": {
        "colab": {
          "base_uri": "https://localhost:8080/"
        },
        "id": "7oRapmCtnpbS",
        "outputId": "7883cad1-9fb0-4618-df17-d3427fc36ac0"
      },
      "outputs": [
        {
          "name": "stdout",
          "output_type": "stream",
          "text": [
            "P(H) = [ 0.100  0.200  0.400  0.200  0.100]\n",
            "P(l|H) = [ 0.000  0.250  0.500  0.750  1.000]\n",
            "P(c|H) = [ 1.000  0.750  0.500  0.250  0.000]\n",
            "P(l) = sum [ 0.000  0.050  0.200  0.150  0.100] = 0.500\n"
          ]
        }
      ],
      "source": [
        "PH = np.array([0.1, 0.2, 0.4, 0.2, 0.1]) # we have 5 kinds of bags of candies\n",
        "\n",
        "PdH = {}\n",
        "PdH['l'] = np.array([0.0, 0.25, 0.5, 0.75, 1.0]) # 'l' -> lime\n",
        "PdH['c'] = 1 - PdH['l'] # 'c' -> cherry\n",
        "\n",
        "print('P(H) = %s' %(str(PH)))\n",
        "print('P(l|H) = %s' %(str(PdH['l']))) # likelihood for lime candy\n",
        "print('P(c|H) = %s' %(str(PdH['c']))) # likelihood for cherry candy\n",
        "\n",
        "# Probability of extracting a lime candy\n",
        "cP = PdH['l'] * PH\n",
        "Pl = np.sum(cP)\n",
        "print('P(l) = sum %s = %.3f' %(str(cP),Pl))"
      ]
    },
    {
      "cell_type": "markdown",
      "metadata": {
        "id": "pSl9YJgZniT6"
      },
      "source": [
        "## Dataset"
      ]
    },
    {
      "cell_type": "code",
      "execution_count": null,
      "metadata": {
        "id": "1DxGwfxxnaq9"
      },
      "outputs": [],
      "source": [
        "D = ['l','l','l','l','l']"
      ]
    },
    {
      "cell_type": "markdown",
      "metadata": {
        "id": "JyMvUpo9nfH7"
      },
      "source": [
        "## Bayesian Learning"
      ]
    },
    {
      "cell_type": "code",
      "execution_count": null,
      "metadata": {
        "colab": {
          "base_uri": "https://localhost:8080/"
        },
        "id": "hdLoFtqYnbo_",
        "outputId": "0e50413a-b9a7-4654-c3d3-f523d19e7d66"
      },
      "outputs": [
        {
          "name": "stdout",
          "output_type": "stream",
          "text": [
            "P(H)      \t= [ 0.100  0.200  0.400  0.200  0.100]\n",
            "P(H|l)  \t= [ 0.000  0.100  0.400  0.300  0.200]\n",
            "P(H|ll)  \t= [ 0.000  0.038  0.308  0.346  0.308]\n",
            "P(H|lll)  \t= [ 0.000  0.013  0.211  0.355  0.421]\n",
            "P(H|llll)  \t= [ 0.000  0.004  0.132  0.335  0.529]\n",
            "P(H|lllll)  \t= [ 0.000  0.001  0.078  0.296  0.624]\n"
          ]
        }
      ],
      "source": [
        "np.set_printoptions(formatter={'float': '{: 0.3f}'.format})\n",
        "P = PH\n",
        "db = ''\n",
        "print('P(H)      \\t= %s' %(str(PH)))\n",
        "for d in D:\n",
        "    P = P * PdH[d]\n",
        "    # Why is P divided by sum(p)?:\n",
        "    # Remember the normalizing constant alpha that is used to reduce any probability function\n",
        "    # to a density function with a total probability of 1.\n",
        "    P = P / np.sum(P)\n",
        "    db = db+d\n",
        "    print('P(H|%s)  \\t= %s' %(db,str(P)))"
      ]
    },
    {
      "cell_type": "markdown",
      "metadata": {
        "id": "MlBCGzO_o7pj"
      },
      "source": [
        "## MAP hypothesis"
      ]
    },
    {
      "cell_type": "code",
      "execution_count": null,
      "metadata": {
        "colab": {
          "base_uri": "https://localhost:8080/"
        },
        "id": "JWXGLTDKpAuH",
        "outputId": "ae4cd5eb-abd3-475a-b6fe-df6f52b08a8f"
      },
      "outputs": [
        {
          "name": "stdout",
          "output_type": "stream",
          "text": [
            "MAP hypothesis: h5\n"
          ]
        }
      ],
      "source": [
        "i = np.argmax(P)\n",
        "print('MAP hypothesis: h%d' %(i+1))"
      ]
    },
    {
      "cell_type": "markdown",
      "metadata": {
        "id": "i9ydVfqFrUq-"
      },
      "source": [
        "## Prediction\n",
        "\n",
        "Probability that next candy is lime\n",
        "\n",
        "Using MAP hypothesis"
      ]
    },
    {
      "cell_type": "code",
      "execution_count": null,
      "metadata": {
        "colab": {
          "base_uri": "https://localhost:8080/"
        },
        "id": "25gsB_O1pRe6",
        "outputId": "ecfe9c59-29ee-4bf0-957b-bfa062954465"
      },
      "outputs": [
        {
          "name": "stdout",
          "output_type": "stream",
          "text": [
            "P(l|h_MAP) = 1.000\n"
          ]
        }
      ],
      "source": [
        "PlhMAP = PdH['l'][i]\n",
        "print('P(l|h_MAP) = %.3f' %(PlhMAP))"
      ]
    },
    {
      "cell_type": "markdown",
      "metadata": {
        "id": "mvvZjlm4rmwW"
      },
      "source": [
        "Using all hypotheses"
      ]
    },
    {
      "cell_type": "code",
      "execution_count": null,
      "metadata": {
        "colab": {
          "base_uri": "https://localhost:8080/"
        },
        "id": "s3T5zb35pWjq",
        "outputId": "14307a42-6704-452d-adef-ff7695e7c4cf"
      },
      "outputs": [
        {
          "name": "stdout",
          "output_type": "stream",
          "text": [
            "P(l|D) = sum [ 0.000  0.000  0.039  0.222  0.624] = 0.886\n"
          ]
        }
      ],
      "source": [
        "cP = PdH['l'] * P\n",
        "PlD = np.sum(cP)\n",
        "print('P(l|D) = sum %s = %.3f' %(str(cP),PlD))"
      ]
    },
    {
      "cell_type": "markdown",
      "metadata": {
        "id": "k9YzelgshkEK"
      },
      "source": [
        "# Home Exercise\n",
        "\n",
        "Di : outcome of rolling a 6-faces die\n",
        "\n",
        "Z = D1 + D2 = sum of the outcomes of rolling 2 dice\n",
        "\n",
        "S = D1 + D2 + D3 = sum of the outcomes of rolling 3 dice\n",
        "\n",
        "Z in [2,12], S in [3,18]\n",
        "\n",
        "**Question 1**\n",
        "\n",
        "Compute\n",
        "\n",
        "Prior: P(S)  -- 16 values summing to 1\n",
        "\n",
        "Posterior: P( S | D1 ) -- 16 x 6 matrix (each column sums to 1)\n",
        "\n",
        "Posterior: P( S | D1, D2 ) -- 16 x 6 x 6 matrix (each column sums to 1)\n",
        "\n",
        "Posterior: P( S | Z ) -- 16 x 11 matrix (each column sums to 1)\n",
        "\n",
        "**Question 2**\n",
        "\n",
        "Verify experimentally that\n",
        "\n",
        "P( S | Z, D1 ) = P ( S | Z )\n",
        "\n"
      ]
    }
  ],
  "metadata": {
    "colab": {
      "provenance": []
    },
    "kernelspec": {
      "display_name": "Python 3",
      "name": "python3"
    },
    "language_info": {
      "codemirror_mode": {
        "name": "ipython",
        "version": 3
      },
      "file_extension": ".py",
      "mimetype": "text/x-python",
      "name": "python",
      "nbconvert_exporter": "python",
      "pygments_lexer": "ipython3",
      "version": "3.11.6"
    }
  },
  "nbformat": 4,
  "nbformat_minor": 0
}
