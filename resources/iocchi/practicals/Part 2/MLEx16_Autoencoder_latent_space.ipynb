{
  "nbformat": 4,
  "nbformat_minor": 0,
  "metadata": {
    "colab": {
      "provenance": [],
      "toc_visible": true
    },
    "kernelspec": {
      "name": "python3",
      "display_name": "Python 3"
    }
  },
  "cells": [
    {
      "cell_type": "markdown",
      "metadata": {
        "id": "XdHHHlEC6okY"
      },
      "source": [
        "# MLEx16. Autoencoder latent space\n",
        "\n",
        "Analysis of the latent space for a 8-values autoencoder"
      ]
    },
    {
      "cell_type": "code",
      "metadata": {
        "id": "xn8Cc-CfwReT"
      },
      "source": [
        "import tensorflow as tf\n",
        "import numpy as np\n",
        "import matplotlib.pyplot as plt\n",
        "\n",
        "from tensorflow.keras import Input\n",
        "from tensorflow.keras.models import Model, Sequential, load_model\n",
        "from tensorflow.keras.layers import Dense, Dropout, Activation\n",
        "from tensorflow.keras.optimizers import SGD, RMSprop, Adagrad, Adam, Nadam"
      ],
      "execution_count": null,
      "outputs": []
    },
    {
      "cell_type": "markdown",
      "metadata": {
        "id": "5_UIWjnj5EgM"
      },
      "source": [
        "# Data set\n",
        "\n",
        "Dataset: 8 values in 1-out-of-8 encoding"
      ]
    },
    {
      "cell_type": "code",
      "metadata": {
        "id": "wSk3l4j9w5kW",
        "colab": {
          "base_uri": "https://localhost:8080/"
        },
        "outputId": "60f1956d-dffd-486a-ce2c-26925d917915"
      },
      "source": [
        "X = []\n",
        "for i in range(8):\n",
        "    x = [0,0,0,0,0,0,0,0]\n",
        "    x[i] = 1\n",
        "    X.append(x)\n",
        "X = np.array(X)\n",
        "\n",
        "print(\"Input: %s\" %str(X.shape))\n",
        "print(X)\n",
        "\n",
        "iepoch = 0"
      ],
      "execution_count": null,
      "outputs": [
        {
          "output_type": "stream",
          "name": "stdout",
          "text": [
            "Input: (8, 8)\n",
            "[[1 0 0 0 0 0 0 0]\n",
            " [0 1 0 0 0 0 0 0]\n",
            " [0 0 1 0 0 0 0 0]\n",
            " [0 0 0 1 0 0 0 0]\n",
            " [0 0 0 0 1 0 0 0]\n",
            " [0 0 0 0 0 1 0 0]\n",
            " [0 0 0 0 0 0 1 0]\n",
            " [0 0 0 0 0 0 0 1]]\n"
          ]
        }
      ]
    },
    {
      "cell_type": "markdown",
      "metadata": {
        "id": "5HG4sANF6_Nk"
      },
      "source": [
        "# Model\n",
        "\n",
        "Define an autoencoder with \n",
        "  \n",
        "  - 8 input nodes\n",
        "\n",
        "  - 3 hidden nodes\n",
        "  \n",
        "  - 8 output nodes\n",
        "\n",
        "\n"
      ]
    },
    {
      "cell_type": "code",
      "metadata": {
        "id": "9OI0B81jwCQ7",
        "colab": {
          "base_uri": "https://localhost:8080/"
        },
        "outputId": "2ef93ab4-2f4a-4521-a708-e78e698e1ff7"
      },
      "source": [
        "ninput = 8\n",
        "noutput = 8\n",
        "nhidden = 3\n",
        "lrate = 1e-3\n",
        "\n",
        "model = Sequential()\n",
        "model.add(Dense(nhidden, input_dim=ninput, activation='sigmoid', name='code'))\n",
        "model.add(Dense(noutput, activation='sigmoid'))\n",
        "opt = Adam(lr=lrate)\n",
        "model.compile(loss='mean_squared_error', optimizer=opt, metrics=['accuracy'])\n",
        "print(\"Created new model i:%d h:%d o:%d\" %(ninput,nhidden,noutput))\n",
        "model.summary()"
      ],
      "execution_count": null,
      "outputs": [
        {
          "output_type": "stream",
          "name": "stdout",
          "text": [
            "Created new model i:8 h:3 o:8\n",
            "Model: \"sequential\"\n",
            "_________________________________________________________________\n",
            " Layer (type)                Output Shape              Param #   \n",
            "=================================================================\n",
            " code (Dense)                (None, 3)                 27        \n",
            "                                                                 \n",
            " dense (Dense)               (None, 8)                 32        \n",
            "                                                                 \n",
            "=================================================================\n",
            "Total params: 59\n",
            "Trainable params: 59\n",
            "Non-trainable params: 0\n",
            "_________________________________________________________________\n"
          ]
        },
        {
          "output_type": "stream",
          "name": "stderr",
          "text": [
            "/usr/local/lib/python3.7/dist-packages/keras/optimizers/optimizer_v2/adam.py:110: UserWarning: The `lr` argument is deprecated, use `learning_rate` instead.\n",
            "  super(Adam, self).__init__(name, **kwargs)\n"
          ]
        }
      ]
    },
    {
      "cell_type": "markdown",
      "metadata": {
        "id": "mSX8I0sg7SJn"
      },
      "source": [
        "# Train the autoencoder\n",
        "\n",
        "Note: the dataset X is given as both input and output!"
      ]
    },
    {
      "cell_type": "code",
      "metadata": {
        "id": "Kw1OJ89Ty0ZR",
        "colab": {
          "base_uri": "https://localhost:8080/"
        },
        "outputId": "eb7616f7-2f37-4d44-df52-1b57c747154c"
      },
      "source": [
        "batch_size = 16\n",
        "nepoch = 1000\n",
        "iters = 10\n",
        "\n",
        "for i in range(iters):\n",
        "  h = model.fit(X, X, batch_size=batch_size, epochs=nepoch, verbose=0)\n",
        "  current_loss = h.history['loss'][len(h.history['loss'])-1]\n",
        "  current_acc = h.history['accuracy'][len(h.history['accuracy'])-1]\n",
        "  iepoch += nepoch\n",
        "  print(\"Epoch %d - Accuracy %.2f Loss %f\"  %(iepoch,current_acc,current_loss))\n",
        "        "
      ],
      "execution_count": null,
      "outputs": [
        {
          "output_type": "stream",
          "name": "stdout",
          "text": [
            "Epoch 1000 - Accuracy 0.25 Loss 0.110806\n",
            "Epoch 2000 - Accuracy 0.38 Loss 0.099977\n",
            "Epoch 3000 - Accuracy 0.62 Loss 0.081439\n",
            "Epoch 4000 - Accuracy 0.75 Loss 0.066283\n",
            "Epoch 5000 - Accuracy 0.75 Loss 0.052772\n",
            "Epoch 6000 - Accuracy 0.88 Loss 0.042486\n",
            "Epoch 7000 - Accuracy 0.88 Loss 0.034939\n",
            "Epoch 8000 - Accuracy 1.00 Loss 0.022246\n",
            "Epoch 9000 - Accuracy 1.00 Loss 0.013154\n",
            "Epoch 10000 - Accuracy 1.00 Loss 0.008689\n"
          ]
        }
      ]
    },
    {
      "cell_type": "markdown",
      "metadata": {
        "id": "LIPvo0gm7cef"
      },
      "source": [
        "# Analysis of the encoder\n",
        "\n",
        "Display the latent space"
      ]
    },
    {
      "cell_type": "code",
      "metadata": {
        "id": "xkioG8UBz_Lf",
        "colab": {
          "base_uri": "https://localhost:8080/",
          "height": 652
        },
        "outputId": "dac768f9-4327-4003-f98e-a5d3eecc59c9"
      },
      "source": [
        "il = model.get_layer(index=0).input\n",
        "ol = model.get_layer(name='code').output\n",
        "\n",
        "menc = Model(inputs=il, outputs=ol)\n",
        "\n",
        "np.set_printoptions(precision=3, formatter={'float':lambda x: '%6.3f' %x}, suppress=True)\n",
        "\n",
        "code = menc.predict(X)\n",
        "print(code)\n",
        "\n",
        "plt.imshow(code, cmap=plt.cm.Blues)\n",
        "\n",
        "fig = plt.figure()\n",
        "ax = plt.axes(projection='3d')\n",
        "\n",
        "\n",
        "# Data for three-dimensional scattered points\n",
        "\n",
        "xdata = code[:,0]\n",
        "ydata = code[:,1]\n",
        "zdata = code[:,2]\n",
        "ax.scatter3D(xdata, ydata, zdata, c='blue');"
      ],
      "execution_count": null,
      "outputs": [
        {
          "output_type": "stream",
          "name": "stdout",
          "text": [
            "1/1 [==============================] - 0s 82ms/step\n",
            "[[ 0.992  0.002  0.989]\n",
            " [ 0.996  0.820  0.006]\n",
            " [ 0.011  0.370  0.003]\n",
            " [ 0.009  0.531  0.999]\n",
            " [ 0.805  0.003  0.004]\n",
            " [ 0.006  0.003  0.475]\n",
            " [ 0.989  0.981  0.983]\n",
            " [ 0.011  0.997  0.363]]\n"
          ]
        },
        {
          "output_type": "display_data",
          "data": {
            "text/plain": [
              "<Figure size 432x288 with 1 Axes>"
            ],
            "image/png": "[encoded data removed]"
          },
          "metadata": {
            "needs_background": "light"
          }
        },
        {
          "output_type": "display_data",
          "data": {
            "text/plain": [
              "<Figure size 432x288 with 1 Axes>"
            ],
            "image/png": "[encoded data removed]"
          },
          "metadata": {
            "needs_background": "light"
          }
        }
      ]
    },
    {
      "cell_type": "markdown",
      "metadata": {
        "id": "hyfZ8KNY7meC"
      },
      "source": [
        "# Analysis of the decoder\n",
        "\n",
        "Show decoded values"
      ]
    },
    {
      "cell_type": "code",
      "metadata": {
        "id": "tFxfmVtLAt8n",
        "colab": {
          "base_uri": "https://localhost:8080/",
          "height": 438
        },
        "outputId": "4e5434e8-6d5c-4b87-c97e-27078a3546e0"
      },
      "source": [
        "il = Input(shape=(3,))\n",
        "ol = model.layers[-1](il)\n",
        "\n",
        "mdec = Model(inputs=il, outputs=ol)\n",
        "\n",
        "C = np.array([[0,0,0],[0,0,1],[0,1,0],[0,1,1],[1,0,0],[1,0,1],[1,1,0],[1,1,1]])\n",
        "\n",
        "\n",
        "Xdec = mdec.predict(C)\n",
        "print(Xdec)\n",
        "plt.imshow(Xdec, cmap=plt.cm.Greens)\n"
      ],
      "execution_count": null,
      "outputs": [
        {
          "output_type": "stream",
          "name": "stdout",
          "text": [
            "1/1 [==============================] - 0s 44ms/step\n",
            "[[ 0.011  0.005  0.843  0.012  0.414  0.728  0.005  0.026]\n",
            " [ 0.334  0.000  0.002  0.766  0.002  0.892  0.040  0.008]\n",
            " [ 0.000  0.364  0.762  0.020  0.001  0.001  0.065  0.866]\n",
            " [ 0.003  0.001  0.001  0.844  0.000  0.004  0.377  0.654]\n",
            " [ 0.160  0.175  0.023  0.000  0.937  0.008  0.023  0.000]\n",
            " [ 0.897  0.000  0.000  0.028  0.046  0.023  0.174  0.000]\n",
            " [ 0.001  0.957  0.014  0.000  0.025  0.000  0.259  0.078]\n",
            " [ 0.056  0.040  0.000  0.045  0.000  0.000  0.754  0.024]]\n"
          ]
        },
        {
          "output_type": "execute_result",
          "data": {
            "text/plain": [
              "<matplotlib.image.AxesImage at 0x7f97becf3bd0>"
            ]
          },
          "metadata": {},
          "execution_count": 6
        },
        {
          "output_type": "display_data",
          "data": {
            "text/plain": [
              "<Figure size 432x288 with 1 Axes>"
            ],
            "image/png": "[encoded data removed]"
          },
          "metadata": {
            "needs_background": "light"
          }
        }
      ]
    },
    {
      "cell_type": "markdown",
      "source": [
        "# Anomaly detection\n",
        "\n",
        "Let's consider anomalies (i.e., inputs that are not 1-out-of-8 encodings)"
      ],
      "metadata": {
        "id": "GjosQfv7Ff3q"
      }
    },
    {
      "cell_type": "code",
      "source": [
        "import sklearn.metrics\n",
        "\n",
        "test = np.array([\n",
        "    [1,0,0,0,0,0,0,0],\n",
        "    [0,0,0,0,1,0,0,0],\n",
        "    [0,0,0,0,0,0,0,1],\n",
        "    [0,1,0,0,1,0,0,0],\n",
        "    [1,0,0,0,0,0,0,1],\n",
        "    [0,1,0,1,0,1,0,0],\n",
        "    [0,0,0,0,0,0,0,0],\n",
        "    ])\n",
        "\n",
        "ytest = model.predict(test)\n",
        "print(ytest)\n",
        "results = [sklearn.metrics.mean_squared_error(test[i],ytest[i]) for i in range(0,len(test))]\n",
        "print(results)\n",
        "\n",
        "fig = plt.figure()\n",
        "plt.bar(range(0,len(test)),results)\n"
      ],
      "metadata": {
        "colab": {
          "base_uri": "https://localhost:8080/",
          "height": 458
        },
        "id": "Lj9_PnK8Fbci",
        "outputId": "f7458639-4347-4c11-c37e-b7784b581f38"
      },
      "execution_count": null,
      "outputs": [
        {
          "output_type": "stream",
          "name": "stdout",
          "text": [
            "1/1 [==============================] - 0s 57ms/step\n",
            "[[ 0.890  0.000  0.000  0.027  0.047  0.023  0.169  0.000]\n",
            " [ 0.098  0.093  0.062  0.000  0.887  0.023  0.018  0.001]\n",
            " [ 0.000  0.057  0.139  0.129  0.000  0.002  0.133  0.795]\n",
            " [ 0.138  0.198  0.023  0.000  0.922  0.006  0.026  0.000]\n",
            " [ 0.065  0.001  0.000  0.318  0.000  0.004  0.325  0.036]\n",
            " [ 0.163  0.000  0.005  0.606  0.003  0.783  0.037  0.014]\n",
            " [ 0.075  0.013  0.005  0.009  0.057  0.013  0.067  0.005]]\n",
            "[0.005539189555322019, 0.004473566316086615, 0.012334449418408038, 0.08368709504851901, 0.251181342313445, 0.15379869727355328, 0.0017305537467930607]\n"
          ]
        },
        {
          "output_type": "execute_result",
          "data": {
            "text/plain": [
              "<BarContainer object of 7 artists>"
            ]
          },
          "metadata": {},
          "execution_count": 7
        },
        {
          "output_type": "display_data",
          "data": {
            "text/plain": [
              "<Figure size 432x288 with 1 Axes>"
            ],
            "image/png": "[encoded data removed]"
          },
          "metadata": {
            "needs_background": "light"
          }
        }
      ]
    }
  ]
}