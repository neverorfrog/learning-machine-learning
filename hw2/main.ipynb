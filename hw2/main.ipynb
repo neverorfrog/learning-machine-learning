{
 "cells": [
  {
   "cell_type": "code",
   "execution_count": 2,
   "metadata": {},
   "outputs": [],
   "source": [
    "import warnings\n",
    "from trainer import *\n",
    "from models import *\n",
    "from datamodule import Dataset\n",
    "warnings.filterwarnings(\"ignore\")\n",
    "from plotting_utils import *\n",
    "from car_env import *\n",
    "from training_utils import *\n",
    "from torch import nn\n",
    "torch.manual_seed(200)\n",
    "%reload_ext autoreload\n",
    "%autoreload 2"
   ]
  },
  {
   "cell_type": "code",
   "execution_count": 3,
   "metadata": {},
   "outputs": [
    {
     "name": "stdout",
     "output_type": "stream",
     "text": [
      "Environment: CarRacing-v2\n",
      "Action space: Discrete(5)\n",
      "Observation space: Box(0, 255, (96, 96, 3), uint8)\n",
      "DATA SAVED!\n",
      "N Examples: 6369\n",
      "N Inputs: 3\n",
      "N Classes: 5\n",
      "Classes: [0. 1. 2. 3. 4.]\n",
      " - Class 0.0: 1000 (15.701051970482022)\n",
      " - Class 1.0: 1500 (23.551577955723033)\n",
      " - Class 2.0: 1500 (23.551577955723033)\n",
      " - Class 3.0: 2000 (31.402103940964043)\n",
      " - Class 4.0: 369 (5.7936881771078665)\n",
      "\n",
      "\n",
      "N Examples: 2749\n",
      "N Inputs: 3\n",
      "N Classes: 5\n",
      "Classes: [0. 1. 2. 3. 4.]\n",
      " - Class 0.0: 133 (4.838122953801383)\n",
      " - Class 1.0: 275 (10.00363768643143)\n",
      " - Class 2.0: 406 (14.76900691160422)\n",
      " - Class 3.0: 1896 (68.97053473990542)\n",
      " - Class 4.0: 39 (1.4186977082575483)\n"
     ]
    }
   ],
   "source": [
    "car_env = CarEnv()\n",
    "dataset = Dataset(load = False)\n",
    "dataset.summarize(train = True)\n",
    "print(\"\\n\")\n",
    "dataset.summarize(train = False)"
   ]
  },
  {
   "cell_type": "code",
   "execution_count": 4,
   "metadata": {},
   "outputs": [],
   "source": [
    "cnn = CNN(name=\"new\", num_classes = 5)\n",
    "trainer = Trainer(model=cnn, data=dataset)"
   ]
  },
  {
   "cell_type": "code",
   "execution_count": 7,
   "metadata": {},
   "outputs": [],
   "source": [
    "trainer.fit()\n",
    "trainer.evaluate()"
   ]
  },
  {
   "cell_type": "code",
   "execution_count": 6,
   "metadata": {},
   "outputs": [
    {
     "name": "stdout",
     "output_type": "stream",
     "text": [
      "-24.292929292930026\n",
      "True\n"
     ]
    }
   ],
   "source": [
    "car_env.play(cnn)\n",
    "# cnn.load(name=\"new\")"
   ]
  }
 ],
 "metadata": {
  "kernelspec": {
   "display_name": "machine-learning",
   "language": "python",
   "name": "python3"
  },
  "language_info": {
   "codemirror_mode": {
    "name": "ipython",
    "version": 3
   },
   "file_extension": ".py",
   "mimetype": "text/x-python",
   "name": "python",
   "nbconvert_exporter": "python",
   "pygments_lexer": "ipython3",
   "version": "3.10.12"
  }
 },
 "nbformat": 4,
 "nbformat_minor": 2
}
