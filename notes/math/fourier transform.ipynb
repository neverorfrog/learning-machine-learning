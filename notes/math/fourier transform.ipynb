{
 "cells": [
  {
   "cell_type": "markdown",
   "metadata": {},
   "source": [
    "[3Blue1Brown](https://www.3blue1brown.com/lessons/fourier-transforms)\n",
    "\n",
    "## Goal\n",
    "\n",
    "- If we have a sum of sinusoids we want to decompose into the single sinusoids (one for each frequency)\n",
    "\n",
    "## Sinusoid is an oscillating and rotating vector on unit circle\n",
    "\n",
    "- Euler formula: $x + iy = cos \\rho + i sin \\rho = e^{i\\rho}$\n",
    "    - $\\rho$ is how much, in radians, i am far away from 0 going counterclockwise\n",
    "    - $e^{i2\\pi}$ is a full rotation\n",
    "- Rotation in function of time: $e^{i2\\pi t f}$\n",
    "    - $t$ is time in seconds\n",
    "    - $f$ is the (wound-up) frequency: how much rotation is done every second\n",
    "- Finally, if my sinusoid is $g(t)$, the wound-up version is $g(t) \\cdot e^{i2\\pi t f}$\n",
    "    - We have two frequencies\n",
    "        - Wound-up frequency $f$\n",
    "        - Frequency of the sinusoid $g(t)$\n",
    "\n",
    "## Fourier Transform\n",
    "\n",
    "- Wound-up graph have a center of mass\n",
    "    - We sample many points on $g(t)$ and make an average\n",
    "- So FT is integral that gives complex number from a sinusoid in time\n",
    "    - $\\hat g(f) = \\int{g(t) \\cdot e^{-i2\\pi t f} dt}$\n",
    "- This number represents the strength of the sinusoid in that frequency\n",
    "    - Intuitively it is the distance of the com of the wound-up graph from the origin"
   ]
  }
 ],
 "metadata": {
  "language_info": {
   "name": "python"
  }
 },
 "nbformat": 4,
 "nbformat_minor": 2
}
