{
  "cells": [
    {
      "cell_type": "markdown",
      "metadata": {
        "id": "Z3GYzNWONtju"
      },
      "source": [
        "# Machine Learning - Exercise 9\n",
        "\n",
        "# KNN"
      ]
    },
    {
      "cell_type": "markdown",
      "metadata": {
        "id": "eDEJU1RwoIlv"
      },
      "source": [
        "## Import\n",
        "\n",
        "Import libraries that contains the implementations of the functions used in the rest of the program.\n",
        "\n"
      ]
    },
    {
      "cell_type": "code",
      "execution_count": 1,
      "metadata": {
        "colab": {
          "base_uri": "https://localhost:8080/"
        },
        "id": "BSKuPnIXNoq2",
        "outputId": "b5ddee9b-8dff-4f3f-8d4d-5a1a7f1deeb0"
      },
      "outputs": [
        {
          "name": "stdout",
          "output_type": "stream",
          "text": [
            "Libraries imported.\n"
          ]
        }
      ],
      "source": [
        "import random\n",
        "import numpy as np\n",
        "from sklearn import svm\n",
        "import matplotlib.pyplot as plt\n",
        "from sklearn.neighbors import KNeighborsClassifier\n",
        "\n",
        "print(\"Libraries imported.\")"
      ]
    },
    {
      "cell_type": "markdown",
      "metadata": {
        "id": "KaeLRpWIfO1m"
      },
      "source": [
        "# Data set\n"
      ]
    },
    {
      "cell_type": "markdown",
      "metadata": {
        "id": "SUFE4MtalvtD"
      },
      "source": [
        "Data-generation function"
      ]
    },
    {
      "cell_type": "code",
      "execution_count": 2,
      "metadata": {
        "id": "gGeQO-FylexA"
      },
      "outputs": [],
      "source": [
        "# Param: n=size of data set, outliers=True/False\n",
        "def generateData(n, outliers=False):\n",
        "    X = np.ndarray((n,2))\n",
        "    t = np.ndarray((n,1))\n",
        "    n1 = int(n*0.5)\n",
        "\n",
        "    # define random centers of distributions far away\n",
        "\n",
        "    for i in range(0,n1):\n",
        "        X[i,:] = np.random.normal((2.0,8.5),0.8,size=(1,2))\n",
        "        t[i] = -1\n",
        "    for i in range(n1,n):\n",
        "        X[i,:] = np.random.normal((7.0,5.0),0.5,size=(1,2))\n",
        "        t[i] = 1\n",
        "\n",
        "    if (outliers):\n",
        "        no=int(n*0.9)\n",
        "        for i in range (no,n):\n",
        "            X[i,:] = np.random.normal((4.0,7.0),0.5,size=(1,2))\n",
        "            if random.random() > 0.5:\n",
        "                t[i] = 1\n",
        "            else:\n",
        "              t[i] = -1\n",
        "\n",
        "    return [X,t]"
      ]
    },
    {
      "cell_type": "markdown",
      "metadata": {
        "id": "cYuyvK3Cl_z7"
      },
      "source": [
        "Generate n data points with/without outliers"
      ]
    },
    {
      "cell_type": "code",
      "execution_count": 3,
      "metadata": {
        "colab": {
          "base_uri": "https://localhost:8080/"
        },
        "id": "0nHa8mpWbAEp",
        "outputId": "cbaed576-ef69-4bef-e107-2585be787733"
      },
      "outputs": [
        {
          "name": "stdout",
          "output_type": "stream",
          "text": [
            "Input shape: (100, 2)\n",
            "Output shape: (100, 1)\n",
            "Number of attributes/features: 2\n",
            "Number of classes: 2\n",
            "Number of samples: 100\n",
            "Example:\n",
            "x1 = array([2.2263828 , 7.29496423])\n",
            "y1 = array([-1.])\n"
          ]
        }
      ],
      "source": [
        "n = 100\n",
        "outliers = True\n",
        "np.random.seed(123)\n",
        "\n",
        "X, t = generateData(n, outliers=outliers)\n",
        "\n",
        "# print specs\n",
        "print(\"Input shape: %s\" %str(X.shape))\n",
        "print(\"Output shape: %s\" %str(t.shape))\n",
        "print(\"Number of attributes/features: %d\" %(X.shape[1]))\n",
        "print(\"Number of classes: %d\" %(len(np.unique(t))))\n",
        "print(\"Number of samples: %d\" %(X.shape[0]))\n",
        "\n",
        "# show an example\n",
        "id = random.randrange(0,X.shape[0])\n",
        "\n",
        "print(\"Example:\")\n",
        "print(\"x%d = %r\" %(id,X[id]))\n",
        "print(\"y%d = %r\" %(id,t[id]))"
      ]
    },
    {
      "cell_type": "markdown",
      "metadata": {
        "id": "5Flyh4KR-a6L"
      },
      "source": [
        "# Plot functions"
      ]
    },
    {
      "cell_type": "code",
      "execution_count": 4,
      "metadata": {
        "id": "5X1SKLD7a9AE"
      },
      "outputs": [],
      "source": [
        "# Plot data\n",
        "def plotData(X,t,XNr=None,XNg=None,label='Data'):\n",
        "    Xr = np.ndarray((0,2))\n",
        "    Xg = np.ndarray((0,2))\n",
        "    for i in range(0,len(X)):\n",
        "        if (t[i][0]==1):\n",
        "            Xr = np.vstack([Xr, [X[i,0],X[i,1]]])\n",
        "        else:\n",
        "            Xg = np.vstack([Xg, [X[i,0],X[i,1]]])\n",
        "\n",
        "    if (not XNr is None):\n",
        "        plt.plot(XNr[:,0],XNr[:,1],'.', color='#FFAAAA')\n",
        "    if (not XNg is None):\n",
        "        plt.plot(XNg[:,0],XNg[:,1],'.', color='#AAFFAA')\n",
        "\n",
        "    plt.plot(Xr[:,0],Xr[:,1],'ro')\n",
        "    plt.plot(Xg[:,0],Xg[:,1],'go')\n",
        "    plt.axis([0,10,0,10])\n",
        "    plt.title(label)\n",
        "    plt.xlabel('x1')\n",
        "    plt.ylabel('x2')\n",
        "    plt.show()\n",
        "\n",
        "# Plot results of a solution\n",
        "def plotResult(X, t, clf, label):\n",
        "    XNr = np.ndarray((0,2))\n",
        "    XNg = np.ndarray((0,2))\n",
        "\n",
        "    for u in np.arange(0,10,0.1):\n",
        "        for v in np.arange(0,10,0.1):\n",
        "            xn = np.array([[u, v]])\n",
        "            yn = clf.predict(xn)\n",
        "            if (yn<0):\n",
        "                XNg = np.vstack([XNg, [u,v]])\n",
        "            else:\n",
        "                XNr = np.vstack([XNr, [u,v]])\n",
        "\n",
        "    plotData(X,t,XNr,XNg,label)"
      ]
    },
    {
      "cell_type": "markdown",
      "metadata": {
        "id": "U1w39XfR-emk"
      },
      "source": [
        "# Draw the dataset"
      ]
    },
    {
      "cell_type": "code",
      "execution_count": 5,
      "metadata": {
        "colab": {
          "base_uri": "https://localhost:8080/",
          "height": 472
        },
        "id": "C4Dw1AFq-hyr",
        "outputId": "aa553c88-2d9f-498e-e9ce-52a2d22de54c"
      },
      "outputs": [
        {
          "data": {
            "image/png": "[encoded data removed]",
            "text/plain": [
              "<Figure size 640x480 with 1 Axes>"
            ]
          },
          "metadata": {},
          "output_type": "display_data"
        }
      ],
      "source": [
        "plotData(X,t)"
      ]
    },
    {
      "cell_type": "markdown",
      "metadata": {
        "id": "grWZC8TEislj"
      },
      "source": [
        "# Model"
      ]
    },
    {
      "cell_type": "markdown",
      "metadata": {
        "id": "rw6gpLNFqkCr"
      },
      "source": [
        "## Training KNN classifier\n",
        "\n",
        "More details on KNN KNeighborsClassifier method are available at https://scikit-learn.org/stable/modules/generated/sklearn.neighbors.KNeighborsClassifier.html"
      ]
    },
    {
      "cell_type": "code",
      "execution_count": 6,
      "metadata": {
        "id": "xNs9EytMJtp0"
      },
      "outputs": [],
      "source": [
        "t_flat = t.ravel()\n",
        "knn = KNeighborsClassifier(n_neighbors=5)\n",
        "knn.fit(X, t_flat);"
      ]
    },
    {
      "cell_type": "markdown",
      "metadata": {
        "id": "U_HOYZWZqMSc"
      },
      "source": [
        "## Evaluate model\n"
      ]
    },
    {
      "cell_type": "markdown",
      "metadata": {
        "id": "6GCkU3-HbAAD"
      },
      "source": [
        "# Visualize results\n",
        "\n",
        "Define visualization functions"
      ]
    },
    {
      "cell_type": "code",
      "execution_count": 7,
      "metadata": {
        "colab": {
          "base_uri": "https://localhost:8080/",
          "height": 472
        },
        "id": "7iTh0O80bSNJ",
        "outputId": "22709673-5934-4572-dd4b-1487858864bb"
      },
      "outputs": [
        {
          "data": {
            "image/png": "[encoded data removed]",
            "text/plain": [
              "<Figure size 640x480 with 1 Axes>"
            ]
          },
          "metadata": {},
          "output_type": "display_data"
        }
      ],
      "source": [
        "# show results\n",
        "plotResult(X,t,knn,'KNN Classifier')"
      ]
    },
    {
      "cell_type": "markdown",
      "metadata": {
        "id": "So8IDhSkrKFo"
      },
      "source": [
        "# Home Exercises\n",
        "\n",
        "Test robustness to outliers and to noise.\n",
        "Generate a test set from the same distributions used to generate the training set.\n",
        "\n",
        "\n",
        "**Question 1**\n",
        "\n",
        "Compare the performance of KNN in the presence of outliers. How does it change by changing the value of n_neighbours?\n",
        "\n",
        "**Question 2**\n",
        "\n",
        "Compare the performance using different values for the n_neighbors attribute in\n",
        "presence of noisy labels. Generate a data set with noisy data (assign random labels to a subset of the dataset).\n",
        "Plot performace (e.g., accuracy) over percentage of random samples, considering percentage values 0.0, 0.25, 0.5, 0.75, 1.\n"
      ]
    }
  ],
  "metadata": {
    "colab": {
      "provenance": []
    },
    "kernelspec": {
      "display_name": "Python 3",
      "name": "python3"
    },
    "language_info": {
      "codemirror_mode": {
        "name": "ipython",
        "version": 3
      },
      "file_extension": ".py",
      "mimetype": "text/x-python",
      "name": "python",
      "nbconvert_exporter": "python",
      "pygments_lexer": "ipython3",
      "version": "3.10.12"
    }
  },
  "nbformat": 4,
  "nbformat_minor": 0
}
