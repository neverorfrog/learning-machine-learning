{
 "cells": [
  {
   "cell_type": "markdown",
   "metadata": {},
   "source": [
    "# Local receptive field\n",
    "- Every hidden unit looks at a specific region of the data\n",
    "- For example, in a 28x28 image, the LRF could be a 5x5 region\n",
    "- **Stride** length is how much we shift the LRF from one unit to the other\n",
    "- On each layer we iterate over alle the LRF\n",
    "\n",
    "# Shared weights and biases\n",
    "- The same set of wandb is associated to every LRF in the same layer\n",
    "- This means every hidden unit detects the same feature in each LRF\n",
    "- **Feature map** is what lies between the input layer and the hidden layer, the shared wandb are called **kernel**\n",
    "\n",
    "# Pooling\n",
    "- Layer after the convolutional to condense what comes out of it"
   ]
  }
 ],
 "metadata": {
  "language_info": {
   "name": "python"
  },
  "orig_nbformat": 4
 },
 "nbformat": 4,
 "nbformat_minor": 2
}
