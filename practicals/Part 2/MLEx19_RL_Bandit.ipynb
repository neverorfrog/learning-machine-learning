{
  "nbformat": 4,
  "nbformat_minor": 0,
  "metadata": {
    "colab": {
      "provenance": [],
      "toc_visible": true
    },
    "kernelspec": {
      "name": "python3",
      "display_name": "Python 3"
    }
  },
  "cells": [
    {
      "cell_type": "markdown",
      "metadata": {
        "id": "fxLKxDqFsmjh"
      },
      "source": [
        "# ML Exercise 19 \n",
        "\n",
        "# Multi-armed bandit\n",
        "\n",
        "Objective: understanding the integration of exploration and exploitation."
      ]
    },
    {
      "cell_type": "code",
      "metadata": {
        "id": "ny9xvKCfshm-"
      },
      "source": [
        "import random\n",
        "import itertools\n",
        "import matplotlib.pyplot as plt\n",
        "import numpy as np\n",
        "\n",
        "# random seed\n",
        "random.seed(20191203)\n",
        "\n",
        "def plotdata(R, d=1):\n",
        "    n = len(R)\n",
        "    t = []\n",
        "    y = []\n",
        "    for i in range(0,int(n/d)):\n",
        "        t.append(np.mean(range(i*d,(i+1)*d)));\n",
        "        y.append(np.mean(R[i*d:min(n,(i+1)*d)]))\n",
        "    return t,y\n"
      ],
      "execution_count": null,
      "outputs": []
    },
    {
      "cell_type": "markdown",
      "metadata": {
        "id": "4RE-VGI1v8ev"
      },
      "source": [
        "## Environment\n",
        "\n",
        "Bandit model\n",
        "\n",
        "Two different setups of the rewards (setup=0/1),\n",
        "same standard deviation `sigma`."
      ]
    },
    {
      "cell_type": "code",
      "metadata": {
        "id": "rVJ7kEOhsluA",
        "colab": {
          "base_uri": "https://localhost:8080/"
        },
        "outputId": "a3b9c665-75cc-47f0-a724-200810d45d26"
      },
      "source": [
        "class Bandit:\n",
        "  def __init__(self,setup,sigma=1):\n",
        "    if setup==0:\n",
        "      self.R = [ 1, 2, 3, 4, 5, 10, 15, 20, 25, 50, 75, 100 ]\n",
        "    else:  \n",
        "      self.R = [ 100, 75, 50, 25, 20, 15, 10, 5, 4, 3, 2, 1 ]\n",
        "    self.S = sigma\n",
        "    self.n = len(self.R)\n",
        "    self.state = 'x0'\n",
        "\n",
        "  def action_space(self):\n",
        "    return range(0,self.n)\n",
        "\n",
        "  def step(self, a):\n",
        "    s = self.state\n",
        "    r = random.gauss(self.R[a],self.S)\n",
        "    return s,r\n",
        "\n",
        "# create environment\n",
        "setup = 1\n",
        "s = 10\n",
        "env = Bandit(setup,s)\n",
        "\n",
        "aspace = env.action_space()\n",
        "n = len(aspace)\n",
        "\n",
        "print('Bandit: setup:%d stddev:%.1f' %(setup,s))\n"
      ],
      "execution_count": null,
      "outputs": [
        {
          "output_type": "stream",
          "name": "stdout",
          "text": [
            "Bandit: setup:1 stddev:10.0\n"
          ]
        }
      ]
    },
    {
      "cell_type": "markdown",
      "metadata": {
        "id": "Ku-tDX_twHgh"
      },
      "source": [
        "## Agent"
      ]
    },
    {
      "cell_type": "code",
      "metadata": {
        "id": "LzvDY7EWwJYv"
      },
      "source": [
        "class Agent:\n",
        "  def __init__(self, nactions, epsilon, rmax=0):\n",
        "    self.epsilon = epsilon\n",
        "    self.rmax = rmax\n",
        "    self.nactions = nactions\n",
        "    self.C = np.zeros(self.nactions)\n",
        "    self.Q = np.zeros(self.nactions) + rmax\n",
        "\n",
        "  def choose(self):\n",
        "    r = random.random()\n",
        "    if r < self.epsilon:\n",
        "      # choose a random action\n",
        "      a = random.randrange(0,self.nactions)\n",
        "    else:\n",
        "      # choose a best action (random if multiple ones)\n",
        "      m = np.max(self.Q)\n",
        "      maxs = [i for i,v in enumerate(self.Q) if v == m]\n",
        "      a = random.choice(maxs)\n",
        "    return a\n",
        "\n",
        "  def update(self,a,r):\n",
        "      self.C[a] += 1\n",
        "      self.Q[a] = self.Q[a] + 1.0/self.C[a] * (r - self.Q[a])\n"
      ],
      "execution_count": null,
      "outputs": []
    },
    {
      "cell_type": "markdown",
      "metadata": {
        "id": "E6LnXXWwxLDL"
      },
      "source": [
        "# Training set-up"
      ]
    },
    {
      "cell_type": "code",
      "metadata": {
        "id": "BCD39BSkxOJQ"
      },
      "source": [
        "epsilon = [0.0,   # only exploitation (greedy)\n",
        "           0.1,   # combine exploration and exploitation\n",
        "           1.0]   # only exploration (random)\n",
        "\n",
        "# set of experiments to run\n",
        "# each experiment: [agent, label, reward history]\n",
        "experiments = []\n",
        "for e in epsilon:\n",
        "  agent = Agent(n,e)\n",
        "  label = 'e %.2f' %e\n",
        "  rh = []\n",
        "  experiments.append([agent, label, rh])\n",
        "agent = Agent(n,epsilon=0.0,rmax=500)\n",
        "label = 'e=0.0 rmax'\n",
        "rh = []\n",
        "experiments.append([agent, label, rh])\n"
      ],
      "execution_count": null,
      "outputs": []
    },
    {
      "cell_type": "markdown",
      "metadata": {
        "id": "L4-1d0bmaRmq"
      },
      "source": [
        "## Training\n",
        "\n",
        "Train all the experiments for `T` episodes.\n",
        "\n",
        "This block can be repeated multiple times to continue learning.\n",
        "If you change the bandit behavior during learning, you can appreciate the ability of the model to adapt to the new behavior.\n"
      ]
    },
    {
      "cell_type": "code",
      "metadata": {
        "id": "2fBQ8U3taQjC"
      },
      "source": [
        "T = 500\n",
        "\n",
        "for exp in experiments:\n",
        "  agent = exp[0]\n",
        "  rh = exp[2]\n",
        "  for t in range(T):\n",
        "    a = agent.choose()\n",
        "    s,r = env.step(a)\n",
        "    agent.update(a,r)\n",
        "    rh.append(r)\n"
      ],
      "execution_count": null,
      "outputs": []
    },
    {
      "cell_type": "markdown",
      "metadata": {
        "id": "sKsosMOK0Imu"
      },
      "source": [
        "## Results\n",
        "\n",
        "Plot the results obtained so far.\n"
      ]
    },
    {
      "cell_type": "code",
      "metadata": {
        "id": "yAInI8Gj0Knm",
        "colab": {
          "base_uri": "https://localhost:8080/",
          "height": 281
        },
        "outputId": "8424c391-2c63-4a72-8473-5ddbc372e457"
      },
      "source": [
        "plt.title('Results')\n",
        "plt.ylim(bottom = 0, top = 150)\n",
        "\n",
        "for exp in experiments:\n",
        "  rh = exp[2]\n",
        "  lab = exp[1]\n",
        "  t,y = plotdata(rh, d=20)\n",
        "  plt.plot(t, y, label=lab)\n",
        "\n",
        "plt.legend()\n",
        "\n",
        "plt.show()\n"
      ],
      "execution_count": null,
      "outputs": [
        {
          "output_type": "display_data",
          "data": {
            "text/plain": [
              "<Figure size 432x288 with 1 Axes>"
            ],
            "image/png": "[encoded data removed]"
          },
          "metadata": {
            "needs_background": "light"
          }
        }
      ]
    },
    {
      "cell_type": "markdown",
      "metadata": {
        "id": "eSRqHlkuneR-"
      },
      "source": [
        "## Home Exercises\n",
        "\n",
        "**Question 1**  Small vs. large variance\n",
        "\n",
        "Understand difference performance depending on the variance of the rewards\n",
        "\n",
        "**Question 2**  Variable bandit\n",
        "\n",
        "Understand performance when varying the environment. Train the agents with a bandit,\n",
        "then change the bandit parameters and keep training without resetting the agents (i.e., skip the Training setup step).\n"
      ]
    }
  ]
}