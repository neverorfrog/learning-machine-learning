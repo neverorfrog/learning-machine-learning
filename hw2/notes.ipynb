{
 "cells": [
  {
   "cell_type": "markdown",
   "metadata": {},
   "source": [
    "# Dataset\n",
    "\n",
    "- Data augmentation needs to be changed. As it is, it worsens things\n",
    "- Weighted sampling enhances a bit (but not together with weighted CEL)\n",
    "\n",
    "\n",
    "# Model\n",
    "- What if we consider two subsequent models?\n",
    "\n",
    "# Training\n",
    "- Weighted Cross Entropy Loss"
   ]
  }
 ],
 "metadata": {
  "language_info": {
   "name": "python"
  }
 },
 "nbformat": 4,
 "nbformat_minor": 2
}
