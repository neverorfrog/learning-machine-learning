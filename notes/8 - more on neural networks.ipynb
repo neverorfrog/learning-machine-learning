{
 "cells": [
  {
   "cell_type": "markdown",
   "metadata": {},
   "source": [
    "# Universal Function Approximation Theorem\n",
    "\n",
    "A neural network with at least one hidden layer whose output is made nonlinear by an activation function is able to approximate any Borel measurable function, given it has sufficient capacity (enough hidden units)"
   ]
  }
 ],
 "metadata": {
  "language_info": {
   "name": "python"
  }
 },
 "nbformat": 4,
 "nbformat_minor": 2
}
