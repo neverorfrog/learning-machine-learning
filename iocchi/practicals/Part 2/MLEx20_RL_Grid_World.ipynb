{
  "nbformat": 4,
  "nbformat_minor": 0,
  "metadata": {
    "colab": {
      "provenance": []
    },
    "kernelspec": {
      "name": "python3",
      "display_name": "Python 3"
    }
  },
  "cells": [
    {
      "cell_type": "markdown",
      "metadata": {
        "id": "fxLKxDqFsmjh"
      },
      "source": [
        "# ML Exercise 20\n",
        "\n",
        "# RL on Grid world\n",
        "\n",
        "Objective: Understanding RL algorithms in a simple grid MDP."
      ]
    },
    {
      "cell_type": "code",
      "metadata": {
        "id": "ny9xvKCfshm-"
      },
      "source": [
        "import random, time, math\n",
        "import itertools\n",
        "from collections import defaultdict\n",
        "\n",
        "import matplotlib.pyplot as plt\n",
        "import numpy as np\n",
        "\n",
        "# random seed\n",
        "random.seed(20191204)\n",
        "\n",
        "def plotdata(R, d=1):\n",
        "    n = len(R)\n",
        "    t = []\n",
        "    y = []\n",
        "    for i in range(0,int(n/d)):\n",
        "        #print(i*d,(i+1)*d)\n",
        "        t.append(np.mean(range(i*d,(i+1)*d)));\n",
        "        y.append(np.mean(R[i*d:min(n,(i+1)*d)]))\n",
        "    return t,y"
      ],
      "execution_count": null,
      "outputs": []
    },
    {
      "cell_type": "markdown",
      "metadata": {
        "id": "4RE-VGI1v8ev"
      },
      "source": [
        "## Environment\n",
        "\n",
        "Grid world model\n",
        "\n",
        "rows x cols cells\n",
        "\n",
        "State: (r,c)\n",
        "\n",
        "Init: (0,0)    Goal: (rows-1, cols-1)"
      ]
    },
    {
      "cell_type": "code",
      "metadata": {
        "id": "rVJ7kEOhsluA",
        "colab": {
          "base_uri": "https://localhost:8080/"
        },
        "outputId": "2bdcf0d0-9e6e-4bcc-a764-05ba55dfdc17"
      },
      "source": [
        "class GridWorld:\n",
        "  def __init__(self, rows=3, cols=4):\n",
        "    self.rows = rows\n",
        "    self.cols = cols\n",
        "    self.ns = self.rows * self.cols # nr. of states\n",
        "    self.actionnames = ['L','R','U','D']\n",
        "    self.na = len(self.actionnames) # nr. of actions\n",
        "    self.reset()\n",
        "\n",
        "  def state_space(self):\n",
        "    return range(0,self.ns)\n",
        "\n",
        "  def action_space(self):\n",
        "    return range(0,self.na)\n",
        "\n",
        "  def action_sample(self):\n",
        "    return random.randrange(0,self.na)\n",
        "\n",
        "  def encode(self):\n",
        "    return self.state[0]+self.state[1]*self.rows\n",
        "\n",
        "  def render(self):\n",
        "    print('S: %d,%d (enc: %d)' %(self.state[0], self.state[1], self.encode()))\n",
        "\n",
        "  def reset(self):\n",
        "    self.state = [0,0]\n",
        "    return self.encode()\n",
        "\n",
        "  def step(self, a):\n",
        "    # transition\n",
        "    if a==0 and self.state[1]>0: # L\n",
        "      self.state[1] -= 1\n",
        "    elif a==1 and self.state[1]<self.cols-1:  # R\n",
        "      self.state[1] += 1\n",
        "      if self.state[1]==0 and random.random()<0.2:\n",
        "        self.state[1] += 1\n",
        "    elif a==2 and self.state[0]<self.rows-1: # U\n",
        "      if random.random()<0.9:\n",
        "        self.state[0] += 1\n",
        "    elif a==3 and self.state[0]>0: # D\n",
        "      self.state[0] -= 1\n",
        "    s = self.encode()\n",
        "\n",
        "    # reward, done\n",
        "    if self.state == [self.rows-1,self.cols-1]:\n",
        "      r = 100\n",
        "      print('G', end='')\n",
        "      done = True\n",
        "    else:  \n",
        "      r = 0\n",
        "      done = False\n",
        "    \n",
        "    return s,r,done\n",
        "\n",
        "rows=7\n",
        "cols=7\n",
        "env = GridWorld(rows,cols)\n",
        "ns = len(env.state_space())\n",
        "na = len(env.action_space())\n",
        "\n",
        "print(\"Grid World %d x %d. N.states=%d  N.actions=%d\" %(rows,cols,ns,na))\n"
      ],
      "execution_count": null,
      "outputs": [
        {
          "output_type": "stream",
          "name": "stdout",
          "text": [
            "Grid World 7 x 7. N.states=49  N.actions=4\n"
          ]
        }
      ]
    },
    {
      "cell_type": "markdown",
      "metadata": {
        "id": "pBIZ_-t23rtO"
      },
      "source": [
        "## Environment test"
      ]
    },
    {
      "cell_type": "code",
      "metadata": {
        "id": "inCKoP89xYQc",
        "colab": {
          "base_uri": "https://localhost:8080/"
        },
        "outputId": "3b3820a6-a13a-44cd-fea6-2373445c1f4a"
      },
      "source": [
        "def test():\n",
        "  done = False\n",
        "  T = 100\n",
        "  t = 0\n",
        "  s = env.reset()\n",
        "  #env.render()\n",
        "  while t<T and not done:\n",
        "    a = env.action_sample()  # L, R, U, D\n",
        "    s1,r,done = env.step(a)\n",
        "    #env.render()\n",
        "    s = s1\n",
        "    t += 1\n",
        "    time.sleep(0.001)\n",
        "\n",
        "  print('%3d - %d %d %.1f %d %d' %(t,s,a,r,s1,done))\n",
        "\n",
        "test()"
      ],
      "execution_count": null,
      "outputs": [
        {
          "output_type": "stream",
          "name": "stdout",
          "text": [
            "100 - 30 2 0.0 30 0\n"
          ]
        }
      ]
    },
    {
      "cell_type": "markdown",
      "metadata": {
        "id": "Ku-tDX_twHgh"
      },
      "source": [
        "## Agent"
      ]
    },
    {
      "cell_type": "code",
      "metadata": {
        "id": "LzvDY7EWwJYv"
      },
      "source": [
        "class Agent:\n",
        "  def __init__(self, nstates, nactions, epsilon=0.1, gamma=0.9, rmax=0, edecay = False, UCB=False):\n",
        "    self.nstates = nstates\n",
        "    self.nactions = nactions\n",
        "    self.epsilon = epsilon\n",
        "    self.rmax = rmax\n",
        "    self.gamma = gamma\n",
        "    self.UCB = UCB\n",
        "    self.edecay = edecay\n",
        "    self.C = defaultdict(lambda: defaultdict(int))  # state-action visit counter\n",
        "    self.Q = defaultdict(lambda: defaultdict(self.Q_default_value)) # action-value table\n",
        "\n",
        "  def Q_default_value(self):\n",
        "    return self.rmax\n",
        "\n",
        "  def choose(self,s,optimal=False):\n",
        "    if optimal:\n",
        "      Qv = [self.Q[s][k] for k in range(0,self.nactions)]\n",
        "      return np.argmax(Qv)\n",
        "\n",
        "    r = random.random()\n",
        "    if r < self.epsilon:\n",
        "      a = random.randrange(0,self.nactions)\n",
        "      #print('random action %d' %a)\n",
        "    else:\n",
        "      Qv = [self.Q[s][k] for k in range(0,self.nactions)]\n",
        "      Z = np.array(Qv)\n",
        "      m = np.max(Qv)\n",
        "      if self.UCB and m>0:\n",
        "        beta = 1.0\n",
        "        t = np.sum([v for v in self.C[s].values()])\n",
        "        Uv = [0 if self.C[s][k]==0 else math.sqrt(beta * math.log(t) / (2 * self.C[s][k]))  for k in range(0,self.nactions)]\n",
        "        Z = np.array(Qv)/np.max(Qv) + np.array(Uv)\n",
        "        m = np.max(Z)\n",
        "      maxs = [k for k in range(0,self.nactions) if m == Z[k]]\n",
        "      \n",
        "      a = random.choice(maxs)\n",
        "      #print('exploitation action %d' %a)\n",
        "\n",
        "    return a\n",
        "\n",
        "  def update(self,s,a,r,s1,done):\n",
        "      self.C[s][a] += 1\n",
        "      a1 = self.choose(s1)\n",
        "      ret = r + self.gamma * self.Q[s1][a1]  # sarsa\n",
        "      alpha = 1.0/self.C[s][a]\n",
        "      self.Q[s][a] = self.Q[s][a] + alpha * (ret - self.Q[s][a])\n",
        "      if done and self.edecay:\n",
        "        self.epsilon = max(0.1, self.epsilon*0.99)\n",
        "\n"
      ],
      "execution_count": null,
      "outputs": []
    },
    {
      "cell_type": "markdown",
      "metadata": {
        "id": "EDuy4r9J84e4"
      },
      "source": [
        "## Training set-up"
      ]
    },
    {
      "cell_type": "code",
      "metadata": {
        "id": "CsNooG9J8-e3"
      },
      "source": [
        "epsilon = [0.0,   # only exploitation (greedy)\n",
        "           0.1,   # combine exploration and exploitation\n",
        "           1.0]   # only exploration (random)\n",
        "gamma = 0.99\n",
        "\n",
        "# set of experiments to run\n",
        "# each experiment: [agent, label, reward history]\n",
        "experiments = []\n",
        "for e in epsilon:\n",
        "  agent = Agent(ns,na,e,gamma)\n",
        "  label = 'e %.2f' %(e)\n",
        "  rh = []\n",
        "  experiments.append([agent, label, rh])\n",
        "\n",
        "agent = Agent(ns,na,epsilon=0.0,gamma=gamma,rmax=100)\n",
        "experiments.append([agent, 'rmax 100', []])\n",
        "agent = Agent(ns,na,epsilon=0.9,gamma=gamma,rmax=0,edecay=True,UCB=False)  \n",
        "experiments.append([agent, 'decay 0.9', []])\n",
        "agent = Agent(ns,na,epsilon=0.0,gamma=gamma,rmax=0,edecay=False,UCB=True)  \n",
        "experiments.append([agent, 'UCB', []])\n"
      ],
      "execution_count": null,
      "outputs": []
    },
    {
      "cell_type": "markdown",
      "metadata": {
        "id": "E6LnXXWwxLDL"
      },
      "source": [
        "## Training"
      ]
    },
    {
      "cell_type": "code",
      "metadata": {
        "id": "BCD39BSkxOJQ",
        "colab": {
          "base_uri": "https://localhost:8080/"
        },
        "outputId": "bce878ef-4975-4a54-e8b6-51d7996dbe2f"
      },
      "source": [
        "def oneepisode(agent,optimal=False):\n",
        "  rs = 0\n",
        "  done = False\n",
        "  s = env.reset()\n",
        "  g = 1\n",
        "  Tmax = 100\n",
        "  t = 0\n",
        "  while not done and t<Tmax:\n",
        "    a = agent.choose(s,optimal)\n",
        "    s1,r,done = env.step(a)\n",
        "    agent.update(s,a,r,s1,done)\n",
        "    #env.render()\n",
        "    s = s1\n",
        "    rs += g * r\n",
        "    g *= agent.gamma\n",
        "    t += 1\n",
        "  return rs\n",
        "\n",
        "T = 100\n",
        "optimal = False\n",
        "\n",
        "for exp in experiments:\n",
        "  agent = exp[0]\n",
        "  rh = exp[2]\n",
        "  print('%s ' %exp[1], end='')\n",
        "  for t in range(T):\n",
        "    print('*', end='')\n",
        "    rs = oneepisode(agent,optimal)\n",
        "    rh.append(rs)\n",
        "    time.sleep(0.001)\n",
        "\n",
        "  print('\\n')\n",
        "  #print(rh)"
      ],
      "execution_count": null,
      "outputs": [
        {
          "output_type": "stream",
          "name": "stdout",
          "text": [
            "e 0.00 ******G*G***G*G*G****G**G*G*G**G*G*G*G*G*G*G*G*G*G*G*G*G*G*G*G*G*G*G*G*G*G*G*G*G*G*G*G*G*G*G*G*G*G*G*G*G*G*G*G*G*G*G*G*G*G*G*G*G*G*G*G*G*G*G*G*G*G*G*G*G*G*G*G*G*G*G*G*G*G*G*G*G*G*G*G*G*G*G\n",
            "\n",
            "e 0.10 ***G**G**G***G*G**G**G**G*G*G*G*G*G*G*G*G*G*G*G*G*G*G*G*G*G*G*G*G*G*G*G*G*G*G*G*G*G*G*G*G*G*G*G*G*G*G*G*G*G*G*G*G*G*G*G*G*G*G*G*G*G*G*G*G*G*G*G*G*G*G*G*G*G*G*G*G*G*G*G*G*G*G*G*G*G*G*G*G*G*G*G\n",
            "\n",
            "e 1.00 ***G***********G*************G*G*****G*****G*G*G**G*G***********G********G*G**G**********G*****G**G****G**G***G**G*G**G****\n",
            "\n",
            "rmax 100 ***G*G*G*G*G*G*G*G*G*G*G*G*G*G*G*G*G*G*G*G*G*G*G*G*G*G*G*G*G*G*G*G*G*G*G*G*G*G*G*G*G*G*G*G*G*G*G*G*G*G*G*G*G*G*G*G*G*G*G*G*G*G*G*G*G*G*G*G*G*G*G*G*G*G*G*G*G*G*G*G*G*G*G*G*G*G*G*G*G*G*G*G*G*G*G*G*G*G\n",
            "\n",
            "decay 0.9 ********G**G*****G****G******G****G*G**G***G**G**G**G*G*G*G*G*G*G*G*G*G*G*G*G*G*G*G*G*G*G*G*G*G*G*G*G*G*G*G*G*G*G*G*G*G*G*G*G*G*G*G*G*G*G*G*G*G*G*G*G*G*G*G*G*G*G*G*G*G*G*G\n",
            "\n",
            "UCB *****G*****G*G*G*G*G**G*G*G*G*G*G**G*G*G*G*G*G*G*G*G*G*G*G*G*G*G*G*G*G*G*G*G*G*G*G*G*G*G*G*G*G*G*G*G*G*G*G*G*G*G*G*G*G*G*G*G*G*G*G*G*G*G*G*G*G*G*G*G*G*G*G*G*G*G*G*G*G*G*G*G*G*G*G*G*G*G*G*G*G\n",
            "\n"
          ]
        }
      ]
    },
    {
      "cell_type": "markdown",
      "metadata": {
        "id": "sKsosMOK0Imu"
      },
      "source": [
        "## Results"
      ]
    },
    {
      "cell_type": "code",
      "metadata": {
        "id": "yAInI8Gj0Knm",
        "colab": {
          "base_uri": "https://localhost:8080/",
          "height": 281
        },
        "outputId": "aab5abce-f6e8-42a6-dcd7-2d1af428bb57"
      },
      "source": [
        "plt.title('Results')\n",
        "plt.ylim(bottom = 0, top = 150)\n",
        "\n",
        "for exp in experiments:\n",
        "  rh = exp[2]\n",
        "  lab = exp[1]\n",
        "  t,y = plotdata(rh, d=5)\n",
        "  plt.plot(t, y, label=lab)\n",
        "\n",
        "plt.legend()\n",
        "plt.show()"
      ],
      "execution_count": null,
      "outputs": [
        {
          "output_type": "display_data",
          "data": {
            "text/plain": [
              "<Figure size 432x288 with 1 Axes>"
            ],
            "image/png": "[encoded data removed]"
          },
          "metadata": {
            "needs_background": "light"
          }
        }
      ]
    }
  ]
}