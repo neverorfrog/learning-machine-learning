{
 "cells": [
  {
   "cell_type": "code",
   "execution_count": null,
   "metadata": {},
   "outputs": [],
   "source": [
    "import random\n",
    "import numpy as np\n",
    "from sklearn import tree\n",
    "\n",
    "X = [[0,0,0,0,1],[0,1,0,0,1],[0,1,1,1,1],[0,1,1,0,1],[1,1,1,0,0],[0,0,1,0,0]] # shape = (#samples, #features)\n",
    "Y = [0,0,1,1,1,0] # shape = (#samples, ) ------> it's a column vector\n",
    "\n",
    "classifier = tree.DecisionTreeClassifier()\n",
    "classifier = classifier.fit(X,Y)\n",
    "\n",
    "classifier.predict([[0,0,1,1,1]])\n",
    "tree.plot_tree(classifier)"
   ]
  }
 ],
 "metadata": {
  "language_info": {
   "name": "python"
  },
  "orig_nbformat": 4
 },
 "nbformat": 4,
 "nbformat_minor": 2
}
