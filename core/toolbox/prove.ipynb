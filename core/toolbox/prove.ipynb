{
 "cells": [
  {
   "cell_type": "code",
   "execution_count": 38,
   "metadata": {},
   "outputs": [
    {
     "data": {
      "text/plain": [
       "tensor(0.4968)"
      ]
     },
     "execution_count": 38,
     "metadata": {},
     "output_type": "execute_result"
    }
   ],
   "source": [
    "import torch\n",
    "import numpy as np\n",
    "\n",
    "a = torch.rand(3,1)\n",
    "b = torch.rand(3)\n",
    "\n",
    "a.squeeze() - b\n",
    "torch.dot(a.squeeze(),b)"
   ]
  },
  {
   "cell_type": "code",
   "execution_count": 39,
   "metadata": {},
   "outputs": [
    {
     "name": "stdout",
     "output_type": "stream",
     "text": [
      "tensor([[2, 4, 2],\n",
      "        [4, 8, 4],\n",
      "        [2, 4, 2]])\n",
      "tensor([[ 4,  8,  4],\n",
      "        [ 8, 16,  8],\n",
      "        [ 4,  8,  4]])\n"
     ]
    }
   ],
   "source": [
    "a = torch.tensor([1,2,1]).unsqueeze(1) #column vector\n",
    "b = torch.tensor([2,4,2]).unsqueeze(1).T #row vector\n",
    "print(torch.matmul(a,b))\n",
    "\n",
    "a = torch.tensor([[1,2,1],[1,2,1]]).T #mxn\n",
    "b = torch.tensor([[2,4,2],[2,4,2]])#nxm\n",
    "\n",
    "print(torch.matmul(a,b))"
   ]
  },
  {
   "cell_type": "code",
   "execution_count": 6,
   "metadata": {},
   "outputs": [
    {
     "name": "stdout",
     "output_type": "stream",
     "text": [
      "3\n"
     ]
    }
   ],
   "source": [
    "class prova:\n",
    "    def __call__(self,a):\n",
    "        print(a)"
   ]
  }
 ],
 "metadata": {
  "kernelspec": {
   "display_name": "base",
   "language": "python",
   "name": "python3"
  },
  "language_info": {
   "codemirror_mode": {
    "name": "ipython",
    "version": 3
   },
   "file_extension": ".py",
   "mimetype": "text/x-python",
   "name": "python",
   "nbconvert_exporter": "python",
   "pygments_lexer": "ipython3",
   "version": "3.10.12"
  },
  "orig_nbformat": 4
 },
 "nbformat": 4,
 "nbformat_minor": 2
}
