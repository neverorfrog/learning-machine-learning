{
  "cells": [
    {
      "cell_type": "markdown",
      "metadata": {
        "id": "Z3GYzNWONtju"
      },
      "source": [
        "# Machine Learning - Exercise 5\n",
        "# Linear Classification\n",
        "\n",
        "Testing linear discriminant models: Least Square, Simple Perceptron, Fisher Discriminant"
      ]
    },
    {
      "cell_type": "markdown",
      "metadata": {
        "id": "eDEJU1RwoIlv"
      },
      "source": [
        "##Import \n",
        "\n",
        "Import libraries that contains the implementations of the functions used in the rest of the program.\n",
        "\n"
      ]
    },
    {
      "cell_type": "code",
      "execution_count": 1,
      "metadata": {
        "colab": {
          "base_uri": "https://localhost:8080/"
        },
        "id": "BSKuPnIXNoq2",
        "outputId": "5aec1dcc-2efb-45a3-d11b-7d5c86ac048a"
      },
      "outputs": [
        {
          "name": "stdout",
          "output_type": "stream",
          "text": [
            "Libraries imported.\n"
          ]
        }
      ],
      "source": [
        "import random\n",
        "import numpy as np\n",
        "from sklearn import svm\n",
        "import matplotlib.pyplot as plt\n",
        "from sklearn.linear_model import Perceptron\n",
        "\n",
        "\n",
        "print(\"Libraries imported.\")"
      ]
    },
    {
      "cell_type": "markdown",
      "metadata": {
        "id": "KaeLRpWIfO1m"
      },
      "source": [
        "# Data set\n"
      ]
    },
    {
      "cell_type": "markdown",
      "metadata": {
        "id": "SUFE4MtalvtD"
      },
      "source": [
        "Data-generation function"
      ]
    },
    {
      "cell_type": "code",
      "execution_count": 2,
      "metadata": {
        "id": "gGeQO-FylexA"
      },
      "outputs": [],
      "source": [
        "# Param: n=size of data set, outliers=True/False\n",
        "def generateData(n, outliers=False):\n",
        "    X = np.ndarray((n,2))\n",
        "    t = np.ndarray((n,1))\n",
        "    n1 = int(n*0.5)\n",
        "\n",
        "    # define random centers of disctributions far away\n",
        "    \n",
        "    for i in range(0,n1):\n",
        "        X[i,:] = np.random.normal((2.0,8.5),0.5,size=(1,2))\n",
        "        t[i] = -1\n",
        "    for i in range(n1,n):\n",
        "        X[i,:] = np.random.normal((4.0,5.0),0.3,size=(1,2))\n",
        "        t[i] = 1\n",
        "    \n",
        "    if (outliers):\n",
        "        no=int(n*0.9)\n",
        "        for i in range (no,n):\n",
        "            X[i,:] = np.random.normal((9.0,3.0),0.2,size=(1,2))\n",
        "            t[i] = 1\n",
        "\n",
        "    return [X,t]"
      ]
    },
    {
      "cell_type": "markdown",
      "metadata": {
        "id": "cYuyvK3Cl_z7"
      },
      "source": [
        "Generate n data points with/without outliers"
      ]
    },
    {
      "cell_type": "code",
      "execution_count": 3,
      "metadata": {
        "colab": {
          "base_uri": "https://localhost:8080/"
        },
        "id": "0nHa8mpWbAEp",
        "outputId": "c6cf3a36-a6ee-497b-9a4f-0f6d7d4d7190"
      },
      "outputs": [
        {
          "name": "stdout",
          "output_type": "stream",
          "text": [
            "Input shape: (100, 2)\n",
            "Output shape: (100, 1)\n",
            "Number of attributes/features: 2\n",
            "Number of classes: 2\n",
            "Number of samples: 100\n",
            "Example:\n",
            "x65 = array([3.70080356, 4.66998707])\n",
            "y65 = array([1.])\n"
          ]
        }
      ],
      "source": [
        "n = 100\n",
        "outliers = True\n",
        "np.random.seed(123)\n",
        "\n",
        "X, t = generateData(n, outliers=outliers)\n",
        "\n",
        "# print specs\n",
        "print(\"Input shape: %s\" %str(X.shape))\n",
        "print(\"Output shape: %s\" %str(t.shape))\n",
        "print(\"Number of attributes/features: %d\" %(X.shape[1]))\n",
        "print(\"Number of classes: %d\" %(len(np.unique(t))))\n",
        "print(\"Number of samples: %d\" %(X.shape[0]))\n",
        "\n",
        "# show an example\n",
        "id = random.randrange(0,X.shape[0])\n",
        "\n",
        "print(\"Example:\")\n",
        "print(\"x%d = %r\" %(id,X[id]))\n",
        "print(\"y%d = %r\" %(id,t[id]))"
      ]
    },
    {
      "cell_type": "markdown",
      "metadata": {
        "id": "5Flyh4KR-a6L"
      },
      "source": [
        "# Plot functions"
      ]
    },
    {
      "cell_type": "code",
      "execution_count": 4,
      "metadata": {
        "id": "5X1SKLD7a9AE"
      },
      "outputs": [],
      "source": [
        "# Plot data\n",
        "def plotData(X,t,XNr=None,XNg=None,label='Data'):\n",
        "    Xr = np.ndarray((0,2))\n",
        "    Xg = np.ndarray((0,2))\n",
        "    for i in range(0,len(X)):\n",
        "        if (t[i][0]==1):\n",
        "            Xr = np.vstack([Xr, [X[i,0],X[i,1]]])\n",
        "        else:\n",
        "            Xg = np.vstack([Xg, [X[i,0],X[i,1]]])\n",
        "            \n",
        "    if (not XNr is None):\n",
        "        plt.plot(XNr[:,0],XNr[:,1],'.', color='#FFAAAA')\n",
        "    if (not XNg is None):\n",
        "        plt.plot(XNg[:,0],XNg[:,1],'.', color='#AAFFAA')\n",
        "\n",
        "    plt.plot(Xr[:,0],Xr[:,1],'ro')\n",
        "    plt.plot(Xg[:,0],Xg[:,1],'go')\n",
        "    plt.axis([0,10,0,10])\n",
        "    plt.title(label)\n",
        "    plt.xlabel('x1')\n",
        "    plt.ylabel('x2')\n",
        "    plt.show()\n",
        "    \n",
        "# Plot results of a solution\n",
        "def plotResult(X, t, clf, label):\n",
        "    XNr = np.ndarray((0,2))\n",
        "    XNg = np.ndarray((0,2))\n",
        "\n",
        "    for u in np.arange(0,10,0.1):\n",
        "        for v in np.arange(0,10,0.1):\n",
        "            xn = np.array([[u, v]])\n",
        "            yn = clf.predict(xn)\n",
        "            if (yn<0):\n",
        "                XNg = np.vstack([XNg, [u,v]])\n",
        "            else:\n",
        "                XNr = np.vstack([XNr, [u,v]])\n",
        "        \n",
        "    plotData(X,t,XNr,XNg,label)"
      ]
    },
    {
      "cell_type": "markdown",
      "metadata": {
        "id": "U1w39XfR-emk"
      },
      "source": [
        "# Draw the dataset"
      ]
    },
    {
      "cell_type": "code",
      "execution_count": 5,
      "metadata": {
        "colab": {
          "base_uri": "https://localhost:8080/",
          "height": 295
        },
        "id": "C4Dw1AFq-hyr",
        "outputId": "b4d6ab8a-0822-4d44-9073-b62b7a319e1d"
      },
      "outputs": [
        {
          "data": {
            "image/png": "[encoded data removed]",
            "text/plain": [
              "<Figure size 640x480 with 1 Axes>"
            ]
          },
          "metadata": {},
          "output_type": "display_data"
        }
      ],
      "source": [
        "plotData(X,t)"
      ]
    },
    {
      "cell_type": "markdown",
      "metadata": {
        "id": "grWZC8TEislj"
      },
      "source": [
        "# Model"
      ]
    },
    {
      "cell_type": "markdown",
      "metadata": {
        "id": "rw6gpLNFqkCr"
      },
      "source": [
        "## Training models\n",
        "\n",
        "* Least Square\n",
        "* Simple Perceptron\n",
        "* Fisher Discriminant\n",
        "\n",
        "\n"
      ]
    },
    {
      "cell_type": "code",
      "execution_count": 7,
      "metadata": {
        "id": "CPTYxbyJrBE3"
      },
      "outputs": [],
      "source": [
        "class LeastSquare:\n",
        "\n",
        "    def __init__(self):\n",
        "        self.w = [0, 0, 0]\n",
        "\n",
        "    def fit(self,X,t):\n",
        "        n = len(X) # nr. of examples\n",
        "        t2 = np.c_[t, 1-t] # t2 is T: 1-of-K encoding\n",
        "        phi = np.c_[np.ones(n), X] # design matrix\n",
        "        self.w = np.matmul(np.linalg.pinv(phi),t2) # Least square solution\n",
        "        print(\"Least square solution: %s\" %(str(self.w.transpose())))\n",
        "\n",
        "    def predict(self,x):\n",
        "        xn = np.array((1, x[0][0], x[0][1]))\n",
        "        yn = np.matmul(self.w.transpose(),xn)\n",
        "        if yn[0]>yn[1]:\n",
        "            return 1\n",
        "        else:\n",
        "            return -1"
      ]
    },
    {
      "cell_type": "code",
      "execution_count": 8,
      "metadata": {
        "id": "ongYsUiOqjYK"
      },
      "outputs": [],
      "source": [
        "class SimplePerceptron:\n",
        "\n",
        "    def __init__(self, eta=0.01, niter=100):\n",
        "        self.eta = eta\n",
        "        self.niter = niter\n",
        "        self.w = np.zeros(3)\n",
        "    \n",
        "    def fit(self,X,t):\n",
        "        print('Perceptron model - eta: %f, niter: %d' %(self.eta, self.niter))\n",
        "        n = len(X)\n",
        "        # initial solution\n",
        "        self.w = np.random.random()*np.ones(3)\n",
        "        # niter iterations\n",
        "        for i in range (0,self.niter):\n",
        "            # select an instance\n",
        "            k = int(np.random.random()*n)\n",
        "            xk = np.array([1,X[k][0],X[k][1]])\n",
        "            if (t[k]==1):\n",
        "                tk = 1\n",
        "            else:\n",
        "                tk = -1\n",
        "            # output\n",
        "            o = np.sign(np.dot(self.w,xk))  # thresholded\n",
        "            # update weigths\n",
        "            self.w = self.w + self.eta * (tk-o) * xk\n",
        "        print(\"Perceptron solution: %s\" %str(self.w.transpose()))\n",
        "\n",
        "    def predict(self,x):\n",
        "        xn = np.array((1, x[0][0], x[0][1]))\n",
        "        yn = np.matmul(self.w.transpose(),xn)        \n",
        "        return np.sign(yn)"
      ]
    },
    {
      "cell_type": "code",
      "execution_count": 9,
      "metadata": {
        "id": "VcxVAzABrGGA"
      },
      "outputs": [],
      "source": [
        "class FisherDiscriminant:\n",
        "\n",
        "    def __init__(self):\n",
        "        self.w = [0, 0, 0]\n",
        "        self.label = \"Fisher Discriminant\"\n",
        "\n",
        "    def fit(self,X,t):\n",
        "        n = len(X)  # num of examples\n",
        "        # group the two subsets \n",
        "        # C1 = positive samples, C2 = negative samples\n",
        "        C1 = np.ndarray((0,2))\n",
        "        C2 = np.ndarray((0,2))\n",
        "        for i in range(0,len(X)):\n",
        "            if (t[i][0] == 1):\n",
        "                C1 = np.vstack([C1, [X[i,0],X[i,1]]])\n",
        "            else:\n",
        "                C2 = np.vstack([C2, [X[i,0],X[i,1]]])\t\t\t\n",
        "        \n",
        "        # compute means m1, m2\n",
        "        m1 = np.mean(C1, axis=0)\n",
        "        m2 = np.mean(C2, axis=0)\n",
        "        \n",
        "        # compute covariances S1, S2\n",
        "        S1 = np.zeros((2,2))\n",
        "        d = np.array(())\n",
        "        for c in C1:\n",
        "            d = np.subtract(c,m1).reshape(2,1)\n",
        "            dt = d.transpose()\n",
        "            S1 = S1 + np.matmul(d,dt)\n",
        "        \n",
        "        S1 = S1/len(C1);\n",
        "        \n",
        "        S2 = np.zeros((2,2))\n",
        "        for c in C2:\n",
        "            d = np.subtract(c,m2).reshape(2,1)\n",
        "            dt = d.transpose()\n",
        "            S2 = S2 + np.matmul(d,dt)\n",
        "        S2 = S2/len(C2);\n",
        "        \n",
        "        # compute Sw matrix\n",
        "        Sw = S1+S2\n",
        "        \n",
        "        # compute solution w \n",
        "        wt = np.matmul(np.linalg.inv(Sw),(m1-m2))\n",
        "        \n",
        "        # global mean\n",
        "        mu = m1 * 0.5 + m2 * 0.5\n",
        "        \n",
        "        # compute constant term\n",
        "        w0 = np.dot(wt,mu)\n",
        "        \n",
        "        # format the final solution\n",
        "        self.w = np.array([-w0, wt[0], wt[1]])\n",
        "        print(\"Fisher discriminant solution: %s\" %str(self.w.transpose()))\n",
        "\n",
        "    \n",
        "    def predict(self,x):\n",
        "        xn = np.array((1, x[0][0], x[0][1]))\n",
        "        yn = np.matmul(self.w.transpose(),xn)\n",
        "        if yn>0:\n",
        "            return 1\n",
        "        else:\n",
        "            return -1"
      ]
    },
    {
      "cell_type": "markdown",
      "metadata": {
        "id": "U_HOYZWZqMSc"
      },
      "source": [
        "## Choose model to evaluate:\n",
        "\n",
        "* Least Square\n",
        "* Simple Perceptron\n",
        "* Perceptron\n",
        "* Fisher Discriminant\n",
        "* SVM\n",
        "\n"
      ]
    },
    {
      "cell_type": "code",
      "execution_count": 10,
      "metadata": {
        "id": "bzslk0gGPkk8"
      },
      "outputs": [],
      "source": [
        "classifier_name = 'p'\n",
        "\n",
        "ClassifierMap = {\n",
        "    'L': [LeastSquare, 'Least Square'], \n",
        "    'F': [FisherDiscriminant, 'Fisher Discriminant'], \n",
        "    'p': [SimplePerceptron, 'Simple Perceptron'], \n",
        "    'P': [Perceptron, 'Perceptron'], \n",
        "    'S': [svm.LinearSVC, 'SVM']\n",
        "    }\n",
        "\n",
        "classifier = ClassifierMap[classifier_name][0]()"
      ]
    },
    {
      "cell_type": "markdown",
      "metadata": {
        "id": "ZIOXgJCEP2Rp"
      },
      "source": [
        "Set further parameters if using Simple Perceptron"
      ]
    },
    {
      "cell_type": "code",
      "execution_count": 11,
      "metadata": {
        "id": "czQQWQd5P1WR"
      },
      "outputs": [],
      "source": [
        "eta = 0.001\n",
        "niter = 1000\n",
        "\n",
        "if (classifier_name == 'p'):  # SimplePerceptron\n",
        "    classifier.eta = eta\n",
        "    classifier.niter = niter"
      ]
    },
    {
      "cell_type": "markdown",
      "metadata": {
        "id": "EZi1jY7Dsy8l"
      },
      "source": [
        "Fit classifier"
      ]
    },
    {
      "cell_type": "code",
      "execution_count": 12,
      "metadata": {
        "colab": {
          "base_uri": "https://localhost:8080/"
        },
        "id": "FlTeIzYPs1Bs",
        "outputId": "74c944e7-8c23-47aa-bdaf-edfb3a38373f"
      },
      "outputs": [
        {
          "name": "stdout",
          "output_type": "stream",
          "text": [
            "Perceptron model - eta: 0.001000, niter: 1000\n",
            "Perceptron solution: [ 0.83503326  0.65939128 -0.35392794]\n"
          ]
        }
      ],
      "source": [
        "# train the classifier\n",
        "classifier.fit(X,t)"
      ]
    },
    {
      "cell_type": "markdown",
      "metadata": {
        "id": "6GCkU3-HbAAD"
      },
      "source": [
        "# Visualize results\n",
        "\n",
        "Define visualization functions"
      ]
    },
    {
      "cell_type": "code",
      "execution_count": 13,
      "metadata": {
        "colab": {
          "base_uri": "https://localhost:8080/",
          "height": 295
        },
        "id": "7iTh0O80bSNJ",
        "outputId": "d3dda5cb-0848-4011-86ff-cd7f581b8e99"
      },
      "outputs": [
        {
          "data": {
            "image/png": "[encoded data removed]",
            "text/plain": [
              "<Figure size 640x480 with 1 Axes>"
            ]
          },
          "metadata": {},
          "output_type": "display_data"
        }
      ],
      "source": [
        "#show results\n",
        "plotResult(X,t,classifier,ClassifierMap[classifier_name][1])"
      ]
    },
    {
      "cell_type": "markdown",
      "metadata": {
        "id": "So8IDhSkrKFo"
      },
      "source": [
        "# Home Exercises\n",
        "\n",
        "Test robustness to outliers and to noise.\n",
        "Generate a test set from the same distributions used to generate the training set.\n",
        "\n",
        "\n",
        "**Question 1**\n",
        "\n",
        "Compare the performance of all the models in presence of outliers. Which methods are robust to outliers?\n",
        "\n",
        "**Question 2** \n",
        "\n",
        "Compare the performance of all the models in presence of noisy labels. Generate a data set with noisy data (assign random labels to a subset gof the dataset).\n",
        "Plot performace (e.g., accuracy) over percentage of random samples, condsidering percentage values 0.0, 0.25, 0.5, 0.75, 1.\n"
      ]
    }
  ],
  "metadata": {
    "colab": {
      "provenance": [],
      "toc_visible": true
    },
    "kernelspec": {
      "display_name": "Python 3",
      "language": "python",
      "name": "python3"
    },
    "language_info": {
      "codemirror_mode": {
        "name": "ipython",
        "version": 3
      },
      "file_extension": ".py",
      "mimetype": "text/x-python",
      "name": "python",
      "nbconvert_exporter": "python",
      "pygments_lexer": "ipython3",
      "version": "3.10.6"
    },
    "vscode": {
      "interpreter": {
        "hash": "916dbcbb3f70747c44a77c7bcd40155683ae19c65e1c03b4aa3499c5328201f1"
      }
    }
  },
  "nbformat": 4,
  "nbformat_minor": 0
}
