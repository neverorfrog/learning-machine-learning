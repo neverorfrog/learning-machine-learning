{
  "nbformat": 4,
  "nbformat_minor": 0,
  "metadata": {
    "colab": {
      "provenance": []
    },
    "kernelspec": {
      "name": "python3",
      "display_name": "Python 3"
    },
    "accelerator": "GPU",
    "gpuClass": "standard"
  },
  "cells": [
    {
      "cell_type": "markdown",
      "metadata": {
        "id": "Z3GYzNWONtju"
      },
      "source": [
        "# Machine Learning Exercise 14\n",
        "\n",
        "# CNN Ensembles - CIFAR10 \n",
        "\n"
      ]
    },
    {
      "cell_type": "markdown",
      "metadata": {
        "id": "eDEJU1RwoIlv"
      },
      "source": [
        "##Import \n",
        "\n",
        "Import libraries and print some versions.\n",
        "\n",
        "To use GPU, set `Edit / Notebook settings / Hardware accelerator` to **GPU**."
      ]
    },
    {
      "cell_type": "code",
      "metadata": {
        "id": "BSKuPnIXNoq2",
        "colab": {
          "base_uri": "https://localhost:8080/"
        },
        "outputId": "c5daae6a-cec0-476a-9ef5-a4df5ec3da92"
      },
      "source": [
        "import numpy as np\n",
        "import tensorflow as tf\n",
        "import matplotlib.pyplot as plt\n",
        "import random\n",
        "\n",
        "print(\"Tensorflow version %s\" %tf.__version__)\n",
        "\n",
        "device_name = tf.test.gpu_device_name()\n",
        "if device_name != '/device:GPU:0':\n",
        "  raise SystemError('GPU device not found')\n",
        "print('Found GPU at: {}'.format(device_name))"
      ],
      "execution_count": null,
      "outputs": [
        {
          "output_type": "stream",
          "name": "stdout",
          "text": [
            "Tensorflow version 2.9.2\n",
            "Found GPU at: /device:GPU:0\n"
          ]
        }
      ]
    },
    {
      "cell_type": "markdown",
      "metadata": {
        "id": "KaeLRpWIfO1m"
      },
      "source": [
        "## Load data\n",
        "\n",
        "Load training data from Keras library\n",
        "\n",
        "\n"
      ]
    },
    {
      "cell_type": "code",
      "metadata": {
        "id": "7kECuF5cgxxW",
        "colab": {
          "base_uri": "https://localhost:8080/"
        },
        "outputId": "94b2b40e-55c1-47f2-95f3-e4670e9004ca"
      },
      "source": [
        "def load_cifar10():\n",
        "    # load data\n",
        "    (Xtrain,Ytrain), (Xtest, Ytest) = tf.keras.datasets.cifar10.load_data()\n",
        "    print(Ytrain.shape)\n",
        "    # get information\n",
        "    ninput = Xtrain.shape[0]\n",
        "    imgsize = (Xtrain.shape[1], Xtrain.shape[2])\n",
        "    input_shape = (Xtrain.shape[1], Xtrain.shape[2], Xtrain.shape[3])\n",
        "    ntest = Xtest.shape[0]\n",
        "    num_classes = np.max(np.unique(Ytrain)) + 1\n",
        "    print(\"Training input %s\" %str(Xtrain.shape))\n",
        "    print(\"Training output %s\" %str(Ytrain.shape))\n",
        "    print(\"Test input %s\" %str(Xtest.shape))\n",
        "    print(\"Test output %s\" %str(Ytest.shape))\n",
        "    print(\"Input shape: %s\" %str(input_shape))\n",
        "    print(\"Number of classes: %d\" %num_classes)\n",
        "\n",
        "    # normalize input to [0,1]\n",
        "    Xtrain = Xtrain / 255.0\n",
        "    Xtest = Xtest / 255.0\n",
        "    \n",
        "    # Transform output to one-out-of-n encoding\n",
        "    Ytrain = tf.keras.utils.to_categorical(Ytrain, num_classes)\n",
        "    Ytest = tf.keras.utils.to_categorical(Ytest, num_classes)\n",
        "    \n",
        "    return [Xtrain,Ytrain,Xtest,Ytest,input_shape,num_classes]\n",
        "\n",
        "[Xtrain,Ytrain,Xtest,Ytest,input_shape,num_classes] = load_cifar10()"
      ],
      "execution_count": null,
      "outputs": [
        {
          "output_type": "stream",
          "name": "stdout",
          "text": [
            "(50000, 1)\n",
            "Training input (50000, 32, 32, 3)\n",
            "Training output (50000, 1)\n",
            "Test input (10000, 32, 32, 3)\n",
            "Test output (10000, 1)\n",
            "Input shape: (32, 32, 3)\n",
            "Number of classes: 10\n"
          ]
        }
      ]
    },
    {
      "cell_type": "markdown",
      "metadata": {
        "id": "R6DMvR8TzJiK"
      },
      "source": [
        "## Show random image\n",
        "\n"
      ]
    },
    {
      "cell_type": "code",
      "metadata": {
        "id": "P0N3cUSazRcJ",
        "colab": {
          "base_uri": "https://localhost:8080/",
          "height": 284
        },
        "outputId": "19c92162-c4e2-4a57-9a8c-ee9c4b62369a"
      },
      "source": [
        "i = random.randrange(0,Xtrain.shape[0])\n",
        "image = Xtrain[i]\n",
        "image = np.array(image, dtype='float')\n",
        "\n",
        "label = Ytrain[i].argmax()  # categorical from one-hot-encoding\n",
        "print(label)\n",
        "\n",
        "plt.imshow(image, cmap='gray')\n",
        "plt.show()\n"
      ],
      "execution_count": null,
      "outputs": [
        {
          "output_type": "stream",
          "name": "stdout",
          "text": [
            "9\n"
          ]
        },
        {
          "output_type": "display_data",
          "data": {
            "text/plain": [
              "<Figure size 432x288 with 1 Axes>"
            ],
            "image/png": "[encoded data removed]"
          },
          "metadata": {
            "needs_background": "light"
          }
        }
      ]
    },
    {
      "cell_type": "markdown",
      "metadata": {
        "id": "q1EwWO9m3bGg"
      },
      "source": [
        "##CNN ensemble model\n"
      ]
    },
    {
      "cell_type": "code",
      "metadata": {
        "id": "1DTCwfVg3jRX",
        "colab": {
          "base_uri": "https://localhost:8080/"
        },
        "outputId": "648a32b8-966f-4725-c791-bc472b8a78e6"
      },
      "source": [
        "from tensorflow.keras.models import Model\n",
        "from tensorflow.keras.layers import Dense, Activation, Dropout, Flatten,\\\n",
        "                         Conv2D, MaxPool2D, Input, BatchNormalization\n",
        "from tensorflow.keras import regularizers\n",
        "from tensorflow.keras import optimizers\n",
        "\n",
        "# single model\n",
        "def CNN(input_shape, num_classes, base_width=16, depth=4):\n",
        "    \n",
        "    inputs = Input(input_shape)\n",
        "    \n",
        "    image_size = input_shape[0]\n",
        "    filters = base_width\n",
        "    kernel_size = 3\n",
        "    # feature extractor\n",
        "    for i in range(depth):\n",
        "        if i == 0:\n",
        "            x = Conv2D(filters=filters,\n",
        "                       kernel_size = kernel_size,\n",
        "                       activation=\"relu\",\n",
        "                       strides=1,\n",
        "                       padding=\"same\")(inputs)\n",
        "        else:\n",
        "            x = Conv2D(filters=filters,\n",
        "                       kernel_size = kernel_size,\n",
        "                       activation=\"relu\",\n",
        "                       strides=1,\n",
        "                       padding=\"same\")(x)\n",
        "        x = MaxPool2D(pool_size=(2,2), strides=(2,2), padding=\"valid\")(x)\n",
        "        filters *= 2\n",
        "    \n",
        "    x = Flatten()(x) \n",
        "    x = Dropout(0.4)(x)\n",
        "    \n",
        "    outputs = Dense(num_classes, activation=\"softmax\")(x)\n",
        "    model = tf.keras.Model(inputs, outputs)\n",
        "    return model\n",
        "\n",
        "# ensemble model\n",
        "def Ensemble(ens_dim, input_shape, num_classes, base_width=16, depth=4):\n",
        "  inputs = Input(shape=input_shape)\n",
        "  \n",
        "  learners = [CNN(input_shape,\n",
        "                  num_classes,\n",
        "                  base_width,\n",
        "                  depth) for _ in range(ens_dim)]\n",
        "  \n",
        "  outputs = [learners[i](inputs) for i in range(ens_dim)]\n",
        "  \n",
        "  ensemble_model = Model(inputs, outputs, name=\"ensemble_model\")\n",
        "  optimizer = 'adam'\n",
        "  # an independent loss for each model\n",
        "  losses = [\"categorical_crossentropy\" for _ in range(ens_dim)]\n",
        "  ensemble_model.compile(loss=losses, optimizer=optimizer, metrics=['accuracy'])\n",
        "  return ensemble_model\n",
        "\n",
        "\n",
        "# create the ensemble model\n",
        "ens_dim = 3\n",
        "model = Ensemble(ens_dim, input_shape, num_classes)\n",
        "model.summary()\n",
        "\n",
        "# single model summary\n",
        "model.get_layer(index=-1).summary()"
      ],
      "execution_count": null,
      "outputs": [
        {
          "output_type": "stream",
          "name": "stdout",
          "text": [
            "Model: \"ensemble_model\"\n",
            "__________________________________________________________________________________________________\n",
            " Layer (type)                   Output Shape         Param #     Connected to                     \n",
            "==================================================================================================\n",
            " input_33 (InputLayer)          [(None, 32, 32, 3)]  0           []                               \n",
            "                                                                                                  \n",
            " model_24 (Functional)          (None, 10)           102570      ['input_33[0][0]']               \n",
            "                                                                                                  \n",
            " model_25 (Functional)          (None, 10)           102570      ['input_33[0][0]']               \n",
            "                                                                                                  \n",
            " model_26 (Functional)          (None, 10)           102570      ['input_33[0][0]']               \n",
            "                                                                                                  \n",
            "==================================================================================================\n",
            "Total params: 307,710\n",
            "Trainable params: 307,710\n",
            "Non-trainable params: 0\n",
            "__________________________________________________________________________________________________\n",
            "Model: \"model_26\"\n",
            "_________________________________________________________________\n",
            " Layer (type)                Output Shape              Param #   \n",
            "=================================================================\n",
            " input_36 (InputLayer)       [(None, 32, 32, 3)]       0         \n",
            "                                                                 \n",
            " conv2d_104 (Conv2D)         (None, 32, 32, 16)        448       \n",
            "                                                                 \n",
            " max_pooling2d_104 (MaxPooli  (None, 16, 16, 16)       0         \n",
            " ng2D)                                                           \n",
            "                                                                 \n",
            " conv2d_105 (Conv2D)         (None, 16, 16, 32)        4640      \n",
            "                                                                 \n",
            " max_pooling2d_105 (MaxPooli  (None, 8, 8, 32)         0         \n",
            " ng2D)                                                           \n",
            "                                                                 \n",
            " conv2d_106 (Conv2D)         (None, 8, 8, 64)          18496     \n",
            "                                                                 \n",
            " max_pooling2d_106 (MaxPooli  (None, 4, 4, 64)         0         \n",
            " ng2D)                                                           \n",
            "                                                                 \n",
            " conv2d_107 (Conv2D)         (None, 4, 4, 128)         73856     \n",
            "                                                                 \n",
            " max_pooling2d_107 (MaxPooli  (None, 2, 2, 128)        0         \n",
            " ng2D)                                                           \n",
            "                                                                 \n",
            " flatten_26 (Flatten)        (None, 512)               0         \n",
            "                                                                 \n",
            " dropout_26 (Dropout)        (None, 512)               0         \n",
            "                                                                 \n",
            " dense_26 (Dense)            (None, 10)                5130      \n",
            "                                                                 \n",
            "=================================================================\n",
            "Total params: 102,570\n",
            "Trainable params: 102,570\n",
            "Non-trainable params: 0\n",
            "_________________________________________________________________\n"
          ]
        }
      ]
    },
    {
      "cell_type": "markdown",
      "source": [
        "# Train setup"
      ],
      "metadata": {
        "id": "FqebCYXQEgu3"
      }
    },
    {
      "cell_type": "code",
      "source": [
        "import sklearn.metrics \n",
        "from sklearn.metrics import classification_report, confusion_matrix, accuracy_score\n",
        "\n",
        "def test_accuracy(model, history):\n",
        "    # accuracy\n",
        "    ind_test_acc = []\n",
        "    for key in history.history.keys():\n",
        "      if (\"val\" in key) and (\"accuracy\" in key):\n",
        "        ind_test_acc.append(history.history[key][-1])\n",
        "    print(\"Single models test accuracy: \", ind_test_acc)\n",
        "\n",
        "    # ensemble test accuracy\n",
        "    preds = np.array(model.predict(Xtest))\n",
        "    # average over the ensemble\n",
        "    preds_ens = np.mean(preds, axis=0)\n",
        "    ens_test_acc = accuracy_score(np.argmax(Ytest, axis=-1), np.argmax(preds_ens, axis=-1))\n",
        "    print(\"Ensemble test accuracy: \", ens_test_acc)\n",
        "\n",
        "    return ind_test_acc, ens_test_acc\n",
        "\n",
        "\n",
        "history = tf.keras.callbacks.History()\n",
        "ind_test_accuracy = []\n",
        "ens_test_accuracy = []"
      ],
      "metadata": {
        "id": "YFHsYsABEjJc"
      },
      "execution_count": null,
      "outputs": []
    },
    {
      "cell_type": "markdown",
      "metadata": {
        "id": "egL15iQztTDH"
      },
      "source": [
        "## Train"
      ]
    },
    {
      "cell_type": "code",
      "metadata": {
        "id": "EKOdDvgf5YlZ",
        "colab": {
          "base_uri": "https://localhost:8080/"
        },
        "outputId": "5993b0b5-07de-4535-b0cb-321638a4d699"
      },
      "source": [
        "epochs = 5\n",
        "for _ in range(epochs):\n",
        "    model.fit(Xtrain, [Ytrain for _ in range(ens_dim)], batch_size=32, epochs=1, callbacks=[history], validation_data = (Xtest,[Ytest for _ in range(ens_dim)]))\n",
        "\n",
        "    iacc, eacc = test_accuracy(model, history)\n",
        "    ind_test_accuracy.append(iacc)\n",
        "    ens_test_accuracy.append(eacc)\n"
      ],
      "execution_count": null,
      "outputs": [
        {
          "output_type": "stream",
          "name": "stdout",
          "text": [
            "1563/1563 [==============================] - 14s 9ms/step - loss: 1.5938 - model_24_loss: 0.5191 - model_25_loss: 0.5266 - model_26_loss: 0.5481 - model_24_accuracy: 0.8162 - model_25_accuracy: 0.8126 - model_26_accuracy: 0.8035 - val_loss: 2.4294 - val_model_24_loss: 0.7963 - val_model_25_loss: 0.8028 - val_model_26_loss: 0.8304 - val_model_24_accuracy: 0.7435 - val_model_25_accuracy: 0.7379 - val_model_26_accuracy: 0.7369\n",
            "Single models test accuracy:  [0.7434999942779541, 0.7379000186920166, 0.7368999719619751]\n",
            "313/313 [==============================] - 1s 3ms/step\n",
            "Ensemble test accuracy:  0.7839\n",
            "1563/1563 [==============================] - 15s 9ms/step - loss: 1.5495 - model_24_loss: 0.5014 - model_25_loss: 0.5116 - model_26_loss: 0.5365 - model_24_accuracy: 0.8213 - model_25_accuracy: 0.8163 - model_26_accuracy: 0.8081 - val_loss: 2.4070 - val_model_24_loss: 0.7977 - val_model_25_loss: 0.8257 - val_model_26_loss: 0.7836 - val_model_24_accuracy: 0.7406 - val_model_25_accuracy: 0.7386 - val_model_26_accuracy: 0.7440\n",
            "Single models test accuracy:  [0.7405999898910522, 0.7386000156402588, 0.7440000176429749]\n",
            "313/313 [==============================] - 1s 3ms/step\n",
            "Ensemble test accuracy:  0.7841\n",
            "1563/1563 [==============================] - 14s 9ms/step - loss: 1.5025 - model_24_loss: 0.4886 - model_25_loss: 0.4993 - model_26_loss: 0.5146 - model_24_accuracy: 0.8255 - model_25_accuracy: 0.8208 - model_26_accuracy: 0.8159 - val_loss: 2.3946 - val_model_24_loss: 0.7884 - val_model_25_loss: 0.8009 - val_model_26_loss: 0.8054 - val_model_24_accuracy: 0.7504 - val_model_25_accuracy: 0.7408 - val_model_26_accuracy: 0.7415\n",
            "Single models test accuracy:  [0.7504000067710876, 0.7408000230789185, 0.7415000200271606]\n",
            "313/313 [==============================] - 1s 3ms/step\n",
            "Ensemble test accuracy:  0.7917\n",
            "1563/1563 [==============================] - 14s 9ms/step - loss: 1.4661 - model_24_loss: 0.4777 - model_25_loss: 0.4864 - model_26_loss: 0.5021 - model_24_accuracy: 0.8282 - model_25_accuracy: 0.8262 - model_26_accuracy: 0.8205 - val_loss: 2.4360 - val_model_24_loss: 0.7944 - val_model_25_loss: 0.8037 - val_model_26_loss: 0.8379 - val_model_24_accuracy: 0.7416 - val_model_25_accuracy: 0.7413 - val_model_26_accuracy: 0.7254\n",
            "Single models test accuracy:  [0.741599977016449, 0.7412999868392944, 0.7253999710083008]\n",
            "313/313 [==============================] - 1s 3ms/step\n",
            "Ensemble test accuracy:  0.7836\n",
            "1563/1563 [==============================] - 15s 9ms/step - loss: 1.4334 - model_24_loss: 0.4675 - model_25_loss: 0.4744 - model_26_loss: 0.4916 - model_24_accuracy: 0.8335 - model_25_accuracy: 0.8298 - model_26_accuracy: 0.8248 - val_loss: 2.4368 - val_model_24_loss: 0.8053 - val_model_25_loss: 0.8348 - val_model_26_loss: 0.7966 - val_model_24_accuracy: 0.7510 - val_model_25_accuracy: 0.7452 - val_model_26_accuracy: 0.7434\n",
            "Single models test accuracy:  [0.7509999871253967, 0.745199978351593, 0.743399977684021]\n",
            "313/313 [==============================] - 1s 3ms/step\n",
            "Ensemble test accuracy:  0.7884\n"
          ]
        }
      ]
    },
    {
      "cell_type": "markdown",
      "metadata": {
        "id": "YPtbelKYHy4K"
      },
      "source": [
        "##Evaluate the model"
      ]
    },
    {
      "cell_type": "markdown",
      "metadata": {
        "id": "fkx4x2M3vFpk"
      },
      "source": [
        "## Compare single networks with ensemble\n"
      ]
    },
    {
      "cell_type": "code",
      "source": [
        "print(ind_test_accuracy)\n",
        "print(ens_test_accuracy)\n"
      ],
      "metadata": {
        "colab": {
          "base_uri": "https://localhost:8080/"
        },
        "id": "UFoJuRj5DPUU",
        "outputId": "5b7dce4b-6d3a-47b3-9d69-2fb540beeb78"
      },
      "execution_count": null,
      "outputs": [
        {
          "output_type": "stream",
          "name": "stdout",
          "text": [
            "[[0.5638999938964844, 0.5475999712944031, 0.5724999904632568], [0.6467000246047974, 0.5845000147819519, 0.6294000148773193], [0.6736999750137329, 0.6585999727249146, 0.652899980545044], [0.6985999941825867, 0.6761999726295471, 0.6815000176429749], [0.7135999798774719, 0.7053999900817871, 0.6933000087738037], [0.7088000178337097, 0.7109000086784363, 0.7028999924659729], [0.7253999710083008, 0.7206000089645386, 0.7171000242233276], [0.7437000274658203, 0.7168999910354614, 0.7271000146865845], [0.7422000169754028, 0.7282000184059143, 0.7225000262260437], [0.7440999746322632, 0.7360000014305115, 0.7322999835014343], [0.7513999938964844, 0.7386999726295471, 0.7400000095367432], [0.756600022315979, 0.7423999905586243, 0.7354999780654907], [0.754800021648407, 0.7394999861717224, 0.7373999953269958], [0.7387999892234802, 0.7379000186920166, 0.7307000160217285], [0.7584999799728394, 0.7404000163078308, 0.734499990940094], [0.7434999942779541, 0.7379000186920166, 0.7368999719619751], [0.7405999898910522, 0.7386000156402588, 0.7440000176429749], [0.7504000067710876, 0.7408000230789185, 0.7415000200271606], [0.741599977016449, 0.7412999868392944, 0.7253999710083008], [0.7509999871253967, 0.745199978351593, 0.743399977684021]]\n",
            "[0.5842, 0.6533, 0.6898, 0.7187, 0.7367, 0.7415, 0.7577, 0.7661, 0.7638, 0.7743, 0.7833, 0.7812, 0.7841, 0.7813, 0.7873, 0.7839, 0.7841, 0.7917, 0.7836, 0.7884]\n"
          ]
        }
      ]
    },
    {
      "cell_type": "code",
      "metadata": {
        "colab": {
          "base_uri": "https://localhost:8080/",
          "height": 298
        },
        "id": "2EMeKtRTkRHM",
        "outputId": "17ff2bce-e80d-42f6-b282-0ac06bb832e8"
      },
      "source": [
        "plt.plot(ind_test_accuracy, label=\"Single network\")\n",
        "plt.plot(ens_test_accuracy, linestyle=\"--\", label=\"Ensemble of {} nets\".format(ens_dim))\n",
        "plt.legend()\n",
        "plt.ylabel('test accuracy')\n",
        "plt.xlabel('epoch')"
      ],
      "execution_count": null,
      "outputs": [
        {
          "output_type": "execute_result",
          "data": {
            "text/plain": [
              "Text(0.5, 0, 'epoch')"
            ]
          },
          "metadata": {},
          "execution_count": 61
        },
        {
          "output_type": "display_data",
          "data": {
            "text/plain": [
              "<Figure size 432x288 with 1 Axes>"
            ],
            "image/png": "[encoded data removed]"
          },
          "metadata": {
            "needs_background": "light"
          }
        }
      ]
    },
    {
      "cell_type": "markdown",
      "metadata": {
        "id": "m99lALugmEzQ"
      },
      "source": [
        "# Home Exercises\n",
        "\n",
        "**Question 1** \n",
        "\n",
        "Evaluate the performance of ensembles varying the number of base members."
      ]
    }
  ]
}