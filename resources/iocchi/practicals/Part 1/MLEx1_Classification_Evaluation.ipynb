{
  "cells": [
    {
      "cell_type": "markdown",
      "metadata": {
        "id": "Z3GYzNWONtju"
      },
      "source": [
        "# Machine Learning - Exercise 1\n",
        "# Classification Evaluation\n",
        "\n",
        "This exercise illustrates examples of evaluation of solutions of classification problems."
      ]
    },
    {
      "cell_type": "markdown",
      "metadata": {
        "id": "eDEJU1RwoIlv"
      },
      "source": [
        "## Import\n",
        "\n",
        "Import libraries that contains the implementations of the functions used in the rest of the program.\n",
        "\n"
      ]
    },
    {
      "cell_type": "code",
      "execution_count": 27,
      "metadata": {
        "colab": {
          "base_uri": "https://localhost:8080/"
        },
        "id": "BSKuPnIXNoq2",
        "outputId": "c49fd3d6-817e-4066-9017-08d59afea220"
      },
      "outputs": [
        {
          "name": "stdout",
          "output_type": "stream",
          "text": [
            "Libraries imported.\n"
          ]
        }
      ],
      "source": [
        "import random\n",
        "import numpy as np\n",
        "import sklearn.metrics\n",
        "from sklearn import datasets\n",
        "from sklearn.model_selection import train_test_split, cross_val_score, ShuffleSplit, GridSearchCV\n",
        "from sklearn import svm\n",
        "from sklearn import tree\n",
        "from sklearn.naive_bayes import GaussianNB\n",
        "from sklearn.linear_model import LogisticRegression\n",
        "from sklearn.metrics import classification_report, confusion_matrix\n",
        "from sklearn.utils.multiclass import unique_labels\n",
        "from sklearn import preprocessing\n",
        "from sklearn.pipeline import make_pipeline\n",
        "import matplotlib.pyplot as plt\n",
        "\n",
        "print(\"Libraries imported.\")"
      ]
    },
    {
      "cell_type": "markdown",
      "metadata": {
        "id": "KaeLRpWIfO1m"
      },
      "source": [
        "## Load data\n",
        "\n",
        "Load training data.\n",
        "\n",
        "Choose one of the datasets described in the next subsections.\n",
        "\n",
        "More details on these datasets are available in https://scikit-learn.org/stable/datasets/toy_dataset.html\n"
      ]
    },
    {
      "cell_type": "markdown",
      "metadata": {
        "id": "w8_6LSAHa6Vb"
      },
      "source": [
        "### IRIS dataset"
      ]
    },
    {
      "cell_type": "code",
      "execution_count": 3,
      "metadata": {
        "id": "0nHa8mpWbAEp"
      },
      "outputs": [],
      "source": [
        "DB = datasets.load_iris()\n",
        "dataset_name = \"Iris\"\n",
        "class_names = np.array([str(c) for c in DB.target_names])\n",
        "X_all = DB.data\n",
        "y_all = DB.target"
      ]
    },
    {
      "cell_type": "markdown",
      "metadata": {
        "id": "rVA8XiMvbDBc"
      },
      "source": [
        "### Wine dataset"
      ]
    },
    {
      "cell_type": "code",
      "execution_count": 4,
      "metadata": {
        "id": "JkazgPcGbJhT"
      },
      "outputs": [],
      "source": [
        "DB = datasets.load_wine()\n",
        "dataset_name = \"Wines\"\n",
        "class_names = np.array([str(c) for c in DB.target_names])\n",
        "X_all = DB.data\n",
        "y_all = DB.target"
      ]
    },
    {
      "cell_type": "markdown",
      "metadata": {
        "id": "6jVsMFO3bNji"
      },
      "source": [
        "### Digits dataset"
      ]
    },
    {
      "cell_type": "code",
      "execution_count": 5,
      "metadata": {
        "id": "Virn0LFUbSVn"
      },
      "outputs": [],
      "source": [
        "DB = datasets.load_digits()\n",
        "dataset_name = \"Digits\"\n",
        "class_names = np.array([str(c) for c in DB.target_names])\n",
        "X_all = DB.data\n",
        "y_all = DB.target"
      ]
    },
    {
      "cell_type": "markdown",
      "metadata": {
        "id": "QvbEt6KwfSVm"
      },
      "source": [
        "### Unbalanced Digits dataset\n",
        "\n",
        "Adapted from the Digits dataset with digit 0 mapped to class '0' and all other digits mapped to class '1'"
      ]
    },
    {
      "cell_type": "code",
      "execution_count": 6,
      "metadata": {
        "colab": {
          "base_uri": "https://localhost:8080/"
        },
        "id": "c4TpTJFTcOYM",
        "outputId": "bb288a0b-257a-44ac-89d1-1fa756b5c1db"
      },
      "outputs": [
        {
          "name": "stdout",
          "output_type": "stream",
          "text": [
            "Percentage of non-zero digits: 0.900946\n"
          ]
        }
      ],
      "source": [
        "# Binary Digits unbalanced\n",
        "DB = datasets.load_digits()\n",
        "dataset_name = \"Digits_01_unbalanced\"\n",
        "class_names = np.array([\"0\",\"1\"])\n",
        "X_all = DB.data\n",
        "y_all = DB.target\n",
        "cont = 0\n",
        "for i in range(0,len(y_all)):\n",
        "  if y_all[i] != 0:\n",
        "    y_all[i] = 1\n",
        "    cont += 1\n",
        "print(\"Percentage of non-zero digits: %f\" %(cont/len(y_all)))"
      ]
    },
    {
      "cell_type": "markdown",
      "metadata": {
        "id": "w-FjcBe_bVSm"
      },
      "source": [
        "### Summary of the dataset\n",
        "\n",
        "Print some information about the dataset.\n",
        "\n",
        "Data structures\n",
        "\n",
        "    Input X: array ( n x m )\n",
        "    Output Y: array ( n x 1 )"
      ]
    },
    {
      "cell_type": "code",
      "execution_count": 7,
      "metadata": {
        "colab": {
          "base_uri": "https://localhost:8080/"
        },
        "id": "7kECuF5cgxxW",
        "outputId": "f9941f09-bd07-4f5e-b1ab-d10fb71b7764"
      },
      "outputs": [
        {
          "name": "stdout",
          "output_type": "stream",
          "text": [
            "Dataset: Digits_01_unbalanced\n",
            "Input shape: (1797, 64)\n",
            "Output shape: (1797,)\n",
            "Number of attributes/features: 64\n",
            "Number of classes: 2 ['0' '1']\n",
            "Number of samples: 1797\n"
          ]
        }
      ],
      "source": [
        "print(\"Dataset: %s\" %(dataset_name))\n",
        "print(\"Input shape: %s\" %str(X_all.shape))\n",
        "print(\"Output shape: %s\" %str(y_all.shape))\n",
        "print(\"Number of attributes/features: %d\" %(X_all.shape[1]))\n",
        "print(\"Number of classes: %d %s\" %(len(class_names), str(class_names)))\n",
        "print(\"Number of samples: %d\" %(X_all.shape[0]))"
      ]
    },
    {
      "cell_type": "markdown",
      "metadata": {
        "id": "aJrwXXvsrEHn"
      },
      "source": [
        "### Show an example\n",
        "\n",
        "Display a random sample."
      ]
    },
    {
      "cell_type": "code",
      "execution_count": 8,
      "metadata": {
        "colab": {
          "base_uri": "https://localhost:8080/"
        },
        "id": "-m2VMd9YrSBS",
        "outputId": "10891297-a2b9-4e62-daae-6985d15b3b96"
      },
      "outputs": [
        {
          "name": "stdout",
          "output_type": "stream",
          "text": [
            "x361 = array([ 0.,  0.,  3., 11., 15., 13.,  2.,  0.,  0.,  2., 15., 11.,  8.,\n",
            "       14.,  7.,  0.,  0.,  8., 14.,  0.,  2., 13.,  2.,  0.,  0.,  3.,\n",
            "       13., 16., 16., 15.,  1.,  0.,  0.,  0.,  0.,  0., 14.,  5.,  0.,\n",
            "        0.,  0.,  0.,  0.,  7., 14.,  0.,  0.,  0.,  0.,  0.,  1., 15.,\n",
            "        4.,  0.,  0.,  0.,  0.,  0.,  2., 16.,  1.,  0.,  0.,  0.])\n",
            "y361 = 1 ['1']\n"
          ]
        }
      ],
      "source": [
        "id = random.randrange(0,X_all.shape[0])\n",
        "\n",
        "print(\"x%d = %r\" %(id,X_all[id]))\n",
        "print(\"y%d = %r ['%s']\" %(id,y_all[id],class_names[y_all[id]]))"
      ]
    },
    {
      "cell_type": "markdown",
      "metadata": {
        "id": "eJ2bbJe8txnH"
      },
      "source": [
        "## Split data\n",
        "\n",
        "Split the data set in training set `X_train`, `y_train` and test set `X_test`, `y_test`, using `test_size` to denote percentage of samples in the test set.\n",
        "\n",
        "Note:\n",
        "`random_state` parameter is used as random seed. Change this value to generate a different split.\n",
        "\n",
        "IMPORTANT: solution will depend on this data split.\n"
      ]
    },
    {
      "cell_type": "code",
      "execution_count": 9,
      "metadata": {
        "colab": {
          "base_uri": "https://localhost:8080/"
        },
        "id": "IWKwFR-It1-D",
        "outputId": "85a66577-1dc5-40f8-f93f-661b05126c4a"
      },
      "outputs": [
        {
          "name": "stdout",
          "output_type": "stream",
          "text": [
            "Size of training set: 1198\n",
            "Size of test set: 599\n",
            "First training sample\n",
            "    x_train_0 = array([ 0.,  0.,  0.,  2., 15.,  4.,  0.,  0.,  0.,  0.,  0.,  8., 15.,\n",
            "        1.,  0.,  0.,  0.,  0.,  1., 14., 12.,  0.,  0.,  0.,  0.,  0.,\n",
            "        6., 16., 12.,  0.,  0.,  0.,  0.,  0., 13., 16., 15.,  4.,  2.,\n",
            "        0.,  0.,  9., 16., 16., 16., 16., 11.,  0.,  0.,  3.,  8.,  8.,\n",
            "       16.,  3.,  0.,  0.,  0.,  0.,  0.,  3., 15.,  0.,  0.,  0.])\n",
            "    y_train_0 = 1 ['1']\n",
            "First test sample\n",
            "    x_test_0 = array([ 0.,  0.,  1., 14., 16.,  8.,  0.,  0.,  0.,  0., 10., 16., 11.,\n",
            "        4.,  0.,  0.,  0.,  0.,  1., 11.,  1.,  0.,  0.,  0.,  0.,  1.,\n",
            "       12.,  3.,  0.,  0.,  0.,  0.,  0.,  2., 16., 14., 13.,  8.,  1.,\n",
            "        0.,  0.,  3., 16., 16., 13., 16.,  8.,  0.,  0.,  0., 12., 16.,\n",
            "        7., 15., 12.,  0.,  0.,  0.,  1., 13., 16., 16.,  8.,  0.])\n",
            "    y_test_0 = 1 ['1']\n"
          ]
        }
      ],
      "source": [
        "X_train, X_test, y_train, y_test = train_test_split(X_all, y_all, test_size=0.333,\n",
        "                                                    random_state=1127)\n",
        "\n",
        "print(\"Size of training set: %d\" %X_train.shape[0])\n",
        "print(\"Size of test set: %d\" %X_test.shape[0])\n",
        "\n",
        "print('First training sample')\n",
        "id = 0\n",
        "print(\"    x_train_%d = %r\" %(id,X_train[id]))\n",
        "print(\"    y_train_%d = %r ['%s']\" %(id,y_train[id],class_names[y_train[id]]))\n",
        "\n",
        "print('First test sample')\n",
        "id = 0\n",
        "print(\"    x_test_%d = %r\" %(id,X_test[id]))\n",
        "print(\"    y_test_%d = %r ['%s']\" %(id,y_test[id],class_names[y_test[id]]))\n"
      ]
    },
    {
      "cell_type": "markdown",
      "metadata": {
        "id": "R6DMvR8TzJiK"
      },
      "source": [
        "## Create a Model\n",
        "\n",
        "Define the model that will be used for learning.\n",
        "\n",
        "Create an instance of a class implementing a classification method.\n",
        "\n"
      ]
    },
    {
      "cell_type": "markdown",
      "metadata": {
        "id": "6wF3ZBlifcdK"
      },
      "source": [
        "**Decision Trees**\n",
        "\n",
        "https://scikit-learn.org/stable/modules/generated/sklearn.tree.DecisionTreeClassifier.html#sklearn.tree.DecisionTreeClassifier"
      ]
    },
    {
      "cell_type": "code",
      "execution_count": 10,
      "metadata": {
        "id": "FQekMBE3fhWm"
      },
      "outputs": [],
      "source": [
        "model = tree.DecisionTreeClassifier()"
      ]
    },
    {
      "cell_type": "markdown",
      "metadata": {
        "id": "y7dPHeFNH_mI"
      },
      "source": [
        "**Support Vector Machines**\n",
        "\n",
        "https://scikit-learn.org/stable/modules/generated/sklearn.svm.SVC.html?highlight=svm%20svc#sklearn.svm.SVC"
      ]
    },
    {
      "cell_type": "code",
      "execution_count": 11,
      "metadata": {
        "id": "FDioTwgArEH7"
      },
      "outputs": [],
      "source": [
        "model = svm.SVC(kernel='linear', C=1)"
      ]
    },
    {
      "cell_type": "markdown",
      "metadata": {
        "id": "T9EuWXAhGxw-"
      },
      "source": [
        "Probabilistic generative model\n",
        "\n",
        "**Gaussian Naive Bayes**\n",
        "\n",
        "https://scikit-learn.org/stable/modules/generated/sklearn.naive_bayes.GaussianNB.html?highlight=gaussiannb#sklearn.naive_bayes.GaussianNB\n"
      ]
    },
    {
      "cell_type": "code",
      "execution_count": 12,
      "metadata": {
        "id": "Ul0R20-HGPjD"
      },
      "outputs": [],
      "source": [
        "model = GaussianNB()"
      ]
    },
    {
      "cell_type": "markdown",
      "metadata": {
        "id": "21sijhYOHa0q"
      },
      "source": [
        "Probabilistic discriminative model\n",
        "\n",
        "**Logistic regression**\n",
        "\n",
        "https://scikit-learn.org/stable/modules/generated/sklearn.linear_model.LogisticRegression.html?highlight=logisticregression#sklearn.linear_model.LogisticRegression\n"
      ]
    },
    {
      "cell_type": "code",
      "execution_count": 13,
      "metadata": {
        "id": "cFR5WkyKHzB4"
      },
      "outputs": [],
      "source": [
        "model = LogisticRegression()"
      ]
    },
    {
      "cell_type": "markdown",
      "metadata": {
        "id": "x1_S2b21XlIp"
      },
      "source": [
        "## Dataset's standardization\n",
        "The goal of standardization is to ensure that all features have similar scales, typically with a mean of 0 and a standard deviation of 1. This process helps improve the performance and convergence of various machine learning algorithms, especially those that are sensitive to the scale of input features.\n",
        "\n",
        "More details on how to apply standardization at https://scikit-learn.org/stable/modules/preprocessing.html and on the importance of feature scaling at https://scikit-learn.org/stable/auto_examples/preprocessing/plot_scaling_importance.html#sphx-glr-auto-examples-preprocessing-plot-scaling-importance-py.\n",
        "\n",
        "\n"
      ]
    },
    {
      "cell_type": "code",
      "execution_count": 14,
      "metadata": {
        "id": "f75eKUXsW5cZ"
      },
      "outputs": [],
      "source": [
        "pipe = make_pipeline(preprocessing.StandardScaler(), model)"
      ]
    },
    {
      "cell_type": "markdown",
      "metadata": {
        "id": "PmorfnRhHaw8"
      },
      "source": [
        "## Fit the model\n",
        "\n",
        "Finding a solution for this model given the data set.\n",
        "The solution is stored in the model object.\n"
      ]
    },
    {
      "cell_type": "code",
      "execution_count": 15,
      "metadata": {
        "colab": {
          "base_uri": "https://localhost:8080/",
          "height": 126
        },
        "id": "vaBApsjDHxrY",
        "outputId": "91222ab3-09f2-477d-8ff5-5559dc126069"
      },
      "outputs": [
        {
          "data": {
            "text/html": [
              "<style>#sk-container-id-1 {color: black;}#sk-container-id-1 pre{padding: 0;}#sk-container-id-1 div.sk-toggleable {background-color: white;}#sk-container-id-1 label.sk-toggleable__label {cursor: pointer;display: block;width: 100%;margin-bottom: 0;padding: 0.3em;box-sizing: border-box;text-align: center;}#sk-container-id-1 label.sk-toggleable__label-arrow:before {content: \"▸\";float: left;margin-right: 0.25em;color: #696969;}#sk-container-id-1 label.sk-toggleable__label-arrow:hover:before {color: black;}#sk-container-id-1 div.sk-estimator:hover label.sk-toggleable__label-arrow:before {color: black;}#sk-container-id-1 div.sk-toggleable__content {max-height: 0;max-width: 0;overflow: hidden;text-align: left;background-color: #f0f8ff;}#sk-container-id-1 div.sk-toggleable__content pre {margin: 0.2em;color: black;border-radius: 0.25em;background-color: #f0f8ff;}#sk-container-id-1 input.sk-toggleable__control:checked~div.sk-toggleable__content {max-height: 200px;max-width: 100%;overflow: auto;}#sk-container-id-1 input.sk-toggleable__control:checked~label.sk-toggleable__label-arrow:before {content: \"▾\";}#sk-container-id-1 div.sk-estimator input.sk-toggleable__control:checked~label.sk-toggleable__label {background-color: #d4ebff;}#sk-container-id-1 div.sk-label input.sk-toggleable__control:checked~label.sk-toggleable__label {background-color: #d4ebff;}#sk-container-id-1 input.sk-hidden--visually {border: 0;clip: rect(1px 1px 1px 1px);clip: rect(1px, 1px, 1px, 1px);height: 1px;margin: -1px;overflow: hidden;padding: 0;position: absolute;width: 1px;}#sk-container-id-1 div.sk-estimator {font-family: monospace;background-color: #f0f8ff;border: 1px dotted black;border-radius: 0.25em;box-sizing: border-box;margin-bottom: 0.5em;}#sk-container-id-1 div.sk-estimator:hover {background-color: #d4ebff;}#sk-container-id-1 div.sk-parallel-item::after {content: \"\";width: 100%;border-bottom: 1px solid gray;flex-grow: 1;}#sk-container-id-1 div.sk-label:hover label.sk-toggleable__label {background-color: #d4ebff;}#sk-container-id-1 div.sk-serial::before {content: \"\";position: absolute;border-left: 1px solid gray;box-sizing: border-box;top: 0;bottom: 0;left: 50%;z-index: 0;}#sk-container-id-1 div.sk-serial {display: flex;flex-direction: column;align-items: center;background-color: white;padding-right: 0.2em;padding-left: 0.2em;position: relative;}#sk-container-id-1 div.sk-item {position: relative;z-index: 1;}#sk-container-id-1 div.sk-parallel {display: flex;align-items: stretch;justify-content: center;background-color: white;position: relative;}#sk-container-id-1 div.sk-item::before, #sk-container-id-1 div.sk-parallel-item::before {content: \"\";position: absolute;border-left: 1px solid gray;box-sizing: border-box;top: 0;bottom: 0;left: 50%;z-index: -1;}#sk-container-id-1 div.sk-parallel-item {display: flex;flex-direction: column;z-index: 1;position: relative;background-color: white;}#sk-container-id-1 div.sk-parallel-item:first-child::after {align-self: flex-end;width: 50%;}#sk-container-id-1 div.sk-parallel-item:last-child::after {align-self: flex-start;width: 50%;}#sk-container-id-1 div.sk-parallel-item:only-child::after {width: 0;}#sk-container-id-1 div.sk-dashed-wrapped {border: 1px dashed gray;margin: 0 0.4em 0.5em 0.4em;box-sizing: border-box;padding-bottom: 0.4em;background-color: white;}#sk-container-id-1 div.sk-label label {font-family: monospace;font-weight: bold;display: inline-block;line-height: 1.2em;}#sk-container-id-1 div.sk-label-container {text-align: center;}#sk-container-id-1 div.sk-container {/* jupyter's `normalize.less` sets `[hidden] { display: none; }` but bootstrap.min.css set `[hidden] { display: none !important; }` so we also need the `!important` here to be able to override the default hidden behavior on the sphinx rendered scikit-learn.org. See: https://github.com/scikit-learn/scikit-learn/issues/21755 */display: inline-block !important;position: relative;}#sk-container-id-1 div.sk-text-repr-fallback {display: none;}</style><div id=\"sk-container-id-1\" class=\"sk-top-container\"><div class=\"sk-text-repr-fallback\"><pre>Pipeline(steps=[(&#x27;standardscaler&#x27;, StandardScaler()),\n",
              "                (&#x27;logisticregression&#x27;, LogisticRegression())])</pre><b>In a Jupyter environment, please rerun this cell to show the HTML representation or trust the notebook. <br />On GitHub, the HTML representation is unable to render, please try loading this page with nbviewer.org.</b></div><div class=\"sk-container\" hidden><div class=\"sk-item sk-dashed-wrapped\"><div class=\"sk-label-container\"><div class=\"sk-label sk-toggleable\"><input class=\"sk-toggleable__control sk-hidden--visually\" id=\"sk-estimator-id-1\" type=\"checkbox\" ><label for=\"sk-estimator-id-1\" class=\"sk-toggleable__label sk-toggleable__label-arrow\">Pipeline</label><div class=\"sk-toggleable__content\"><pre>Pipeline(steps=[(&#x27;standardscaler&#x27;, StandardScaler()),\n",
              "                (&#x27;logisticregression&#x27;, LogisticRegression())])</pre></div></div></div><div class=\"sk-serial\"><div class=\"sk-item\"><div class=\"sk-estimator sk-toggleable\"><input class=\"sk-toggleable__control sk-hidden--visually\" id=\"sk-estimator-id-2\" type=\"checkbox\" ><label for=\"sk-estimator-id-2\" class=\"sk-toggleable__label sk-toggleable__label-arrow\">StandardScaler</label><div class=\"sk-toggleable__content\"><pre>StandardScaler()</pre></div></div></div><div class=\"sk-item\"><div class=\"sk-estimator sk-toggleable\"><input class=\"sk-toggleable__control sk-hidden--visually\" id=\"sk-estimator-id-3\" type=\"checkbox\" ><label for=\"sk-estimator-id-3\" class=\"sk-toggleable__label sk-toggleable__label-arrow\">LogisticRegression</label><div class=\"sk-toggleable__content\"><pre>LogisticRegression()</pre></div></div></div></div></div></div></div>"
            ],
            "text/plain": [
              "Pipeline(steps=[('standardscaler', StandardScaler()),\n",
              "                ('logisticregression', LogisticRegression())])"
            ]
          },
          "execution_count": 15,
          "metadata": {},
          "output_type": "execute_result"
        }
      ],
      "source": [
        "pipe.fit(X_train, y_train)"
      ]
    },
    {
      "cell_type": "markdown",
      "metadata": {
        "id": "XYkjEL1ozy_r"
      },
      "source": [
        "### Plot the decision tree\n"
      ]
    },
    {
      "cell_type": "code",
      "execution_count": 16,
      "metadata": {
        "id": "pRGzfVuNzWni"
      },
      "outputs": [],
      "source": [
        "# only for DecisionTrees model\n",
        "\n",
        "if isinstance(model, tree.DecisionTreeClassifier):\n",
        "  tree.plot_tree(model,fontsize=12)\n",
        "  plt.rcParams[\"figure.figsize\"] = (10,20)\n",
        "  plt.show()"
      ]
    },
    {
      "cell_type": "markdown",
      "metadata": {
        "id": "MEiAh78A24DZ"
      },
      "source": [
        "## Predict on test set\n",
        "\n",
        "Use test set for prediction."
      ]
    },
    {
      "cell_type": "code",
      "execution_count": 17,
      "metadata": {
        "id": "ZsEXCZ0A20C8"
      },
      "outputs": [],
      "source": [
        "y_pred = pipe.predict(X_test)"
      ]
    },
    {
      "cell_type": "markdown",
      "metadata": {
        "id": "825hsaiDgj2U"
      },
      "source": [
        "Use this statement to generate a prediction vector of all values '1' useful to test performance with the Unblanced Digits dataset.\n",
        "\n"
      ]
    },
    {
      "cell_type": "code",
      "execution_count": null,
      "metadata": {
        "id": "M8ogH5F_hDO9"
      },
      "outputs": [],
      "source": [
        "# Result of model that predicts only 1 (for unblanced digits)\n",
        "#y_pred = np.ones(len(X_test))"
      ]
    },
    {
      "cell_type": "markdown",
      "metadata": {
        "id": "LfDeJb0Juofu"
      },
      "source": [
        "## Evaluate the Model\n",
        "\n",
        "Evaluation of a specific solution on the test set, comparing predicted values `y_pred` with test values `y_test`."
      ]
    },
    {
      "cell_type": "markdown",
      "metadata": {
        "id": "NKD7632rv-xZ"
      },
      "source": [
        "### Accuracy"
      ]
    },
    {
      "cell_type": "code",
      "execution_count": 18,
      "metadata": {
        "colab": {
          "base_uri": "https://localhost:8080/"
        },
        "id": "P0N3cUSazRcJ",
        "outputId": "f6380f45-ae1f-48d8-f308-553fae8d9fdb"
      },
      "outputs": [
        {
          "name": "stdout",
          "output_type": "stream",
          "text": [
            "Accuracy 0.997\n"
          ]
        }
      ],
      "source": [
        "acc = pipe.score(X_test, y_test)\n",
        "print(\"Accuracy %.3f\" %acc)"
      ]
    },
    {
      "cell_type": "markdown",
      "metadata": {
        "id": "4zY5aEGWwMj1"
      },
      "source": [
        "### Precision & Recall\n",
        "\n",
        "Classification report contains more accurate performance information."
      ]
    },
    {
      "cell_type": "code",
      "execution_count": 19,
      "metadata": {
        "colab": {
          "base_uri": "https://localhost:8080/"
        },
        "id": "G2bdFwMhwLJN",
        "outputId": "fc2d9884-b482-4f51-c6a5-f126bb2daa45"
      },
      "outputs": [
        {
          "name": "stdout",
          "output_type": "stream",
          "text": [
            "              precision    recall  f1-score   support\n",
            "\n",
            "           0      1.000     0.956     0.977        45\n",
            "           1      0.996     1.000     0.998       554\n",
            "\n",
            "    accuracy                          0.997       599\n",
            "   macro avg      0.998     0.978     0.988       599\n",
            "weighted avg      0.997     0.997     0.997       599\n",
            "\n"
          ]
        }
      ],
      "source": [
        "print(classification_report(y_test, y_pred, labels=None, target_names=class_names, digits=3))"
      ]
    },
    {
      "cell_type": "markdown",
      "metadata": {
        "id": "q1EwWO9m3bGg"
      },
      "source": [
        "### Confusion Matrix\n",
        "\n",
        "Shows the results in a graphical form."
      ]
    },
    {
      "cell_type": "code",
      "execution_count": 20,
      "metadata": {
        "id": "YapkjZ0WNLgs"
      },
      "outputs": [],
      "source": [
        "def plot_confusion_matrix(y_true, y_pred, classes,\n",
        "                          normalize=False,\n",
        "                          title=None,\n",
        "                          cmap=plt.cm.Blues):\n",
        "    \"\"\"\n",
        "    This function prints and plots the confusion matrix.\n",
        "    Normalization can be applied by setting `normalize=True`.\n",
        "    \"\"\"\n",
        "    if not title:\n",
        "        if normalize:\n",
        "            title = 'Normalized confusion matrix'\n",
        "        else:\n",
        "            title = 'Confusion matrix, without normalization'\n",
        "\n",
        "    # Compute confusion matrix\n",
        "    cm = confusion_matrix(y_true, y_pred)\n",
        "    # Only use the labels that appear in the data\n",
        "    classes = classes[unique_labels(y_true, y_pred)]\n",
        "    if normalize:\n",
        "        cm = cm.astype('float') / cm.sum(axis=1)[:, np.newaxis]\n",
        "        #print(\"Normalized confusion matrix\")\n",
        "    else:\n",
        "        pass\n",
        "        #print('Confusion matrix, without normalization')\n",
        "\n",
        "    #print(cm)\n",
        "\n",
        "    fig, ax = plt.subplots()\n",
        "    im = ax.imshow(cm, interpolation='nearest', cmap=cmap)\n",
        "    ax.figure.colorbar(im, ax=ax)\n",
        "    # We want to show all ticks...\n",
        "    ax.set(xticks=np.arange(cm.shape[1]),\n",
        "           yticks=np.arange(cm.shape[0]),\n",
        "           # ... and label them with the respective list entries\n",
        "           xticklabels=classes, yticklabels=classes,\n",
        "           title=title,\n",
        "           ylabel='True label',\n",
        "           xlabel='Predicted label')\n",
        "\n",
        "    ax.set_ylim(len(classes)-0.5, -0.5)\n",
        "\n",
        "    # Rotate the tick labels and set their alignment.\n",
        "    plt.setp(ax.get_xticklabels(), rotation=45, ha=\"right\",\n",
        "             rotation_mode=\"anchor\")\n",
        "\n",
        "    # Loop over data dimensions and create text annotations.\n",
        "    fmt = '.2f' if normalize else 'd'\n",
        "    thresh = cm.max() / 2.\n",
        "    for i in range(cm.shape[0]):\n",
        "        for j in range(cm.shape[1]):\n",
        "            ax.text(j, i, format(cm[i, j], fmt),\n",
        "                    ha=\"center\", va=\"center\",\n",
        "                    color=\"white\" if cm[i, j] > thresh else \"black\")\n",
        "    fig.tight_layout()\n",
        "    return ax"
      ]
    },
    {
      "cell_type": "code",
      "execution_count": 21,
      "metadata": {
        "colab": {
          "base_uri": "https://localhost:8080/",
          "height": 1000
        },
        "id": "IGOYxPNzy3vy",
        "outputId": "15493cc8-6bfc-4db5-e5b9-b30d665976cd"
      },
      "outputs": [
        {
          "name": "stdout",
          "output_type": "stream",
          "text": [
            "[[ 43   2]\n",
            " [  0 554]]\n"
          ]
        },
        {
          "data": {
            "text/plain": [
              "<Axes: title={'center': 'Confusion matrix, without normalization'}, xlabel='Predicted label', ylabel='True label'>"
            ]
          },
          "execution_count": 21,
          "metadata": {},
          "output_type": "execute_result"
        },
        {
          "data": {
            "image/png": "[encoded data removed]",
            "text/plain": [
              "<Figure size 1000x1000 with 2 Axes>"
            ]
          },
          "metadata": {},
          "output_type": "display_data"
        }
      ],
      "source": [
        "cm = confusion_matrix(y_test, y_pred, labels=None, sample_weight=None)\n",
        "print(cm)\n",
        "plt.rcParams[\"figure.figsize\"] = (10,10)\n",
        "plot_confusion_matrix(y_test, y_pred, classes=class_names, normalize=False)"
      ]
    },
    {
      "cell_type": "markdown",
      "metadata": {
        "id": "xFH2OgGotJ76"
      },
      "source": [
        "## Evaluate a specific instance of a method\n",
        "\n",
        "Evaluation of a specific method with instantiated hyper-parameters\n",
        "through Cross Validation\n",
        "\n",
        "Additional splitting methods described in https://scikit-learn.org/stable/modules/classes.html#module-sklearn.model_selection\n"
      ]
    },
    {
      "cell_type": "code",
      "execution_count": 22,
      "metadata": {
        "colab": {
          "base_uri": "https://localhost:8080/"
        },
        "id": "IrxPaAovtV3z",
        "outputId": "0bacbd7b-5e74-4eac-ff22-01937ad9a028"
      },
      "outputs": [
        {
          "name": "stdout",
          "output_type": "stream",
          "text": [
            "[1.         1.         0.99833055 0.99833055 0.99833055]\n",
            "Accuracy: 0.999 (+/- 0.00)\n"
          ]
        }
      ],
      "source": [
        "# Cross Validation\n",
        "cv = ShuffleSplit(n_splits=5, test_size=0.333, random_state=145)\n",
        "scores = cross_val_score(pipe, X_all, y_all, cv=cv)\n",
        "print(scores)\n",
        "print(\"Accuracy: %0.3f (+/- %0.2f)\" % (scores.mean(), scores.std() * 2))"
      ]
    },
    {
      "cell_type": "markdown",
      "metadata": {
        "id": "0hVbM8WLrXMh"
      },
      "source": [
        "## Prediction of a new sample"
      ]
    },
    {
      "cell_type": "code",
      "execution_count": 23,
      "metadata": {
        "colab": {
          "base_uri": "https://localhost:8080/"
        },
        "id": "rIFijWnPrc2L",
        "outputId": "e22e55cf-d1ad-41d7-d142-bb8e925afdab"
      },
      "outputs": [
        {
          "name": "stdout",
          "output_type": "stream",
          "text": [
            "x_new = array([[ 0,  0,  8, 13, 18, 13, 11,  1,  0, 10,  9,  4,  6, 16,  3,  0,\n",
            "         0,  0,  0, 10,  1, 13,  0,  0,  0,  0,  0,  7, 14,  2,  0,  0,\n",
            "         0,  0,  0,  7, 13,  1,  0,  0,  0,  0,  0,  0,  8, 13,  1,  0,\n",
            "         0,  0,  0,  0, 13,  6,  7,  1,  0,  0, 14, 12, 13,  1,  0,  0]])\n",
            "y_pred = 1 ['1']\n",
            "Confidence: 1.00\n"
          ]
        },
        {
          "name": "stderr",
          "output_type": "stream",
          "text": [
            "/tmp/ipykernel_27689/4157857046.py:18: DeprecationWarning: Conversion of an array with ndim > 0 to a scalar is deprecated, and will error in future. Ensure you extract a single element from your array before performing this operation. (Deprecated NumPy 1.25.)\n",
            "  print(\"y_pred = %d %s\" %(ynew,class_names[ynew]))\n"
          ]
        }
      ],
      "source": [
        "if dataset_name == \"Iris\":\n",
        "  xnew = np.array([8.5, 2.6, 9.2, 0.3])\n",
        "elif dataset_name == \"Wines\":\n",
        "  xnew = np.array([12, 2.5, 2.6, 15, 186, 1.5, 9.1,\n",
        "                   0.44, 2.2, 5.6, 2.9, 3.7, 380])\n",
        "elif dataset_name == \"Digits\" or dataset_name == \"Digits_01_unbalanced\":\n",
        "   xnew = np.array([\n",
        "        0,  0,  8, 13, 18, 13, 11,  1,  0, 10,  9,  4,  6,\n",
        "       16,  3,  0,  0,  0,  0, 10,  1, 13,  0,  0,  0,  0,\n",
        "        0,  7, 14,  2,  0,  0,  0,  0,  0,  7, 13,  1,  0,\n",
        "        0,  0,  0,  0,  0,  8, 13,  1,  0,  0,  0,  0,  0,\n",
        "       13,  6,  7,  1,  0,  0, 14, 12, 13,  1,  0,  0])\n",
        "\n",
        "xnew = xnew.reshape(1,-1)\n",
        "\n",
        "print(\"x_new = %r\" %(xnew))\n",
        "ynew = model.predict(xnew)\n",
        "print(\"y_pred = %d %s\" %(ynew,class_names[ynew]))\n",
        "\n",
        "# only for probabilistic models\n",
        "try:\n",
        "  mconf = np.max(model.predict_proba(xnew))\n",
        "  print(\"Confidence: %.2f\" %(mconf))\n",
        "except:\n",
        "  pass"
      ]
    },
    {
      "cell_type": "markdown",
      "metadata": {
        "id": "66VfEN_m6lVJ"
      },
      "source": [
        "## Common Mistake\n",
        "\n",
        "Evaluate solution on data used for training!!!\n"
      ]
    },
    {
      "cell_type": "code",
      "execution_count": 26,
      "metadata": {
        "colab": {
          "base_uri": "https://localhost:8080/"
        },
        "id": "R1PgiDeh6j4m",
        "outputId": "789c0e0c-2b54-405c-f2b2-f1c215eaf050"
      },
      "outputs": [
        {
          "data": {
            "text/plain": [
              "0.9988870339454646"
            ]
          },
          "execution_count": 26,
          "metadata": {},
          "output_type": "execute_result"
        }
      ],
      "source": [
        "pipe.score(X_all,y_all)"
      ]
    },
    {
      "cell_type": "markdown",
      "metadata": {
        "id": "a-aJYM3JXRyN"
      },
      "source": [
        "## Home Exercises\n",
        "\n",
        "**Question 1**\n",
        "\n",
        "Design an evaluation procedure to assess and compare the different performance of the classification models seen above on the Digits dataset\n",
        "\n",
        "**Question 2**\n",
        "\n",
        "Consider the Unbalanced Digits dataset and compare one of the above classification method with the classifier that always returns the most common label in the dataset. Which performance metrics are significant in this comparison?\n",
        "\n",
        "**Question 3**\n",
        "\n",
        "Try removing the standardization step. How does this affect the training and performance of the different classification models?\n",
        "\n",
        "\n",
        "  \n"
      ]
    }
  ],
  "metadata": {
    "colab": {
      "provenance": []
    },
    "kernelspec": {
      "display_name": "Python 3",
      "name": "python3"
    },
    "language_info": {
      "codemirror_mode": {
        "name": "ipython",
        "version": 3
      },
      "file_extension": ".py",
      "mimetype": "text/x-python",
      "name": "python",
      "nbconvert_exporter": "python",
      "pygments_lexer": "ipython3",
      "version": "3.11.6"
    }
  },
  "nbformat": 4,
  "nbformat_minor": 0
}
