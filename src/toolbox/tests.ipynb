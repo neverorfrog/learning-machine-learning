{
 "cells": [
  {
   "cell_type": "code",
   "execution_count": 1,
   "metadata": {},
   "outputs": [
    {
     "name": "stdout",
     "output_type": "stream",
     "text": [
      "tensor([0.])\n"
     ]
    }
   ],
   "source": [
    "import torch\n",
    "import numpy as np\n",
    "\n",
    "x = np.array([2,3,4])\n",
    "y = np.power(x,1)\n",
    "y\n",
    "\n",
    "print(torch.zeros(1)) "
   ]
  },
  {
   "cell_type": "code",
   "execution_count": 14,
   "metadata": {},
   "outputs": [
    {
     "name": "stdout",
     "output_type": "stream",
     "text": [
      "tensor([[0.5263, 0.2437, 0.5846],\n",
      "        [0.0332, 0.1387, 0.2422],\n",
      "        [0.8155, 0.7932, 0.2783],\n",
      "        [0.4820, 0.8198, 0.9971]])\n",
      "tensor([[1., 1., 1.]])\n",
      "tensor([[1.5263, 1.2437, 1.5846],\n",
      "        [1.0332, 1.1387, 1.2422],\n",
      "        [1.8155, 1.7932, 1.2783],\n",
      "        [1.4820, 1.8198, 1.9971]])\n"
     ]
    },
    {
     "data": {
      "text/plain": [
       "(tensor([[1.4224, 1.4059, 1.6325],\n",
       "         [2.0145, 2.2865, 2.3635],\n",
       "         [1.7389, 1.8048, 1.9171],\n",
       "         [1.5069, 1.6870, 1.6527],\n",
       "         [1.6611, 1.6401, 1.9279],\n",
       "         [2.1342, 2.3246, 2.6022],\n",
       "         [2.0334, 1.9642, 1.6803],\n",
       "         [1.8079, 2.1030, 2.2129],\n",
       "         [1.2397, 1.2258, 1.2418],\n",
       "         [2.0878, 2.3618, 2.2883]]),\n",
       " tensor([[1.9074, 1.8909, 2.1174],\n",
       "         [3.3426, 3.6145, 3.6915],\n",
       "         [2.5774, 2.6433, 2.7557],\n",
       "         [1.5105, 1.6906, 1.6563],\n",
       "         [2.6020, 2.5811, 2.8689],\n",
       "         [4.0023, 4.1927, 4.4703],\n",
       "         [2.9946, 2.9254, 2.6415],\n",
       "         [2.6036, 2.8987, 3.0086],\n",
       "         [0.8678, 0.8540, 0.8699],\n",
       "         [3.6912, 3.9652, 3.8916]]))"
      ]
     },
     "execution_count": 14,
     "metadata": {},
     "output_type": "execute_result"
    }
   ],
   "source": [
    "import numpy as np\n",
    "import torch\n",
    "\n",
    "torch.manual_seed(0)\n",
    "X = torch.rand((10,4))\n",
    "w = torch.rand((4,3))\n",
    "b = torch.ones((1,3))\n",
    "\n",
    "print(w)\n",
    "print(b)\n",
    "print(w+b)\n",
    "\n",
    "(X @ w) + b, X @ (w + b) "
   ]
  },
  {
   "cell_type": "code",
   "execution_count": 18,
   "metadata": {},
   "outputs": [
    {
     "name": "stdout",
     "output_type": "stream",
     "text": [
      "tensor([[0.9380, 1.4900, 1.3351],\n",
      "        [0.6867, 1.1903, 1.8075],\n",
      "        [0.9562, 2.1107, 1.3131],\n",
      "        [1.8173, 0.8967, 1.3076]])\n",
      "tensor([[2.5548, 4.4370, 3.8004],\n",
      "        [1.9872, 3.2881, 6.0952],\n",
      "        [2.6019, 8.2541, 3.7179],\n",
      "        [6.1554, 2.4514, 3.6973]])\n"
     ]
    },
    {
     "data": {
      "text/plain": [
       "tensor([1.0000, 1.0000, 1.0000, 1.0000])"
      ]
     },
     "execution_count": 18,
     "metadata": {},
     "output_type": "execute_result"
    }
   ],
   "source": [
    "import numpy as np\n",
    "import torch\n",
    "\n",
    "torch.manual_seed(0)\n",
    "X = torch.rand((4,3)) + torch.rand((4,3)) + torch.rand((4,3))\n",
    "expx = torch.exp(X)\n",
    "print(X)\n",
    "print(expx)\n",
    "partition = expx.sum(dim = 1, keepdim = True)\n",
    "softmax = expx / partition"
   ]
  }
 ],
 "metadata": {
  "kernelspec": {
   "display_name": "base",
   "language": "python",
   "name": "python3"
  },
  "language_info": {
   "codemirror_mode": {
    "name": "ipython",
    "version": 3
   },
   "file_extension": ".py",
   "mimetype": "text/x-python",
   "name": "python",
   "nbconvert_exporter": "python",
   "pygments_lexer": "ipython3",
   "version": "3.10.9"
  },
  "orig_nbformat": 4
 },
 "nbformat": 4,
 "nbformat_minor": 2
}
