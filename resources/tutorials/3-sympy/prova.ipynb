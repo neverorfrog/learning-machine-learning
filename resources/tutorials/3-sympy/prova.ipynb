{
 "cells": [
  {
   "cell_type": "code",
   "execution_count": 1,
   "metadata": {},
   "outputs": [
    {
     "name": "stdout",
     "output_type": "stream",
     "text": [
      "(l1, l2, l3)\n"
     ]
    },
    {
     "ename": "NameError",
     "evalue": "name 'r' is not defined",
     "output_type": "error",
     "traceback": [
      "\u001b[0;31m---------------------------------------------------------------------------\u001b[0m",
      "\u001b[0;31mNameError\u001b[0m                                 Traceback (most recent call last)",
      "Cell \u001b[0;32mIn[1], line 9\u001b[0m\n\u001b[1;32m      5\u001b[0m \u001b[39mprint\u001b[39m(symbols(\u001b[39m'\u001b[39m\u001b[39ml1:4\u001b[39m\u001b[39m'\u001b[39m))\n\u001b[1;32m      7\u001b[0m \u001b[39m#r = [l1*cos(q1)+l2*cos(q2+q3) , l1*sin(q1)+l2*sin(q2+q3)]\u001b[39;00m\n\u001b[0;32m----> 9\u001b[0m \u001b[39mprint\u001b[39m(r)\n",
      "\u001b[0;31mNameError\u001b[0m: name 'r' is not defined"
     ]
    }
   ],
   "source": [
    "from sympy import symbols\n",
    "#import numpy as np\n",
    "\n",
    "q = symbols('q1:4')\n",
    "print(symbols('l1:4'))\n",
    "\n",
    "#r = [l1*cos(q1)+l2*cos(q2+q3) , l1*sin(q1)+l2*sin(q2+q3)]\n",
    "\n",
    "print(r)"
   ]
  }
 ],
 "metadata": {
  "kernelspec": {
   "display_name": "Python 3",
   "language": "python",
   "name": "python3"
  },
  "language_info": {
   "codemirror_mode": {
    "name": "ipython",
    "version": 3
   },
   "file_extension": ".py",
   "mimetype": "text/x-python",
   "name": "python",
   "nbconvert_exporter": "python",
   "pygments_lexer": "ipython3",
   "version": "3.10.9"
  },
  "orig_nbformat": 4
 },
 "nbformat": 4,
 "nbformat_minor": 2
}
