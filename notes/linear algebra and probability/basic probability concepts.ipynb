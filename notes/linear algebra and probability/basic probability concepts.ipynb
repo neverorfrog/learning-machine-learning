{
 "cells": [
  {
   "attachments": {},
   "cell_type": "markdown",
   "metadata": {},
   "source": [
    "# Likelihood\n",
    "\n",
    "### Definition\n",
    "- Let X1, X2, ..., Xn have a joint density function p(X1, X2, ..., Xn|θ)  \n",
    "- Given X1 = x1, X2 = x2, ..., Xn = xn is observed\n",
    "- L(θ) = L(θ|x1, x2, ..., xn) = p(x1, x2, ..., xn|θ) is the likelihood function\n",
    "\n",
    "### Intuitively\n",
    "- It means in L we observe results and \"keep them fixed\" and look at how probabilities of having that results change when changing the parameter $\\theta$  \n",
    "- Likelihood tells you the probability (under the model ...) of the data, if data was generated according to that value of θ\n",
    "- The likelihood function is not a probability density function.\n",
    "\n",
    "\n",
    "## Difference with posterior probability\n",
    "\n",
    "- Likelihood takes into account that some examples were already drawn\n",
    "- Posterior probability is computed even before we sample the distribution\n",
    "- Posterior $ \\implies  p(x | y)$\n",
    "- Likelihood $ \\implies L(w) = p(y | x; w) $ and it's not a pmf becaus $w$ is not a random variable"
   ]
  }
 ],
 "metadata": {
  "language_info": {
   "name": "python"
  },
  "orig_nbformat": 4
 },
 "nbformat": 4,
 "nbformat_minor": 2
}
