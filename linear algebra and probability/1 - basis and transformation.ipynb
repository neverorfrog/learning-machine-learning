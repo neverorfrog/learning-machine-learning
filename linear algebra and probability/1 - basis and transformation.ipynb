{
 "cells": [
  {
   "attachments": {},
   "cell_type": "markdown",
   "metadata": {},
   "source": [
    "# Basics of Linear Algebra 1 \n",
    "\n",
    "## What is a linear transformation?\n",
    "\n",
    "[3Blue1Brown](https://www.3blue1brown.com/lessons/linear-transformations)\n",
    "\n",
    "## Change of basis\n",
    "\n",
    "### What is a basis?\n",
    "\n",
    "- We can define a basis as n linearly independent vectors (which are always columns)\n",
    "- These vectors define the coordinate system in which every vector is a scaled version of the basis vectors\n",
    "\n",
    "### Changing the basis\n",
    "\n",
    "- If we have two sets of basis vectors A and B, when expressed in their own RF they all are the identity matrix\n",
    "- But when we express eg B as seen from A this is what happens:\n",
    "  - We have a vector expressed in frame B\n",
    "  - Then B is a transformation that maps frame A to frame B\n",
    "  - And by multiplying B by a vector we apply a transformation, namely we bring a vector expressed in B into A\n",
    "\n",
    "## Projection onto a subspace\n",
    "\n",
    "[MML Book](https://mml-book.github.io/book/mml-book.pdf#page=87)"
   ]
  }
 ],
 "metadata": {
  "language_info": {
   "name": "python"
  },
  "orig_nbformat": 4
 },
 "nbformat": 4,
 "nbformat_minor": 2
}
