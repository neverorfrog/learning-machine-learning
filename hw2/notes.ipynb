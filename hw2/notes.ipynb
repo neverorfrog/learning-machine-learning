{
 "cells": [
  {
   "cell_type": "markdown",
   "metadata": {},
   "source": [
    "- Data augmentation needs to be changed. As it is, it worsens things\n",
    "- Weighted sampling needs to be reconsidered\n",
    "- What if we consider two subsequent models?"
   ]
  }
 ],
 "metadata": {
  "language_info": {
   "name": "python"
  }
 },
 "nbformat": 4,
 "nbformat_minor": 2
}
